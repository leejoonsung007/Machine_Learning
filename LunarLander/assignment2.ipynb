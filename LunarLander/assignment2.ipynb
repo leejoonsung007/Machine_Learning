{
 "cells": [
  {
   "cell_type": "markdown",
   "metadata": {},
   "source": [
    "### Package import"
   ]
  },
  {
   "cell_type": "code",
   "execution_count": 1,
   "metadata": {},
   "outputs": [
    {
     "name": "stderr",
     "output_type": "stream",
     "text": [
      "/Users/leejoonsung/anaconda/lib/python3.6/site-packages/h5py/__init__.py:34: FutureWarning: Conversion of the second argument of issubdtype from `float` to `np.floating` is deprecated. In future, it will be treated as `np.float64 == np.dtype(float).type`.\n",
      "  from ._conv import register_converters as _register_converters\n",
      "Using TensorFlow backend.\n"
     ]
    }
   ],
   "source": [
    "import os \n",
    "import cv2\n",
    "import random\n",
    "import pandas as pd\n",
    "import numpy as np\n",
    "\n",
    "import matplotlib.pyplot as pl\n",
    "import matplotlib.pyplot as plt\n",
    "%matplotlib inline \n",
    "from matplotlib import ticker\n",
    "import seaborn as sns\n",
    "# import plotly.plotly as py\n",
    "\n",
    "from sklearn.tree import export_graphviz\n",
    "from sklearn import tree\n",
    "from sklearn import metrics\n",
    "from sklearn import tree\n",
    "from sklearn import svm\n",
    "from sklearn.model_selection import GridSearchCV\n",
    "from sklearn.model_selection import cross_val_score\n",
    "from sklearn.model_selection import train_test_split\n",
    "from sklearn import ensemble\n",
    "from sklearn import linear_model\n",
    "from sklearn import neighbors\n",
    "from sklearn import metrics\n",
    "from sklearn import neural_network\n",
    "from imblearn.under_sampling import RandomUnderSampler\n",
    "from sklearn.utils import shuffle\n",
    "\n",
    "import keras\n",
    "from keras.models import Sequential\n",
    "from keras.layers import Input, Dropout, Flatten, Conv2D, MaxPooling2D, Dense, Activation\n",
    "from keras.optimizers import RMSprop, adam\n",
    "from keras.utils import np_utils"
   ]
  },
  {
   "cell_type": "markdown",
   "metadata": {},
   "source": [
    "# Question1"
   ]
  },
  {
   "cell_type": "markdown",
   "metadata": {},
   "source": [
    "### Data Pre-processing"
   ]
  },
  {
   "cell_type": "code",
   "execution_count": 81,
   "metadata": {
    "collapsed": true
   },
   "outputs": [],
   "source": [
    "data_sampling_rate = 0.5"
   ]
  },
  {
   "cell_type": "markdown",
   "metadata": {},
   "source": [
    "Setup the number of folds for all grid searches"
   ]
  },
  {
   "cell_type": "code",
   "execution_count": 82,
   "metadata": {
    "collapsed": true
   },
   "outputs": [],
   "source": [
    "cv_folds = 5"
   ]
  },
  {
   "cell_type": "code",
   "execution_count": 83,
   "metadata": {
    "collapsed": true
   },
   "outputs": [],
   "source": [
    "dataset = pd.read_csv(\"state_vectors_2018-04-09-18-25-26.csv\", encoding = \"ISO-8859-1\")\n",
    "dataset = dataset.sample(frac=data_sampling_rate)"
   ]
  },
  {
   "cell_type": "code",
   "execution_count": 84,
   "metadata": {},
   "outputs": [
    {
     "data": {
      "text/html": [
       "<div>\n",
       "<style>\n",
       "    .dataframe thead tr:only-child th {\n",
       "        text-align: right;\n",
       "    }\n",
       "\n",
       "    .dataframe thead th {\n",
       "        text-align: left;\n",
       "    }\n",
       "\n",
       "    .dataframe tbody tr th {\n",
       "        vertical-align: top;\n",
       "    }\n",
       "</style>\n",
       "<table border=\"1\" class=\"dataframe\">\n",
       "  <thead>\n",
       "    <tr style=\"text-align: right;\">\n",
       "      <th></th>\n",
       "      <th>step</th>\n",
       "      <th>pos_x</th>\n",
       "      <th>pos_y</th>\n",
       "      <th>vel_x</th>\n",
       "      <th>vel_y</th>\n",
       "      <th>ship_lander_angle</th>\n",
       "      <th>ship_lander_angular_vel</th>\n",
       "      <th>leg_1_ground_contact</th>\n",
       "      <th>leg_2_ground_contact</th>\n",
       "      <th>action</th>\n",
       "    </tr>\n",
       "  </thead>\n",
       "  <tbody>\n",
       "    <tr>\n",
       "      <th>91909</th>\n",
       "      <td>100</td>\n",
       "      <td>0.301275</td>\n",
       "      <td>0.289254</td>\n",
       "      <td>-0.262984</td>\n",
       "      <td>-0.217840</td>\n",
       "      <td>0.214712</td>\n",
       "      <td>-0.138139</td>\n",
       "      <td>0.0</td>\n",
       "      <td>0.0</td>\n",
       "      <td>0</td>\n",
       "    </tr>\n",
       "    <tr>\n",
       "      <th>183534</th>\n",
       "      <td>101</td>\n",
       "      <td>-0.119526</td>\n",
       "      <td>0.212999</td>\n",
       "      <td>0.236280</td>\n",
       "      <td>-0.282612</td>\n",
       "      <td>-0.086865</td>\n",
       "      <td>0.095317</td>\n",
       "      <td>0.0</td>\n",
       "      <td>0.0</td>\n",
       "      <td>2</td>\n",
       "    </tr>\n",
       "    <tr>\n",
       "      <th>236887</th>\n",
       "      <td>93</td>\n",
       "      <td>-0.016992</td>\n",
       "      <td>0.254888</td>\n",
       "      <td>0.034831</td>\n",
       "      <td>-0.352161</td>\n",
       "      <td>-0.014658</td>\n",
       "      <td>0.022459</td>\n",
       "      <td>0.0</td>\n",
       "      <td>0.0</td>\n",
       "      <td>2</td>\n",
       "    </tr>\n",
       "    <tr>\n",
       "      <th>96540</th>\n",
       "      <td>178</td>\n",
       "      <td>0.029200</td>\n",
       "      <td>0.040598</td>\n",
       "      <td>-0.026431</td>\n",
       "      <td>-0.132349</td>\n",
       "      <td>0.152700</td>\n",
       "      <td>-0.067712</td>\n",
       "      <td>0.0</td>\n",
       "      <td>0.0</td>\n",
       "      <td>2</td>\n",
       "    </tr>\n",
       "    <tr>\n",
       "      <th>103870</th>\n",
       "      <td>91</td>\n",
       "      <td>-0.316885</td>\n",
       "      <td>0.293784</td>\n",
       "      <td>0.160349</td>\n",
       "      <td>-0.203210</td>\n",
       "      <td>-0.265415</td>\n",
       "      <td>0.101244</td>\n",
       "      <td>0.0</td>\n",
       "      <td>0.0</td>\n",
       "      <td>0</td>\n",
       "    </tr>\n",
       "  </tbody>\n",
       "</table>\n",
       "</div>"
      ],
      "text/plain": [
       "        step     pos_x     pos_y     vel_x     vel_y  ship_lander_angle  \\\n",
       "91909    100  0.301275  0.289254 -0.262984 -0.217840           0.214712   \n",
       "183534   101 -0.119526  0.212999  0.236280 -0.282612          -0.086865   \n",
       "236887    93 -0.016992  0.254888  0.034831 -0.352161          -0.014658   \n",
       "96540    178  0.029200  0.040598 -0.026431 -0.132349           0.152700   \n",
       "103870    91 -0.316885  0.293784  0.160349 -0.203210          -0.265415   \n",
       "\n",
       "        ship_lander_angular_vel  leg_1_ground_contact  leg_2_ground_contact  \\\n",
       "91909                 -0.138139                   0.0                   0.0   \n",
       "183534                 0.095317                   0.0                   0.0   \n",
       "236887                 0.022459                   0.0                   0.0   \n",
       "96540                 -0.067712                   0.0                   0.0   \n",
       "103870                 0.101244                   0.0                   0.0   \n",
       "\n",
       "        action  \n",
       "91909        0  \n",
       "183534       2  \n",
       "236887       2  \n",
       "96540        2  \n",
       "103870       0  "
      ]
     },
     "execution_count": 84,
     "metadata": {},
     "output_type": "execute_result"
    }
   ],
   "source": [
    "dataset.head()"
   ]
  },
  {
   "cell_type": "code",
   "execution_count": 85,
   "metadata": {
    "collapsed": true
   },
   "outputs": [],
   "source": [
    "X = dataset[dataset.columns[1:9]]\n",
    "Y = np.array(dataset[\"action\"])"
   ]
  },
  {
   "cell_type": "markdown",
   "metadata": {},
   "source": [
    "Normalise the data"
   ]
  },
  {
   "cell_type": "code",
   "execution_count": 86,
   "metadata": {
    "collapsed": true
   },
   "outputs": [],
   "source": [
    "X = X/255"
   ]
  },
  {
   "cell_type": "code",
   "execution_count": 87,
   "metadata": {},
   "outputs": [
    {
     "name": "stderr",
     "output_type": "stream",
     "text": [
      "/Users/leejoonsung/anaconda/lib/python3.6/site-packages/sklearn/model_selection/_split.py:2026: FutureWarning: From version 0.21, test_size will always complement train_size unless both are specified.\n",
      "  FutureWarning)\n"
     ]
    }
   ],
   "source": [
    "X_train_plus_valid, X_test, y_train_plus_valid, y_test \\\n",
    "    = train_test_split(X, Y, random_state=0, \\\n",
    "                                    train_size = 0.7)\n",
    "\n",
    "X_train, X_valid, y_train, y_valid \\\n",
    "    = train_test_split(X_train_plus_valid, \\\n",
    "                                        y_train_plus_valid, \\\n",
    "                                        random_state=0, \\\n",
    "                                        train_size = 0.5/0.7)"
   ]
  },
  {
   "cell_type": "code",
   "execution_count": 88,
   "metadata": {},
   "outputs": [
    {
     "data": {
      "text/plain": [
       "37727"
      ]
     },
     "execution_count": 88,
     "metadata": {},
     "output_type": "execute_result"
    }
   ],
   "source": [
    "len(X_test)"
   ]
  },
  {
   "cell_type": "code",
   "execution_count": 89,
   "metadata": {},
   "outputs": [
    {
     "data": {
      "text/plain": [
       "37727"
      ]
     },
     "execution_count": 89,
     "metadata": {},
     "output_type": "execute_result"
    }
   ],
   "source": [
    "len(y_test)"
   ]
  },
  {
   "cell_type": "code",
   "execution_count": 90,
   "metadata": {},
   "outputs": [
    {
     "data": {
      "text/html": [
       "<div>\n",
       "<style>\n",
       "    .dataframe thead tr:only-child th {\n",
       "        text-align: right;\n",
       "    }\n",
       "\n",
       "    .dataframe thead th {\n",
       "        text-align: left;\n",
       "    }\n",
       "\n",
       "    .dataframe tbody tr th {\n",
       "        vertical-align: top;\n",
       "    }\n",
       "</style>\n",
       "<table border=\"1\" class=\"dataframe\">\n",
       "  <thead>\n",
       "    <tr style=\"text-align: right;\">\n",
       "      <th></th>\n",
       "      <th>pos_x</th>\n",
       "      <th>pos_y</th>\n",
       "      <th>vel_x</th>\n",
       "      <th>vel_y</th>\n",
       "      <th>ship_lander_angle</th>\n",
       "      <th>ship_lander_angular_vel</th>\n",
       "      <th>leg_1_ground_contact</th>\n",
       "      <th>leg_2_ground_contact</th>\n",
       "    </tr>\n",
       "  </thead>\n",
       "  <tbody>\n",
       "    <tr>\n",
       "      <th>223515</th>\n",
       "      <td>0.000106</td>\n",
       "      <td>0.003625</td>\n",
       "      <td>4.711860e-04</td>\n",
       "      <td>-1.291953e-03</td>\n",
       "      <td>0.000133</td>\n",
       "      <td>1.382630e-04</td>\n",
       "      <td>0.000000</td>\n",
       "      <td>0.000000</td>\n",
       "    </tr>\n",
       "    <tr>\n",
       "      <th>72164</th>\n",
       "      <td>-0.000756</td>\n",
       "      <td>0.000276</td>\n",
       "      <td>9.414841e-04</td>\n",
       "      <td>-1.775322e-04</td>\n",
       "      <td>0.000672</td>\n",
       "      <td>1.499266e-04</td>\n",
       "      <td>0.000000</td>\n",
       "      <td>0.000000</td>\n",
       "    </tr>\n",
       "    <tr>\n",
       "      <th>193363</th>\n",
       "      <td>0.000068</td>\n",
       "      <td>0.000221</td>\n",
       "      <td>3.357693e-04</td>\n",
       "      <td>-6.056298e-04</td>\n",
       "      <td>0.000475</td>\n",
       "      <td>2.541082e-05</td>\n",
       "      <td>0.000000</td>\n",
       "      <td>0.000000</td>\n",
       "    </tr>\n",
       "    <tr>\n",
       "      <th>10987</th>\n",
       "      <td>-0.000061</td>\n",
       "      <td>0.000293</td>\n",
       "      <td>1.294753e-04</td>\n",
       "      <td>-7.730860e-04</td>\n",
       "      <td>0.000614</td>\n",
       "      <td>-1.498529e-04</td>\n",
       "      <td>0.000000</td>\n",
       "      <td>0.000000</td>\n",
       "    </tr>\n",
       "    <tr>\n",
       "      <th>183186</th>\n",
       "      <td>0.000110</td>\n",
       "      <td>-0.000003</td>\n",
       "      <td>-5.025982e-07</td>\n",
       "      <td>-4.515411e-10</td>\n",
       "      <td>-0.000005</td>\n",
       "      <td>1.446544e-07</td>\n",
       "      <td>0.003922</td>\n",
       "      <td>0.003922</td>\n",
       "    </tr>\n",
       "  </tbody>\n",
       "</table>\n",
       "</div>"
      ],
      "text/plain": [
       "           pos_x     pos_y         vel_x         vel_y  ship_lander_angle  \\\n",
       "223515  0.000106  0.003625  4.711860e-04 -1.291953e-03           0.000133   \n",
       "72164  -0.000756  0.000276  9.414841e-04 -1.775322e-04           0.000672   \n",
       "193363  0.000068  0.000221  3.357693e-04 -6.056298e-04           0.000475   \n",
       "10987  -0.000061  0.000293  1.294753e-04 -7.730860e-04           0.000614   \n",
       "183186  0.000110 -0.000003 -5.025982e-07 -4.515411e-10          -0.000005   \n",
       "\n",
       "        ship_lander_angular_vel  leg_1_ground_contact  leg_2_ground_contact  \n",
       "223515             1.382630e-04              0.000000              0.000000  \n",
       "72164              1.499266e-04              0.000000              0.000000  \n",
       "193363             2.541082e-05              0.000000              0.000000  \n",
       "10987             -1.498529e-04              0.000000              0.000000  \n",
       "183186             1.446544e-07              0.003922              0.003922  "
      ]
     },
     "execution_count": 90,
     "metadata": {},
     "output_type": "execute_result"
    }
   ],
   "source": [
    "X_train_plus_valid.head()"
   ]
  },
  {
   "cell_type": "markdown",
   "metadata": {},
   "source": [
    "### Model Buiding"
   ]
  },
  {
   "cell_type": "markdown",
   "metadata": {},
   "source": [
    "Random Forests"
   ]
  },
  {
   "cell_type": "code",
   "execution_count": 91,
   "metadata": {},
   "outputs": [
    {
     "name": "stdout",
     "output_type": "stream",
     "text": [
      "Fitting 5 folds for each of 48 candidates, totalling 240 fits\n",
      "[CV] max_features=2, min_samples_split=50, n_estimators=100 ..........\n",
      "[CV]  max_features=2, min_samples_split=50, n_estimators=100, total=  11.9s\n",
      "[CV] max_features=2, min_samples_split=50, n_estimators=100 ..........\n"
     ]
    },
    {
     "name": "stderr",
     "output_type": "stream",
     "text": [
      "[Parallel(n_jobs=1)]: Done   1 out of   1 | elapsed:   12.9s remaining:    0.0s\n"
     ]
    },
    {
     "name": "stdout",
     "output_type": "stream",
     "text": [
      "[CV]  max_features=2, min_samples_split=50, n_estimators=100, total=  11.7s\n",
      "[CV] max_features=2, min_samples_split=50, n_estimators=100 ..........\n",
      "[CV]  max_features=2, min_samples_split=50, n_estimators=100, total=  11.8s\n",
      "[CV] max_features=2, min_samples_split=50, n_estimators=100 ..........\n",
      "[CV]  max_features=2, min_samples_split=50, n_estimators=100, total=  12.0s\n",
      "[CV] max_features=2, min_samples_split=50, n_estimators=100 ..........\n",
      "[CV]  max_features=2, min_samples_split=50, n_estimators=100, total=  11.7s\n",
      "[CV] max_features=2, min_samples_split=50, n_estimators=150 ..........\n",
      "[CV]  max_features=2, min_samples_split=50, n_estimators=150, total=  18.0s\n",
      "[CV] max_features=2, min_samples_split=50, n_estimators=150 ..........\n",
      "[CV]  max_features=2, min_samples_split=50, n_estimators=150, total=  17.7s\n",
      "[CV] max_features=2, min_samples_split=50, n_estimators=150 ..........\n",
      "[CV]  max_features=2, min_samples_split=50, n_estimators=150, total=  18.5s\n",
      "[CV] max_features=2, min_samples_split=50, n_estimators=150 ..........\n",
      "[CV]  max_features=2, min_samples_split=50, n_estimators=150, total=  18.4s\n",
      "[CV] max_features=2, min_samples_split=50, n_estimators=150 ..........\n",
      "[CV]  max_features=2, min_samples_split=50, n_estimators=150, total=  18.4s\n",
      "[CV] max_features=2, min_samples_split=50, n_estimators=200 ..........\n",
      "[CV]  max_features=2, min_samples_split=50, n_estimators=200, total=  27.8s\n",
      "[CV] max_features=2, min_samples_split=50, n_estimators=200 ..........\n",
      "[CV]  max_features=2, min_samples_split=50, n_estimators=200, total=  24.5s\n",
      "[CV] max_features=2, min_samples_split=50, n_estimators=200 ..........\n",
      "[CV]  max_features=2, min_samples_split=50, n_estimators=200, total=  25.2s\n",
      "[CV] max_features=2, min_samples_split=50, n_estimators=200 ..........\n",
      "[CV]  max_features=2, min_samples_split=50, n_estimators=200, total=  24.4s\n",
      "[CV] max_features=2, min_samples_split=50, n_estimators=200 ..........\n",
      "[CV]  max_features=2, min_samples_split=50, n_estimators=200, total=  25.1s\n",
      "[CV] max_features=2, min_samples_split=50, n_estimators=250 ..........\n",
      "[CV]  max_features=2, min_samples_split=50, n_estimators=250, total=  30.3s\n",
      "[CV] max_features=2, min_samples_split=50, n_estimators=250 ..........\n",
      "[CV]  max_features=2, min_samples_split=50, n_estimators=250, total=  30.2s\n",
      "[CV] max_features=2, min_samples_split=50, n_estimators=250 ..........\n",
      "[CV]  max_features=2, min_samples_split=50, n_estimators=250, total=  30.2s\n",
      "[CV] max_features=2, min_samples_split=50, n_estimators=250 ..........\n",
      "[CV]  max_features=2, min_samples_split=50, n_estimators=250, total=  31.2s\n",
      "[CV] max_features=2, min_samples_split=50, n_estimators=250 ..........\n",
      "[CV]  max_features=2, min_samples_split=50, n_estimators=250, total=  30.7s\n",
      "[CV] max_features=2, min_samples_split=100, n_estimators=100 .........\n",
      "[CV]  max_features=2, min_samples_split=100, n_estimators=100, total=  11.5s\n",
      "[CV] max_features=2, min_samples_split=100, n_estimators=100 .........\n",
      "[CV]  max_features=2, min_samples_split=100, n_estimators=100, total=  11.6s\n",
      "[CV] max_features=2, min_samples_split=100, n_estimators=100 .........\n",
      "[CV]  max_features=2, min_samples_split=100, n_estimators=100, total=  12.1s\n",
      "[CV] max_features=2, min_samples_split=100, n_estimators=100 .........\n",
      "[CV]  max_features=2, min_samples_split=100, n_estimators=100, total=  12.7s\n",
      "[CV] max_features=2, min_samples_split=100, n_estimators=100 .........\n",
      "[CV]  max_features=2, min_samples_split=100, n_estimators=100, total=  12.4s\n",
      "[CV] max_features=2, min_samples_split=100, n_estimators=150 .........\n",
      "[CV]  max_features=2, min_samples_split=100, n_estimators=150, total=  19.0s\n",
      "[CV] max_features=2, min_samples_split=100, n_estimators=150 .........\n",
      "[CV]  max_features=2, min_samples_split=100, n_estimators=150, total=  19.0s\n",
      "[CV] max_features=2, min_samples_split=100, n_estimators=150 .........\n",
      "[CV]  max_features=2, min_samples_split=100, n_estimators=150, total=  18.5s\n",
      "[CV] max_features=2, min_samples_split=100, n_estimators=150 .........\n",
      "[CV]  max_features=2, min_samples_split=100, n_estimators=150, total=  18.7s\n",
      "[CV] max_features=2, min_samples_split=100, n_estimators=150 .........\n",
      "[CV]  max_features=2, min_samples_split=100, n_estimators=150, total=  19.3s\n",
      "[CV] max_features=2, min_samples_split=100, n_estimators=200 .........\n",
      "[CV]  max_features=2, min_samples_split=100, n_estimators=200, total=  25.0s\n",
      "[CV] max_features=2, min_samples_split=100, n_estimators=200 .........\n",
      "[CV]  max_features=2, min_samples_split=100, n_estimators=200, total=  24.7s\n",
      "[CV] max_features=2, min_samples_split=100, n_estimators=200 .........\n",
      "[CV]  max_features=2, min_samples_split=100, n_estimators=200, total=  24.6s\n",
      "[CV] max_features=2, min_samples_split=100, n_estimators=200 .........\n",
      "[CV]  max_features=2, min_samples_split=100, n_estimators=200, total=  24.9s\n",
      "[CV] max_features=2, min_samples_split=100, n_estimators=200 .........\n",
      "[CV]  max_features=2, min_samples_split=100, n_estimators=200, total=  24.7s\n",
      "[CV] max_features=2, min_samples_split=100, n_estimators=250 .........\n",
      "[CV]  max_features=2, min_samples_split=100, n_estimators=250, total=  30.8s\n",
      "[CV] max_features=2, min_samples_split=100, n_estimators=250 .........\n",
      "[CV]  max_features=2, min_samples_split=100, n_estimators=250, total=  31.1s\n",
      "[CV] max_features=2, min_samples_split=100, n_estimators=250 .........\n",
      "[CV]  max_features=2, min_samples_split=100, n_estimators=250, total=  31.0s\n",
      "[CV] max_features=2, min_samples_split=100, n_estimators=250 .........\n",
      "[CV]  max_features=2, min_samples_split=100, n_estimators=250, total=  31.9s\n",
      "[CV] max_features=2, min_samples_split=100, n_estimators=250 .........\n",
      "[CV]  max_features=2, min_samples_split=100, n_estimators=250, total=  31.0s\n",
      "[CV] max_features=2, min_samples_split=150, n_estimators=100 .........\n",
      "[CV]  max_features=2, min_samples_split=150, n_estimators=100, total=  12.3s\n",
      "[CV] max_features=2, min_samples_split=150, n_estimators=100 .........\n",
      "[CV]  max_features=2, min_samples_split=150, n_estimators=100, total=  12.6s\n",
      "[CV] max_features=2, min_samples_split=150, n_estimators=100 .........\n",
      "[CV]  max_features=2, min_samples_split=150, n_estimators=100, total=  11.9s\n",
      "[CV] max_features=2, min_samples_split=150, n_estimators=100 .........\n",
      "[CV]  max_features=2, min_samples_split=150, n_estimators=100, total=  11.8s\n",
      "[CV] max_features=2, min_samples_split=150, n_estimators=100 .........\n",
      "[CV]  max_features=2, min_samples_split=150, n_estimators=100, total=  12.4s\n",
      "[CV] max_features=2, min_samples_split=150, n_estimators=150 .........\n",
      "[CV]  max_features=2, min_samples_split=150, n_estimators=150, total=  17.6s\n",
      "[CV] max_features=2, min_samples_split=150, n_estimators=150 .........\n",
      "[CV]  max_features=2, min_samples_split=150, n_estimators=150, total=  16.6s\n",
      "[CV] max_features=2, min_samples_split=150, n_estimators=150 .........\n",
      "[CV]  max_features=2, min_samples_split=150, n_estimators=150, total=  16.6s\n",
      "[CV] max_features=2, min_samples_split=150, n_estimators=150 .........\n",
      "[CV]  max_features=2, min_samples_split=150, n_estimators=150, total=  17.0s\n",
      "[CV] max_features=2, min_samples_split=150, n_estimators=150 .........\n",
      "[CV]  max_features=2, min_samples_split=150, n_estimators=150, total=  17.2s\n",
      "[CV] max_features=2, min_samples_split=150, n_estimators=200 .........\n",
      "[CV]  max_features=2, min_samples_split=150, n_estimators=200, total=  23.7s\n",
      "[CV] max_features=2, min_samples_split=150, n_estimators=200 .........\n",
      "[CV]  max_features=2, min_samples_split=150, n_estimators=200, total=  23.2s\n",
      "[CV] max_features=2, min_samples_split=150, n_estimators=200 .........\n",
      "[CV]  max_features=2, min_samples_split=150, n_estimators=200, total=  22.8s\n",
      "[CV] max_features=2, min_samples_split=150, n_estimators=200 .........\n",
      "[CV]  max_features=2, min_samples_split=150, n_estimators=200, total=  23.3s\n",
      "[CV] max_features=2, min_samples_split=150, n_estimators=200 .........\n",
      "[CV]  max_features=2, min_samples_split=150, n_estimators=200, total=  24.1s\n",
      "[CV] max_features=2, min_samples_split=150, n_estimators=250 .........\n",
      "[CV]  max_features=2, min_samples_split=150, n_estimators=250, total=  30.9s\n",
      "[CV] max_features=2, min_samples_split=150, n_estimators=250 .........\n",
      "[CV]  max_features=2, min_samples_split=150, n_estimators=250, total=  30.3s\n",
      "[CV] max_features=2, min_samples_split=150, n_estimators=250 .........\n"
     ]
    },
    {
     "name": "stdout",
     "output_type": "stream",
     "text": [
      "[CV]  max_features=2, min_samples_split=150, n_estimators=250, total=  30.2s\n",
      "[CV] max_features=2, min_samples_split=150, n_estimators=250 .........\n",
      "[CV]  max_features=2, min_samples_split=150, n_estimators=250, total=  30.0s\n",
      "[CV] max_features=2, min_samples_split=150, n_estimators=250 .........\n",
      "[CV]  max_features=2, min_samples_split=150, n_estimators=250, total=  29.7s\n",
      "[CV] max_features=4, min_samples_split=50, n_estimators=100 ..........\n",
      "[CV]  max_features=4, min_samples_split=50, n_estimators=100, total=  21.5s\n",
      "[CV] max_features=4, min_samples_split=50, n_estimators=100 ..........\n",
      "[CV]  max_features=4, min_samples_split=50, n_estimators=100, total=  21.4s\n",
      "[CV] max_features=4, min_samples_split=50, n_estimators=100 ..........\n",
      "[CV]  max_features=4, min_samples_split=50, n_estimators=100, total=  21.3s\n",
      "[CV] max_features=4, min_samples_split=50, n_estimators=100 ..........\n",
      "[CV]  max_features=4, min_samples_split=50, n_estimators=100, total=  21.1s\n",
      "[CV] max_features=4, min_samples_split=50, n_estimators=100 ..........\n",
      "[CV]  max_features=4, min_samples_split=50, n_estimators=100, total=  21.2s\n",
      "[CV] max_features=4, min_samples_split=50, n_estimators=150 ..........\n",
      "[CV]  max_features=4, min_samples_split=50, n_estimators=150, total=  32.1s\n",
      "[CV] max_features=4, min_samples_split=50, n_estimators=150 ..........\n",
      "[CV]  max_features=4, min_samples_split=50, n_estimators=150, total=  34.3s\n",
      "[CV] max_features=4, min_samples_split=50, n_estimators=150 ..........\n",
      "[CV]  max_features=4, min_samples_split=50, n_estimators=150, total=  31.9s\n",
      "[CV] max_features=4, min_samples_split=50, n_estimators=150 ..........\n",
      "[CV]  max_features=4, min_samples_split=50, n_estimators=150, total=  33.0s\n",
      "[CV] max_features=4, min_samples_split=50, n_estimators=150 ..........\n",
      "[CV]  max_features=4, min_samples_split=50, n_estimators=150, total=  33.2s\n",
      "[CV] max_features=4, min_samples_split=50, n_estimators=200 ..........\n",
      "[CV]  max_features=4, min_samples_split=50, n_estimators=200, total=  40.4s\n",
      "[CV] max_features=4, min_samples_split=50, n_estimators=200 ..........\n",
      "[CV]  max_features=4, min_samples_split=50, n_estimators=200, total=  41.0s\n",
      "[CV] max_features=4, min_samples_split=50, n_estimators=200 ..........\n",
      "[CV]  max_features=4, min_samples_split=50, n_estimators=200, total=  48.0s\n",
      "[CV] max_features=4, min_samples_split=50, n_estimators=200 ..........\n",
      "[CV]  max_features=4, min_samples_split=50, n_estimators=200, total=  46.5s\n",
      "[CV] max_features=4, min_samples_split=50, n_estimators=200 ..........\n",
      "[CV]  max_features=4, min_samples_split=50, n_estimators=200, total=  46.6s\n",
      "[CV] max_features=4, min_samples_split=50, n_estimators=250 ..........\n",
      "[CV]  max_features=4, min_samples_split=50, n_estimators=250, total=  53.5s\n",
      "[CV] max_features=4, min_samples_split=50, n_estimators=250 ..........\n",
      "[CV]  max_features=4, min_samples_split=50, n_estimators=250, total=  54.0s\n",
      "[CV] max_features=4, min_samples_split=50, n_estimators=250 ..........\n",
      "[CV]  max_features=4, min_samples_split=50, n_estimators=250, total=  53.6s\n",
      "[CV] max_features=4, min_samples_split=50, n_estimators=250 ..........\n",
      "[CV]  max_features=4, min_samples_split=50, n_estimators=250, total=  53.4s\n",
      "[CV] max_features=4, min_samples_split=50, n_estimators=250 ..........\n",
      "[CV]  max_features=4, min_samples_split=50, n_estimators=250, total=  54.7s\n",
      "[CV] max_features=4, min_samples_split=100, n_estimators=100 .........\n",
      "[CV]  max_features=4, min_samples_split=100, n_estimators=100, total=  20.6s\n",
      "[CV] max_features=4, min_samples_split=100, n_estimators=100 .........\n",
      "[CV]  max_features=4, min_samples_split=100, n_estimators=100, total=  20.7s\n",
      "[CV] max_features=4, min_samples_split=100, n_estimators=100 .........\n",
      "[CV]  max_features=4, min_samples_split=100, n_estimators=100, total=  20.5s\n",
      "[CV] max_features=4, min_samples_split=100, n_estimators=100 .........\n",
      "[CV]  max_features=4, min_samples_split=100, n_estimators=100, total=  19.6s\n",
      "[CV] max_features=4, min_samples_split=100, n_estimators=100 .........\n",
      "[CV]  max_features=4, min_samples_split=100, n_estimators=100, total=  19.4s\n",
      "[CV] max_features=4, min_samples_split=100, n_estimators=150 .........\n",
      "[CV]  max_features=4, min_samples_split=100, n_estimators=150, total=  27.9s\n",
      "[CV] max_features=4, min_samples_split=100, n_estimators=150 .........\n",
      "[CV]  max_features=4, min_samples_split=100, n_estimators=150, total=  27.6s\n",
      "[CV] max_features=4, min_samples_split=100, n_estimators=150 .........\n",
      "[CV]  max_features=4, min_samples_split=100, n_estimators=150, total=  27.5s\n",
      "[CV] max_features=4, min_samples_split=100, n_estimators=150 .........\n",
      "[CV]  max_features=4, min_samples_split=100, n_estimators=150, total=  27.2s\n",
      "[CV] max_features=4, min_samples_split=100, n_estimators=150 .........\n",
      "[CV]  max_features=4, min_samples_split=100, n_estimators=150, total=  28.8s\n",
      "[CV] max_features=4, min_samples_split=100, n_estimators=200 .........\n",
      "[CV]  max_features=4, min_samples_split=100, n_estimators=200, total=  37.3s\n",
      "[CV] max_features=4, min_samples_split=100, n_estimators=200 .........\n",
      "[CV]  max_features=4, min_samples_split=100, n_estimators=200, total=  36.8s\n",
      "[CV] max_features=4, min_samples_split=100, n_estimators=200 .........\n",
      "[CV]  max_features=4, min_samples_split=100, n_estimators=200, total=  37.0s\n",
      "[CV] max_features=4, min_samples_split=100, n_estimators=200 .........\n",
      "[CV]  max_features=4, min_samples_split=100, n_estimators=200, total=  36.9s\n",
      "[CV] max_features=4, min_samples_split=100, n_estimators=200 .........\n",
      "[CV]  max_features=4, min_samples_split=100, n_estimators=200, total=  36.9s\n",
      "[CV] max_features=4, min_samples_split=100, n_estimators=250 .........\n",
      "[CV]  max_features=4, min_samples_split=100, n_estimators=250, total=  45.5s\n",
      "[CV] max_features=4, min_samples_split=100, n_estimators=250 .........\n",
      "[CV]  max_features=4, min_samples_split=100, n_estimators=250, total=  45.3s\n",
      "[CV] max_features=4, min_samples_split=100, n_estimators=250 .........\n",
      "[CV]  max_features=4, min_samples_split=100, n_estimators=250, total=  45.8s\n",
      "[CV] max_features=4, min_samples_split=100, n_estimators=250 .........\n",
      "[CV]  max_features=4, min_samples_split=100, n_estimators=250, total=  45.5s\n",
      "[CV] max_features=4, min_samples_split=100, n_estimators=250 .........\n",
      "[CV]  max_features=4, min_samples_split=100, n_estimators=250, total=  45.4s\n",
      "[CV] max_features=4, min_samples_split=150, n_estimators=100 .........\n",
      "[CV]  max_features=4, min_samples_split=150, n_estimators=100, total=  17.6s\n",
      "[CV] max_features=4, min_samples_split=150, n_estimators=100 .........\n",
      "[CV]  max_features=4, min_samples_split=150, n_estimators=100, total=  17.5s\n",
      "[CV] max_features=4, min_samples_split=150, n_estimators=100 .........\n",
      "[CV]  max_features=4, min_samples_split=150, n_estimators=100, total=  17.6s\n",
      "[CV] max_features=4, min_samples_split=150, n_estimators=100 .........\n",
      "[CV]  max_features=4, min_samples_split=150, n_estimators=100, total=  17.5s\n",
      "[CV] max_features=4, min_samples_split=150, n_estimators=100 .........\n",
      "[CV]  max_features=4, min_samples_split=150, n_estimators=100, total=  17.3s\n",
      "[CV] max_features=4, min_samples_split=150, n_estimators=150 .........\n",
      "[CV]  max_features=4, min_samples_split=150, n_estimators=150, total=  26.3s\n",
      "[CV] max_features=4, min_samples_split=150, n_estimators=150 .........\n",
      "[CV]  max_features=4, min_samples_split=150, n_estimators=150, total=  26.3s\n",
      "[CV] max_features=4, min_samples_split=150, n_estimators=150 .........\n",
      "[CV]  max_features=4, min_samples_split=150, n_estimators=150, total=  26.1s\n",
      "[CV] max_features=4, min_samples_split=150, n_estimators=150 .........\n",
      "[CV]  max_features=4, min_samples_split=150, n_estimators=150, total=  26.4s\n",
      "[CV] max_features=4, min_samples_split=150, n_estimators=150 .........\n",
      "[CV]  max_features=4, min_samples_split=150, n_estimators=150, total=  26.1s\n",
      "[CV] max_features=4, min_samples_split=150, n_estimators=200 .........\n",
      "[CV]  max_features=4, min_samples_split=150, n_estimators=200, total=  34.9s\n",
      "[CV] max_features=4, min_samples_split=150, n_estimators=200 .........\n",
      "[CV]  max_features=4, min_samples_split=150, n_estimators=200, total=  34.7s\n",
      "[CV] max_features=4, min_samples_split=150, n_estimators=200 .........\n",
      "[CV]  max_features=4, min_samples_split=150, n_estimators=200, total=  35.1s\n",
      "[CV] max_features=4, min_samples_split=150, n_estimators=200 .........\n"
     ]
    },
    {
     "name": "stdout",
     "output_type": "stream",
     "text": [
      "[CV]  max_features=4, min_samples_split=150, n_estimators=200, total=  35.2s\n",
      "[CV] max_features=4, min_samples_split=150, n_estimators=200 .........\n",
      "[CV]  max_features=4, min_samples_split=150, n_estimators=200, total=  35.1s\n",
      "[CV] max_features=4, min_samples_split=150, n_estimators=250 .........\n",
      "[CV]  max_features=4, min_samples_split=150, n_estimators=250, total=  43.3s\n",
      "[CV] max_features=4, min_samples_split=150, n_estimators=250 .........\n",
      "[CV]  max_features=4, min_samples_split=150, n_estimators=250, total=  43.6s\n",
      "[CV] max_features=4, min_samples_split=150, n_estimators=250 .........\n",
      "[CV]  max_features=4, min_samples_split=150, n_estimators=250, total=  43.8s\n",
      "[CV] max_features=4, min_samples_split=150, n_estimators=250 .........\n",
      "[CV]  max_features=4, min_samples_split=150, n_estimators=250, total=  43.9s\n",
      "[CV] max_features=4, min_samples_split=150, n_estimators=250 .........\n",
      "[CV]  max_features=4, min_samples_split=150, n_estimators=250, total=  43.5s\n",
      "[CV] max_features=6, min_samples_split=50, n_estimators=100 ..........\n",
      "[CV]  max_features=6, min_samples_split=50, n_estimators=100, total=  26.6s\n",
      "[CV] max_features=6, min_samples_split=50, n_estimators=100 ..........\n",
      "[CV]  max_features=6, min_samples_split=50, n_estimators=100, total=  26.6s\n",
      "[CV] max_features=6, min_samples_split=50, n_estimators=100 ..........\n",
      "[CV]  max_features=6, min_samples_split=50, n_estimators=100, total=  26.7s\n",
      "[CV] max_features=6, min_samples_split=50, n_estimators=100 ..........\n",
      "[CV]  max_features=6, min_samples_split=50, n_estimators=100, total=  26.7s\n",
      "[CV] max_features=6, min_samples_split=50, n_estimators=100 ..........\n",
      "[CV]  max_features=6, min_samples_split=50, n_estimators=100, total=  26.6s\n",
      "[CV] max_features=6, min_samples_split=50, n_estimators=150 ..........\n",
      "[CV]  max_features=6, min_samples_split=50, n_estimators=150, total=  41.1s\n",
      "[CV] max_features=6, min_samples_split=50, n_estimators=150 ..........\n",
      "[CV]  max_features=6, min_samples_split=50, n_estimators=150, total=  40.7s\n",
      "[CV] max_features=6, min_samples_split=50, n_estimators=150 ..........\n",
      "[CV]  max_features=6, min_samples_split=50, n_estimators=150, total=  41.0s\n",
      "[CV] max_features=6, min_samples_split=50, n_estimators=150 ..........\n",
      "[CV]  max_features=6, min_samples_split=50, n_estimators=150, total=  40.8s\n",
      "[CV] max_features=6, min_samples_split=50, n_estimators=150 ..........\n",
      "[CV]  max_features=6, min_samples_split=50, n_estimators=150, total=  41.0s\n",
      "[CV] max_features=6, min_samples_split=50, n_estimators=200 ..........\n",
      "[CV]  max_features=6, min_samples_split=50, n_estimators=200, total=  54.4s\n",
      "[CV] max_features=6, min_samples_split=50, n_estimators=200 ..........\n",
      "[CV]  max_features=6, min_samples_split=50, n_estimators=200, total=  54.3s\n",
      "[CV] max_features=6, min_samples_split=50, n_estimators=200 ..........\n",
      "[CV]  max_features=6, min_samples_split=50, n_estimators=200, total=  55.0s\n",
      "[CV] max_features=6, min_samples_split=50, n_estimators=200 ..........\n",
      "[CV]  max_features=6, min_samples_split=50, n_estimators=200, total=  54.2s\n",
      "[CV] max_features=6, min_samples_split=50, n_estimators=200 ..........\n",
      "[CV]  max_features=6, min_samples_split=50, n_estimators=200, total=  54.4s\n",
      "[CV] max_features=6, min_samples_split=50, n_estimators=250 ..........\n",
      "[CV]  max_features=6, min_samples_split=50, n_estimators=250, total= 1.1min\n",
      "[CV] max_features=6, min_samples_split=50, n_estimators=250 ..........\n",
      "[CV]  max_features=6, min_samples_split=50, n_estimators=250, total= 1.1min\n",
      "[CV] max_features=6, min_samples_split=50, n_estimators=250 ..........\n",
      "[CV]  max_features=6, min_samples_split=50, n_estimators=250, total= 1.1min\n",
      "[CV] max_features=6, min_samples_split=50, n_estimators=250 ..........\n",
      "[CV]  max_features=6, min_samples_split=50, n_estimators=250, total= 1.1min\n",
      "[CV] max_features=6, min_samples_split=50, n_estimators=250 ..........\n",
      "[CV]  max_features=6, min_samples_split=50, n_estimators=250, total= 1.1min\n",
      "[CV] max_features=6, min_samples_split=100, n_estimators=100 .........\n",
      "[CV]  max_features=6, min_samples_split=100, n_estimators=100, total=  25.7s\n",
      "[CV] max_features=6, min_samples_split=100, n_estimators=100 .........\n",
      "[CV]  max_features=6, min_samples_split=100, n_estimators=100, total=  25.7s\n",
      "[CV] max_features=6, min_samples_split=100, n_estimators=100 .........\n",
      "[CV]  max_features=6, min_samples_split=100, n_estimators=100, total=  25.9s\n",
      "[CV] max_features=6, min_samples_split=100, n_estimators=100 .........\n",
      "[CV]  max_features=6, min_samples_split=100, n_estimators=100, total=  25.9s\n",
      "[CV] max_features=6, min_samples_split=100, n_estimators=100 .........\n",
      "[CV]  max_features=6, min_samples_split=100, n_estimators=100, total=  25.6s\n",
      "[CV] max_features=6, min_samples_split=100, n_estimators=150 .........\n",
      "[CV]  max_features=6, min_samples_split=100, n_estimators=150, total=  38.5s\n",
      "[CV] max_features=6, min_samples_split=100, n_estimators=150 .........\n",
      "[CV]  max_features=6, min_samples_split=100, n_estimators=150, total=  38.4s\n",
      "[CV] max_features=6, min_samples_split=100, n_estimators=150 .........\n",
      "[CV]  max_features=6, min_samples_split=100, n_estimators=150, total=  39.0s\n",
      "[CV] max_features=6, min_samples_split=100, n_estimators=150 .........\n",
      "[CV]  max_features=6, min_samples_split=100, n_estimators=150, total=  38.7s\n",
      "[CV] max_features=6, min_samples_split=100, n_estimators=150 .........\n",
      "[CV]  max_features=6, min_samples_split=100, n_estimators=150, total=  38.6s\n",
      "[CV] max_features=6, min_samples_split=100, n_estimators=200 .........\n",
      "[CV]  max_features=6, min_samples_split=100, n_estimators=200, total=  51.4s\n",
      "[CV] max_features=6, min_samples_split=100, n_estimators=200 .........\n",
      "[CV]  max_features=6, min_samples_split=100, n_estimators=200, total=  51.6s\n",
      "[CV] max_features=6, min_samples_split=100, n_estimators=200 .........\n",
      "[CV]  max_features=6, min_samples_split=100, n_estimators=200, total=  51.4s\n",
      "[CV] max_features=6, min_samples_split=100, n_estimators=200 .........\n",
      "[CV]  max_features=6, min_samples_split=100, n_estimators=200, total=  51.5s\n",
      "[CV] max_features=6, min_samples_split=100, n_estimators=200 .........\n",
      "[CV]  max_features=6, min_samples_split=100, n_estimators=200, total=  51.3s\n",
      "[CV] max_features=6, min_samples_split=100, n_estimators=250 .........\n",
      "[CV]  max_features=6, min_samples_split=100, n_estimators=250, total= 1.1min\n",
      "[CV] max_features=6, min_samples_split=100, n_estimators=250 .........\n",
      "[CV]  max_features=6, min_samples_split=100, n_estimators=250, total= 1.1min\n",
      "[CV] max_features=6, min_samples_split=100, n_estimators=250 .........\n",
      "[CV]  max_features=6, min_samples_split=100, n_estimators=250, total= 1.1min\n",
      "[CV] max_features=6, min_samples_split=100, n_estimators=250 .........\n",
      "[CV]  max_features=6, min_samples_split=100, n_estimators=250, total= 1.1min\n",
      "[CV] max_features=6, min_samples_split=100, n_estimators=250 .........\n",
      "[CV]  max_features=6, min_samples_split=100, n_estimators=250, total= 1.1min\n",
      "[CV] max_features=6, min_samples_split=150, n_estimators=100 .........\n",
      "[CV]  max_features=6, min_samples_split=150, n_estimators=100, total=  24.5s\n",
      "[CV] max_features=6, min_samples_split=150, n_estimators=100 .........\n",
      "[CV]  max_features=6, min_samples_split=150, n_estimators=100, total=  24.6s\n",
      "[CV] max_features=6, min_samples_split=150, n_estimators=100 .........\n",
      "[CV]  max_features=6, min_samples_split=150, n_estimators=100, total=  24.8s\n",
      "[CV] max_features=6, min_samples_split=150, n_estimators=100 .........\n",
      "[CV]  max_features=6, min_samples_split=150, n_estimators=100, total=  24.6s\n",
      "[CV] max_features=6, min_samples_split=150, n_estimators=100 .........\n",
      "[CV]  max_features=6, min_samples_split=150, n_estimators=100, total=  24.8s\n",
      "[CV] max_features=6, min_samples_split=150, n_estimators=150 .........\n",
      "[CV]  max_features=6, min_samples_split=150, n_estimators=150, total=  37.2s\n",
      "[CV] max_features=6, min_samples_split=150, n_estimators=150 .........\n",
      "[CV]  max_features=6, min_samples_split=150, n_estimators=150, total=  37.2s\n",
      "[CV] max_features=6, min_samples_split=150, n_estimators=150 .........\n",
      "[CV]  max_features=6, min_samples_split=150, n_estimators=150, total=  37.3s\n",
      "[CV] max_features=6, min_samples_split=150, n_estimators=150 .........\n",
      "[CV]  max_features=6, min_samples_split=150, n_estimators=150, total=  37.4s\n",
      "[CV] max_features=6, min_samples_split=150, n_estimators=150 .........\n"
     ]
    },
    {
     "name": "stdout",
     "output_type": "stream",
     "text": [
      "[CV]  max_features=6, min_samples_split=150, n_estimators=150, total=  37.3s\n",
      "[CV] max_features=6, min_samples_split=150, n_estimators=200 .........\n",
      "[CV]  max_features=6, min_samples_split=150, n_estimators=200, total=  49.1s\n",
      "[CV] max_features=6, min_samples_split=150, n_estimators=200 .........\n",
      "[CV]  max_features=6, min_samples_split=150, n_estimators=200, total=  49.6s\n",
      "[CV] max_features=6, min_samples_split=150, n_estimators=200 .........\n",
      "[CV]  max_features=6, min_samples_split=150, n_estimators=200, total=  49.4s\n",
      "[CV] max_features=6, min_samples_split=150, n_estimators=200 .........\n",
      "[CV]  max_features=6, min_samples_split=150, n_estimators=200, total=  49.6s\n",
      "[CV] max_features=6, min_samples_split=150, n_estimators=200 .........\n",
      "[CV]  max_features=6, min_samples_split=150, n_estimators=200, total=  49.3s\n",
      "[CV] max_features=6, min_samples_split=150, n_estimators=250 .........\n",
      "[CV]  max_features=6, min_samples_split=150, n_estimators=250, total= 1.0min\n",
      "[CV] max_features=6, min_samples_split=150, n_estimators=250 .........\n",
      "[CV]  max_features=6, min_samples_split=150, n_estimators=250, total= 1.0min\n",
      "[CV] max_features=6, min_samples_split=150, n_estimators=250 .........\n",
      "[CV]  max_features=6, min_samples_split=150, n_estimators=250, total= 1.0min\n",
      "[CV] max_features=6, min_samples_split=150, n_estimators=250 .........\n",
      "[CV]  max_features=6, min_samples_split=150, n_estimators=250, total= 1.0min\n",
      "[CV] max_features=6, min_samples_split=150, n_estimators=250 .........\n",
      "[CV]  max_features=6, min_samples_split=150, n_estimators=250, total= 1.0min\n",
      "[CV] max_features=8, min_samples_split=50, n_estimators=100 ..........\n",
      "[CV]  max_features=8, min_samples_split=50, n_estimators=100, total=  34.9s\n",
      "[CV] max_features=8, min_samples_split=50, n_estimators=100 ..........\n",
      "[CV]  max_features=8, min_samples_split=50, n_estimators=100, total=  35.3s\n",
      "[CV] max_features=8, min_samples_split=50, n_estimators=100 ..........\n",
      "[CV]  max_features=8, min_samples_split=50, n_estimators=100, total=  35.1s\n",
      "[CV] max_features=8, min_samples_split=50, n_estimators=100 ..........\n",
      "[CV]  max_features=8, min_samples_split=50, n_estimators=100, total=  34.9s\n",
      "[CV] max_features=8, min_samples_split=50, n_estimators=100 ..........\n",
      "[CV]  max_features=8, min_samples_split=50, n_estimators=100, total=  35.1s\n",
      "[CV] max_features=8, min_samples_split=50, n_estimators=150 ..........\n",
      "[CV]  max_features=8, min_samples_split=50, n_estimators=150, total=  52.3s\n",
      "[CV] max_features=8, min_samples_split=50, n_estimators=150 ..........\n",
      "[CV]  max_features=8, min_samples_split=50, n_estimators=150, total=  52.5s\n",
      "[CV] max_features=8, min_samples_split=50, n_estimators=150 ..........\n",
      "[CV]  max_features=8, min_samples_split=50, n_estimators=150, total=  52.7s\n",
      "[CV] max_features=8, min_samples_split=50, n_estimators=150 ..........\n",
      "[CV]  max_features=8, min_samples_split=50, n_estimators=150, total=  52.7s\n",
      "[CV] max_features=8, min_samples_split=50, n_estimators=150 ..........\n",
      "[CV]  max_features=8, min_samples_split=50, n_estimators=150, total=  52.9s\n",
      "[CV] max_features=8, min_samples_split=50, n_estimators=200 ..........\n",
      "[CV]  max_features=8, min_samples_split=50, n_estimators=200, total= 1.2min\n",
      "[CV] max_features=8, min_samples_split=50, n_estimators=200 ..........\n",
      "[CV]  max_features=8, min_samples_split=50, n_estimators=200, total= 1.2min\n",
      "[CV] max_features=8, min_samples_split=50, n_estimators=200 ..........\n",
      "[CV]  max_features=8, min_samples_split=50, n_estimators=200, total= 1.2min\n",
      "[CV] max_features=8, min_samples_split=50, n_estimators=200 ..........\n",
      "[CV]  max_features=8, min_samples_split=50, n_estimators=200, total= 1.2min\n",
      "[CV] max_features=8, min_samples_split=50, n_estimators=200 ..........\n",
      "[CV]  max_features=8, min_samples_split=50, n_estimators=200, total= 1.2min\n",
      "[CV] max_features=8, min_samples_split=50, n_estimators=250 ..........\n",
      "[CV]  max_features=8, min_samples_split=50, n_estimators=250, total= 1.5min\n",
      "[CV] max_features=8, min_samples_split=50, n_estimators=250 ..........\n",
      "[CV]  max_features=8, min_samples_split=50, n_estimators=250, total= 1.5min\n",
      "[CV] max_features=8, min_samples_split=50, n_estimators=250 ..........\n",
      "[CV]  max_features=8, min_samples_split=50, n_estimators=250, total= 1.5min\n",
      "[CV] max_features=8, min_samples_split=50, n_estimators=250 ..........\n",
      "[CV]  max_features=8, min_samples_split=50, n_estimators=250, total= 1.5min\n",
      "[CV] max_features=8, min_samples_split=50, n_estimators=250 ..........\n",
      "[CV]  max_features=8, min_samples_split=50, n_estimators=250, total= 1.5min\n",
      "[CV] max_features=8, min_samples_split=100, n_estimators=100 .........\n",
      "[CV]  max_features=8, min_samples_split=100, n_estimators=100, total=  33.2s\n",
      "[CV] max_features=8, min_samples_split=100, n_estimators=100 .........\n",
      "[CV]  max_features=8, min_samples_split=100, n_estimators=100, total=  33.1s\n",
      "[CV] max_features=8, min_samples_split=100, n_estimators=100 .........\n",
      "[CV]  max_features=8, min_samples_split=100, n_estimators=100, total=  33.2s\n",
      "[CV] max_features=8, min_samples_split=100, n_estimators=100 .........\n",
      "[CV]  max_features=8, min_samples_split=100, n_estimators=100, total=  33.1s\n",
      "[CV] max_features=8, min_samples_split=100, n_estimators=100 .........\n",
      "[CV]  max_features=8, min_samples_split=100, n_estimators=100, total=  33.1s\n",
      "[CV] max_features=8, min_samples_split=100, n_estimators=150 .........\n",
      "[CV]  max_features=8, min_samples_split=100, n_estimators=150, total=  49.5s\n",
      "[CV] max_features=8, min_samples_split=100, n_estimators=150 .........\n",
      "[CV]  max_features=8, min_samples_split=100, n_estimators=150, total=  49.7s\n",
      "[CV] max_features=8, min_samples_split=100, n_estimators=150 .........\n",
      "[CV]  max_features=8, min_samples_split=100, n_estimators=150, total=  49.8s\n",
      "[CV] max_features=8, min_samples_split=100, n_estimators=150 .........\n",
      "[CV]  max_features=8, min_samples_split=100, n_estimators=150, total=  49.5s\n",
      "[CV] max_features=8, min_samples_split=100, n_estimators=150 .........\n",
      "[CV]  max_features=8, min_samples_split=100, n_estimators=150, total=  49.6s\n",
      "[CV] max_features=8, min_samples_split=100, n_estimators=200 .........\n",
      "[CV]  max_features=8, min_samples_split=100, n_estimators=200, total= 1.1min\n",
      "[CV] max_features=8, min_samples_split=100, n_estimators=200 .........\n",
      "[CV]  max_features=8, min_samples_split=100, n_estimators=200, total= 1.1min\n",
      "[CV] max_features=8, min_samples_split=100, n_estimators=200 .........\n",
      "[CV]  max_features=8, min_samples_split=100, n_estimators=200, total= 1.1min\n",
      "[CV] max_features=8, min_samples_split=100, n_estimators=200 .........\n",
      "[CV]  max_features=8, min_samples_split=100, n_estimators=200, total= 1.1min\n",
      "[CV] max_features=8, min_samples_split=100, n_estimators=200 .........\n",
      "[CV]  max_features=8, min_samples_split=100, n_estimators=200, total= 1.1min\n",
      "[CV] max_features=8, min_samples_split=100, n_estimators=250 .........\n",
      "[CV]  max_features=8, min_samples_split=100, n_estimators=250, total= 1.4min\n",
      "[CV] max_features=8, min_samples_split=100, n_estimators=250 .........\n",
      "[CV]  max_features=8, min_samples_split=100, n_estimators=250, total= 1.4min\n",
      "[CV] max_features=8, min_samples_split=100, n_estimators=250 .........\n",
      "[CV]  max_features=8, min_samples_split=100, n_estimators=250, total= 1.4min\n",
      "[CV] max_features=8, min_samples_split=100, n_estimators=250 .........\n",
      "[CV]  max_features=8, min_samples_split=100, n_estimators=250, total= 1.4min\n",
      "[CV] max_features=8, min_samples_split=100, n_estimators=250 .........\n",
      "[CV]  max_features=8, min_samples_split=100, n_estimators=250, total= 1.4min\n",
      "[CV] max_features=8, min_samples_split=150, n_estimators=100 .........\n",
      "[CV]  max_features=8, min_samples_split=150, n_estimators=100, total=  31.8s\n",
      "[CV] max_features=8, min_samples_split=150, n_estimators=100 .........\n",
      "[CV]  max_features=8, min_samples_split=150, n_estimators=100, total=  31.8s\n",
      "[CV] max_features=8, min_samples_split=150, n_estimators=100 .........\n",
      "[CV]  max_features=8, min_samples_split=150, n_estimators=100, total=  31.8s\n",
      "[CV] max_features=8, min_samples_split=150, n_estimators=100 .........\n",
      "[CV]  max_features=8, min_samples_split=150, n_estimators=100, total=  31.9s\n",
      "[CV] max_features=8, min_samples_split=150, n_estimators=100 .........\n",
      "[CV]  max_features=8, min_samples_split=150, n_estimators=100, total=  32.1s\n",
      "[CV] max_features=8, min_samples_split=150, n_estimators=150 .........\n"
     ]
    },
    {
     "name": "stdout",
     "output_type": "stream",
     "text": [
      "[CV]  max_features=8, min_samples_split=150, n_estimators=150, total=  47.5s\n",
      "[CV] max_features=8, min_samples_split=150, n_estimators=150 .........\n",
      "[CV]  max_features=8, min_samples_split=150, n_estimators=150, total=  47.6s\n",
      "[CV] max_features=8, min_samples_split=150, n_estimators=150 .........\n",
      "[CV]  max_features=8, min_samples_split=150, n_estimators=150, total=  48.2s\n",
      "[CV] max_features=8, min_samples_split=150, n_estimators=150 .........\n",
      "[CV]  max_features=8, min_samples_split=150, n_estimators=150, total=  47.5s\n",
      "[CV] max_features=8, min_samples_split=150, n_estimators=150 .........\n",
      "[CV]  max_features=8, min_samples_split=150, n_estimators=150, total=  47.8s\n",
      "[CV] max_features=8, min_samples_split=150, n_estimators=200 .........\n",
      "[CV]  max_features=8, min_samples_split=150, n_estimators=200, total= 1.1min\n",
      "[CV] max_features=8, min_samples_split=150, n_estimators=200 .........\n",
      "[CV]  max_features=8, min_samples_split=150, n_estimators=200, total= 1.1min\n",
      "[CV] max_features=8, min_samples_split=150, n_estimators=200 .........\n",
      "[CV]  max_features=8, min_samples_split=150, n_estimators=200, total= 1.1min\n",
      "[CV] max_features=8, min_samples_split=150, n_estimators=200 .........\n",
      "[CV]  max_features=8, min_samples_split=150, n_estimators=200, total= 1.1min\n",
      "[CV] max_features=8, min_samples_split=150, n_estimators=200 .........\n",
      "[CV]  max_features=8, min_samples_split=150, n_estimators=200, total= 1.1min\n",
      "[CV] max_features=8, min_samples_split=150, n_estimators=250 .........\n",
      "[CV]  max_features=8, min_samples_split=150, n_estimators=250, total= 1.3min\n",
      "[CV] max_features=8, min_samples_split=150, n_estimators=250 .........\n",
      "[CV]  max_features=8, min_samples_split=150, n_estimators=250, total= 1.3min\n",
      "[CV] max_features=8, min_samples_split=150, n_estimators=250 .........\n",
      "[CV]  max_features=8, min_samples_split=150, n_estimators=250, total= 1.3min\n",
      "[CV] max_features=8, min_samples_split=150, n_estimators=250 .........\n",
      "[CV]  max_features=8, min_samples_split=150, n_estimators=250, total= 1.3min\n",
      "[CV] max_features=8, min_samples_split=150, n_estimators=250 .........\n",
      "[CV]  max_features=8, min_samples_split=150, n_estimators=250, total= 1.3min\n"
     ]
    },
    {
     "name": "stderr",
     "output_type": "stream",
     "text": [
      "[Parallel(n_jobs=1)]: Done 240 out of 240 | elapsed: 165.2min finished\n"
     ]
    },
    {
     "data": {
      "text/plain": [
       "GridSearchCV(cv=5, error_score='raise',\n",
       "       estimator=RandomForestClassifier(bootstrap=True, class_weight=None, criterion='gini',\n",
       "            max_depth=None, max_features='auto', max_leaf_nodes=None,\n",
       "            min_impurity_decrease=0.0, min_impurity_split=None,\n",
       "            min_samples_leaf=1, min_samples_split=2,\n",
       "            min_weight_fraction_leaf=0.0, n_estimators=10, n_jobs=1,\n",
       "            oob_score=False, random_state=None, verbose=0,\n",
       "            warm_start=False),\n",
       "       fit_params=None, iid=True, n_jobs=1,\n",
       "       param_grid=[{'n_estimators': [100, 150, 200, 250], 'max_features': [2, 4, 6, 8], 'min_samples_split': [50, 100, 150]}],\n",
       "       pre_dispatch='2*n_jobs', refit=True, return_train_score='warn',\n",
       "       scoring=None, verbose=2)"
      ]
     },
     "execution_count": 91,
     "metadata": {},
     "output_type": "execute_result"
    }
   ],
   "source": [
    "# Set up the parameter grid to seaerch\n",
    "param_grid = [\n",
    " {'n_estimators': list(range(100, 300, 50)), 'max_features': list(range(2, 10, 2)), 'min_samples_split': list(range(50,200,50)) }\n",
    "]\n",
    "\n",
    "# Perform the search\n",
    "my_tuned_model = GridSearchCV(ensemble.RandomForestClassifier(), param_grid, cv=cv_folds, verbose = 2)\n",
    "my_tuned_model.fit(X_train_plus_valid, y_train_plus_valid)"
   ]
  },
  {
   "cell_type": "code",
   "execution_count": 92,
   "metadata": {
    "collapsed": true
   },
   "outputs": [],
   "source": [
    "# Make a set of predictions for the tet data\n",
    "y_pred = my_tuned_model.predict(X_test)"
   ]
  },
  {
   "cell_type": "code",
   "execution_count": 93,
   "metadata": {
    "collapsed": true
   },
   "outputs": [],
   "source": [
    "# Print performance details\n",
    "accuracy = metrics.accuracy_score(y_test, y_pred) # , normalize=True, sample_weight=None"
   ]
  },
  {
   "cell_type": "code",
   "execution_count": 94,
   "metadata": {},
   "outputs": [
    {
     "data": {
      "text/plain": [
       "0.8991968616640602"
      ]
     },
     "execution_count": 94,
     "metadata": {},
     "output_type": "execute_result"
    }
   ],
   "source": [
    "accuracy"
   ]
  },
  {
   "cell_type": "markdown",
   "metadata": {},
   "source": [
    "### Persist A Model"
   ]
  },
  {
   "cell_type": "code",
   "execution_count": 115,
   "metadata": {
    "collapsed": true
   },
   "outputs": [],
   "source": [
    "from sklearn.externals import joblib"
   ]
  },
  {
   "cell_type": "code",
   "execution_count": 116,
   "metadata": {},
   "outputs": [
    {
     "data": {
      "text/plain": [
       "['player_state.pkl']"
      ]
     },
     "execution_count": 116,
     "metadata": {},
     "output_type": "execute_result"
    }
   ],
   "source": [
    "joblib.dump(my_tuned_model, 'player_state.pkl')"
   ]
  },
  {
   "cell_type": "code",
   "execution_count": 97,
   "metadata": {
    "collapsed": true
   },
   "outputs": [],
   "source": [
    "clf = joblib.load('player_state.pkl') "
   ]
  },
  {
   "cell_type": "code",
   "execution_count": 98,
   "metadata": {},
   "outputs": [
    {
     "data": {
      "text/plain": [
       "array([2, 2, 0, ..., 2, 0, 2])"
      ]
     },
     "execution_count": 98,
     "metadata": {},
     "output_type": "execute_result"
    }
   ],
   "source": [
    "clf.predict(X_test)"
   ]
  },
  {
   "cell_type": "markdown",
   "metadata": {},
   "source": [
    "Neural Network"
   ]
  },
  {
   "cell_type": "code",
   "execution_count": 99,
   "metadata": {},
   "outputs": [
    {
     "name": "stdout",
     "output_type": "stream",
     "text": [
      "Fitting 5 folds for each of 18 candidates, totalling 90 fits\n",
      "[CV] alpha=0.1, hidden_layer_sizes=400 ...............................\n",
      "[CV] ................ alpha=0.1, hidden_layer_sizes=400, total=  16.6s\n",
      "[CV] alpha=0.1, hidden_layer_sizes=400 ...............................\n"
     ]
    },
    {
     "name": "stderr",
     "output_type": "stream",
     "text": [
      "[Parallel(n_jobs=1)]: Done   1 out of   1 | elapsed:   17.0s remaining:    0.0s\n"
     ]
    },
    {
     "name": "stdout",
     "output_type": "stream",
     "text": [
      "[CV] ................ alpha=0.1, hidden_layer_sizes=400, total=   2.6s\n",
      "[CV] alpha=0.1, hidden_layer_sizes=400 ...............................\n",
      "[CV] ................ alpha=0.1, hidden_layer_sizes=400, total=   4.6s\n",
      "[CV] alpha=0.1, hidden_layer_sizes=400 ...............................\n",
      "[CV] ................ alpha=0.1, hidden_layer_sizes=400, total=  14.5s\n",
      "[CV] alpha=0.1, hidden_layer_sizes=400 ...............................\n",
      "[CV] ................ alpha=0.1, hidden_layer_sizes=400, total=   3.1s\n",
      "[CV] alpha=0.1, hidden_layer_sizes=(400, 200) ........................\n",
      "[CV] ......... alpha=0.1, hidden_layer_sizes=(400, 200), total=  22.1s\n",
      "[CV] alpha=0.1, hidden_layer_sizes=(400, 200) ........................\n",
      "[CV] ......... alpha=0.1, hidden_layer_sizes=(400, 200), total=  22.1s\n",
      "[CV] alpha=0.1, hidden_layer_sizes=(400, 200) ........................\n",
      "[CV] ......... alpha=0.1, hidden_layer_sizes=(400, 200), total=  27.4s\n",
      "[CV] alpha=0.1, hidden_layer_sizes=(400, 200) ........................\n",
      "[CV] ......... alpha=0.1, hidden_layer_sizes=(400, 200), total=  32.7s\n",
      "[CV] alpha=0.1, hidden_layer_sizes=(400, 200) ........................\n",
      "[CV] ......... alpha=0.1, hidden_layer_sizes=(400, 200), total=  25.4s\n",
      "[CV] alpha=0.1, hidden_layer_sizes=(400, 200, 100) ...................\n",
      "[CV] .... alpha=0.1, hidden_layer_sizes=(400, 200, 100), total=  33.3s\n",
      "[CV] alpha=0.1, hidden_layer_sizes=(400, 200, 100) ...................\n",
      "[CV] .... alpha=0.1, hidden_layer_sizes=(400, 200, 100), total=  33.6s\n",
      "[CV] alpha=0.1, hidden_layer_sizes=(400, 200, 100) ...................\n",
      "[CV] .... alpha=0.1, hidden_layer_sizes=(400, 200, 100), total=  45.7s\n",
      "[CV] alpha=0.1, hidden_layer_sizes=(400, 200, 100) ...................\n",
      "[CV] .... alpha=0.1, hidden_layer_sizes=(400, 200, 100), total=  43.0s\n",
      "[CV] alpha=0.1, hidden_layer_sizes=(400, 200, 100) ...................\n",
      "[CV] .... alpha=0.1, hidden_layer_sizes=(400, 200, 100), total=  39.9s\n",
      "[CV] alpha=0.01, hidden_layer_sizes=400 ..............................\n",
      "[CV] ............... alpha=0.01, hidden_layer_sizes=400, total=  19.8s\n",
      "[CV] alpha=0.01, hidden_layer_sizes=400 ..............................\n",
      "[CV] ............... alpha=0.01, hidden_layer_sizes=400, total=  17.9s\n",
      "[CV] alpha=0.01, hidden_layer_sizes=400 ..............................\n",
      "[CV] ............... alpha=0.01, hidden_layer_sizes=400, total=  21.5s\n",
      "[CV] alpha=0.01, hidden_layer_sizes=400 ..............................\n",
      "[CV] ............... alpha=0.01, hidden_layer_sizes=400, total=  19.3s\n",
      "[CV] alpha=0.01, hidden_layer_sizes=400 ..............................\n",
      "[CV] ............... alpha=0.01, hidden_layer_sizes=400, total=  18.1s\n",
      "[CV] alpha=0.01, hidden_layer_sizes=(400, 200) .......................\n",
      "[CV] ........ alpha=0.01, hidden_layer_sizes=(400, 200), total=  57.6s\n",
      "[CV] alpha=0.01, hidden_layer_sizes=(400, 200) .......................\n",
      "[CV] ........ alpha=0.01, hidden_layer_sizes=(400, 200), total=  47.4s\n",
      "[CV] alpha=0.01, hidden_layer_sizes=(400, 200) .......................\n",
      "[CV] ........ alpha=0.01, hidden_layer_sizes=(400, 200), total=  44.1s\n",
      "[CV] alpha=0.01, hidden_layer_sizes=(400, 200) .......................\n",
      "[CV] ........ alpha=0.01, hidden_layer_sizes=(400, 200), total=  45.6s\n",
      "[CV] alpha=0.01, hidden_layer_sizes=(400, 200) .......................\n",
      "[CV] ........ alpha=0.01, hidden_layer_sizes=(400, 200), total=  57.7s\n",
      "[CV] alpha=0.01, hidden_layer_sizes=(400, 200, 100) ..................\n",
      "[CV] ... alpha=0.01, hidden_layer_sizes=(400, 200, 100), total= 1.6min\n",
      "[CV] alpha=0.01, hidden_layer_sizes=(400, 200, 100) ..................\n",
      "[CV] ... alpha=0.01, hidden_layer_sizes=(400, 200, 100), total=  39.9s\n",
      "[CV] alpha=0.01, hidden_layer_sizes=(400, 200, 100) ..................\n",
      "[CV] ... alpha=0.01, hidden_layer_sizes=(400, 200, 100), total=  49.5s\n",
      "[CV] alpha=0.01, hidden_layer_sizes=(400, 200, 100) ..................\n",
      "[CV] ... alpha=0.01, hidden_layer_sizes=(400, 200, 100), total=  39.9s\n",
      "[CV] alpha=0.01, hidden_layer_sizes=(400, 200, 100) ..................\n",
      "[CV] ... alpha=0.01, hidden_layer_sizes=(400, 200, 100), total=  37.5s\n",
      "[CV] alpha=0.001, hidden_layer_sizes=400 .............................\n",
      "[CV] .............. alpha=0.001, hidden_layer_sizes=400, total= 4.2min\n",
      "[CV] alpha=0.001, hidden_layer_sizes=400 .............................\n",
      "[CV] .............. alpha=0.001, hidden_layer_sizes=400, total= 4.2min\n",
      "[CV] alpha=0.001, hidden_layer_sizes=400 .............................\n",
      "[CV] .............. alpha=0.001, hidden_layer_sizes=400, total= 3.6min\n",
      "[CV] alpha=0.001, hidden_layer_sizes=400 .............................\n",
      "[CV] .............. alpha=0.001, hidden_layer_sizes=400, total= 3.3min\n",
      "[CV] alpha=0.001, hidden_layer_sizes=400 .............................\n",
      "[CV] .............. alpha=0.001, hidden_layer_sizes=400, total= 3.7min\n",
      "[CV] alpha=0.001, hidden_layer_sizes=(400, 200) ......................\n",
      "[CV] ....... alpha=0.001, hidden_layer_sizes=(400, 200), total=  49.0s\n",
      "[CV] alpha=0.001, hidden_layer_sizes=(400, 200) ......................\n",
      "[CV] ....... alpha=0.001, hidden_layer_sizes=(400, 200), total=38.7min\n",
      "[CV] alpha=0.001, hidden_layer_sizes=(400, 200) ......................\n",
      "[CV] ....... alpha=0.001, hidden_layer_sizes=(400, 200), total=30.3min\n",
      "[CV] alpha=0.001, hidden_layer_sizes=(400, 200) ......................\n",
      "[CV] ....... alpha=0.001, hidden_layer_sizes=(400, 200), total=25.7min\n",
      "[CV] alpha=0.001, hidden_layer_sizes=(400, 200) ......................\n",
      "[CV] ....... alpha=0.001, hidden_layer_sizes=(400, 200), total=37.8min\n",
      "[CV] alpha=0.001, hidden_layer_sizes=(400, 200, 100) .................\n",
      "[CV] .. alpha=0.001, hidden_layer_sizes=(400, 200, 100), total=18.3min\n",
      "[CV] alpha=0.001, hidden_layer_sizes=(400, 200, 100) .................\n",
      "[CV] .. alpha=0.001, hidden_layer_sizes=(400, 200, 100), total=15.6min\n",
      "[CV] alpha=0.001, hidden_layer_sizes=(400, 200, 100) .................\n",
      "[CV] .. alpha=0.001, hidden_layer_sizes=(400, 200, 100), total=12.5min\n",
      "[CV] alpha=0.001, hidden_layer_sizes=(400, 200, 100) .................\n",
      "[CV] .. alpha=0.001, hidden_layer_sizes=(400, 200, 100), total= 7.0min\n",
      "[CV] alpha=0.001, hidden_layer_sizes=(400, 200, 100) .................\n",
      "[CV] .. alpha=0.001, hidden_layer_sizes=(400, 200, 100), total= 1.2min\n",
      "[CV] alpha=0.0001, hidden_layer_sizes=400 ............................\n",
      "[CV] ............. alpha=0.0001, hidden_layer_sizes=400, total= 5.3min\n",
      "[CV] alpha=0.0001, hidden_layer_sizes=400 ............................\n",
      "[CV] ............. alpha=0.0001, hidden_layer_sizes=400, total= 5.1min\n",
      "[CV] alpha=0.0001, hidden_layer_sizes=400 ............................\n"
     ]
    },
    {
     "name": "stderr",
     "output_type": "stream",
     "text": [
      "/Users/leejoonsung/anaconda/lib/python3.6/site-packages/sklearn/neural_network/multilayer_perceptron.py:564: ConvergenceWarning: Stochastic Optimizer: Maximum iterations (200) reached and the optimization hasn't converged yet.\n",
      "  % self.max_iter, ConvergenceWarning)\n"
     ]
    },
    {
     "name": "stdout",
     "output_type": "stream",
     "text": [
      "[CV] ............. alpha=0.0001, hidden_layer_sizes=400, total= 5.2min\n",
      "[CV] alpha=0.0001, hidden_layer_sizes=400 ............................\n"
     ]
    },
    {
     "name": "stderr",
     "output_type": "stream",
     "text": [
      "/Users/leejoonsung/anaconda/lib/python3.6/site-packages/sklearn/neural_network/multilayer_perceptron.py:564: ConvergenceWarning: Stochastic Optimizer: Maximum iterations (200) reached and the optimization hasn't converged yet.\n",
      "  % self.max_iter, ConvergenceWarning)\n"
     ]
    },
    {
     "name": "stdout",
     "output_type": "stream",
     "text": [
      "[CV] ............. alpha=0.0001, hidden_layer_sizes=400, total= 5.3min\n",
      "[CV] alpha=0.0001, hidden_layer_sizes=400 ............................\n"
     ]
    },
    {
     "name": "stderr",
     "output_type": "stream",
     "text": [
      "/Users/leejoonsung/anaconda/lib/python3.6/site-packages/sklearn/neural_network/multilayer_perceptron.py:564: ConvergenceWarning: Stochastic Optimizer: Maximum iterations (200) reached and the optimization hasn't converged yet.\n",
      "  % self.max_iter, ConvergenceWarning)\n"
     ]
    },
    {
     "name": "stdout",
     "output_type": "stream",
     "text": [
      "[CV] ............. alpha=0.0001, hidden_layer_sizes=400, total= 5.3min\n",
      "[CV] alpha=0.0001, hidden_layer_sizes=(400, 200) .....................\n",
      "[CV] ...... alpha=0.0001, hidden_layer_sizes=(400, 200), total=22.5min\n",
      "[CV] alpha=0.0001, hidden_layer_sizes=(400, 200) .....................\n",
      "[CV] ...... alpha=0.0001, hidden_layer_sizes=(400, 200), total=49.2min\n",
      "[CV] alpha=0.0001, hidden_layer_sizes=(400, 200) .....................\n",
      "[CV] ...... alpha=0.0001, hidden_layer_sizes=(400, 200), total=27.8min\n",
      "[CV] alpha=0.0001, hidden_layer_sizes=(400, 200) .....................\n",
      "[CV] ...... alpha=0.0001, hidden_layer_sizes=(400, 200), total=30.2min\n",
      "[CV] alpha=0.0001, hidden_layer_sizes=(400, 200) .....................\n",
      "[CV] ...... alpha=0.0001, hidden_layer_sizes=(400, 200), total= 4.2min\n",
      "[CV] alpha=0.0001, hidden_layer_sizes=(400, 200, 100) ................\n",
      "[CV] . alpha=0.0001, hidden_layer_sizes=(400, 200, 100), total=13.9min\n",
      "[CV] alpha=0.0001, hidden_layer_sizes=(400, 200, 100) ................\n",
      "[CV] . alpha=0.0001, hidden_layer_sizes=(400, 200, 100), total=12.0min\n",
      "[CV] alpha=0.0001, hidden_layer_sizes=(400, 200, 100) ................\n",
      "[CV] . alpha=0.0001, hidden_layer_sizes=(400, 200, 100), total=11.5min\n",
      "[CV] alpha=0.0001, hidden_layer_sizes=(400, 200, 100) ................\n",
      "[CV] . alpha=0.0001, hidden_layer_sizes=(400, 200, 100), total= 8.2min\n",
      "[CV] alpha=0.0001, hidden_layer_sizes=(400, 200, 100) ................\n",
      "[CV] . alpha=0.0001, hidden_layer_sizes=(400, 200, 100), total= 5.8min\n",
      "[CV] alpha=1e-05, hidden_layer_sizes=400 .............................\n"
     ]
    },
    {
     "name": "stderr",
     "output_type": "stream",
     "text": [
      "/Users/leejoonsung/anaconda/lib/python3.6/site-packages/sklearn/neural_network/multilayer_perceptron.py:564: ConvergenceWarning: Stochastic Optimizer: Maximum iterations (200) reached and the optimization hasn't converged yet.\n",
      "  % self.max_iter, ConvergenceWarning)\n"
     ]
    },
    {
     "name": "stdout",
     "output_type": "stream",
     "text": [
      "[CV] .............. alpha=1e-05, hidden_layer_sizes=400, total= 1.7min\n",
      "[CV] alpha=1e-05, hidden_layer_sizes=400 .............................\n",
      "[CV] .............. alpha=1e-05, hidden_layer_sizes=400, total= 1.7min\n",
      "[CV] alpha=1e-05, hidden_layer_sizes=400 .............................\n"
     ]
    },
    {
     "name": "stderr",
     "output_type": "stream",
     "text": [
      "/Users/leejoonsung/anaconda/lib/python3.6/site-packages/sklearn/neural_network/multilayer_perceptron.py:564: ConvergenceWarning: Stochastic Optimizer: Maximum iterations (200) reached and the optimization hasn't converged yet.\n",
      "  % self.max_iter, ConvergenceWarning)\n"
     ]
    },
    {
     "name": "stdout",
     "output_type": "stream",
     "text": [
      "[CV] .............. alpha=1e-05, hidden_layer_sizes=400, total= 1.7min\n",
      "[CV] alpha=1e-05, hidden_layer_sizes=400 .............................\n",
      "[CV] .............. alpha=1e-05, hidden_layer_sizes=400, total= 1.3min\n",
      "[CV] alpha=1e-05, hidden_layer_sizes=400 .............................\n"
     ]
    },
    {
     "name": "stderr",
     "output_type": "stream",
     "text": [
      "/Users/leejoonsung/anaconda/lib/python3.6/site-packages/sklearn/neural_network/multilayer_perceptron.py:564: ConvergenceWarning: Stochastic Optimizer: Maximum iterations (200) reached and the optimization hasn't converged yet.\n",
      "  % self.max_iter, ConvergenceWarning)\n"
     ]
    },
    {
     "name": "stdout",
     "output_type": "stream",
     "text": [
      "[CV] .............. alpha=1e-05, hidden_layer_sizes=400, total= 1.7min\n",
      "[CV] alpha=1e-05, hidden_layer_sizes=(400, 200) ......................\n",
      "[CV] ....... alpha=1e-05, hidden_layer_sizes=(400, 200), total= 2.7min\n",
      "[CV] alpha=1e-05, hidden_layer_sizes=(400, 200) ......................\n",
      "[CV] ....... alpha=1e-05, hidden_layer_sizes=(400, 200), total= 2.9min\n",
      "[CV] alpha=1e-05, hidden_layer_sizes=(400, 200) ......................\n",
      "[CV] ....... alpha=1e-05, hidden_layer_sizes=(400, 200), total= 2.7min\n",
      "[CV] alpha=1e-05, hidden_layer_sizes=(400, 200) ......................\n",
      "[CV] ....... alpha=1e-05, hidden_layer_sizes=(400, 200), total= 2.4min\n",
      "[CV] alpha=1e-05, hidden_layer_sizes=(400, 200) ......................\n",
      "[CV] ....... alpha=1e-05, hidden_layer_sizes=(400, 200), total= 2.5min\n",
      "[CV] alpha=1e-05, hidden_layer_sizes=(400, 200, 100) .................\n",
      "[CV] .. alpha=1e-05, hidden_layer_sizes=(400, 200, 100), total= 2.1min\n",
      "[CV] alpha=1e-05, hidden_layer_sizes=(400, 200, 100) .................\n",
      "[CV] .. alpha=1e-05, hidden_layer_sizes=(400, 200, 100), total= 1.6min\n",
      "[CV] alpha=1e-05, hidden_layer_sizes=(400, 200, 100) .................\n",
      "[CV] .. alpha=1e-05, hidden_layer_sizes=(400, 200, 100), total= 2.6min\n",
      "[CV] alpha=1e-05, hidden_layer_sizes=(400, 200, 100) .................\n",
      "[CV] .. alpha=1e-05, hidden_layer_sizes=(400, 200, 100), total= 2.2min\n",
      "[CV] alpha=1e-05, hidden_layer_sizes=(400, 200, 100) .................\n",
      "[CV] .. alpha=1e-05, hidden_layer_sizes=(400, 200, 100), total= 2.2min\n",
      "[CV] alpha=1e-06, hidden_layer_sizes=400 .............................\n"
     ]
    },
    {
     "name": "stderr",
     "output_type": "stream",
     "text": [
      "/Users/leejoonsung/anaconda/lib/python3.6/site-packages/sklearn/neural_network/multilayer_perceptron.py:564: ConvergenceWarning: Stochastic Optimizer: Maximum iterations (200) reached and the optimization hasn't converged yet.\n",
      "  % self.max_iter, ConvergenceWarning)\n"
     ]
    },
    {
     "name": "stdout",
     "output_type": "stream",
     "text": [
      "[CV] .............. alpha=1e-06, hidden_layer_sizes=400, total= 1.7min\n",
      "[CV] alpha=1e-06, hidden_layer_sizes=400 .............................\n"
     ]
    },
    {
     "name": "stderr",
     "output_type": "stream",
     "text": [
      "/Users/leejoonsung/anaconda/lib/python3.6/site-packages/sklearn/neural_network/multilayer_perceptron.py:564: ConvergenceWarning: Stochastic Optimizer: Maximum iterations (200) reached and the optimization hasn't converged yet.\n",
      "  % self.max_iter, ConvergenceWarning)\n"
     ]
    },
    {
     "name": "stdout",
     "output_type": "stream",
     "text": [
      "[CV] .............. alpha=1e-06, hidden_layer_sizes=400, total= 1.7min\n",
      "[CV] alpha=1e-06, hidden_layer_sizes=400 .............................\n"
     ]
    },
    {
     "name": "stderr",
     "output_type": "stream",
     "text": [
      "/Users/leejoonsung/anaconda/lib/python3.6/site-packages/sklearn/neural_network/multilayer_perceptron.py:564: ConvergenceWarning: Stochastic Optimizer: Maximum iterations (200) reached and the optimization hasn't converged yet.\n",
      "  % self.max_iter, ConvergenceWarning)\n"
     ]
    },
    {
     "name": "stdout",
     "output_type": "stream",
     "text": [
      "[CV] .............. alpha=1e-06, hidden_layer_sizes=400, total= 1.7min\n",
      "[CV] alpha=1e-06, hidden_layer_sizes=400 .............................\n"
     ]
    },
    {
     "name": "stderr",
     "output_type": "stream",
     "text": [
      "/Users/leejoonsung/anaconda/lib/python3.6/site-packages/sklearn/neural_network/multilayer_perceptron.py:564: ConvergenceWarning: Stochastic Optimizer: Maximum iterations (200) reached and the optimization hasn't converged yet.\n",
      "  % self.max_iter, ConvergenceWarning)\n"
     ]
    },
    {
     "name": "stdout",
     "output_type": "stream",
     "text": [
      "[CV] .............. alpha=1e-06, hidden_layer_sizes=400, total= 1.7min\n",
      "[CV] alpha=1e-06, hidden_layer_sizes=400 .............................\n"
     ]
    },
    {
     "name": "stderr",
     "output_type": "stream",
     "text": [
      "/Users/leejoonsung/anaconda/lib/python3.6/site-packages/sklearn/neural_network/multilayer_perceptron.py:564: ConvergenceWarning: Stochastic Optimizer: Maximum iterations (200) reached and the optimization hasn't converged yet.\n",
      "  % self.max_iter, ConvergenceWarning)\n"
     ]
    },
    {
     "name": "stdout",
     "output_type": "stream",
     "text": [
      "[CV] .............. alpha=1e-06, hidden_layer_sizes=400, total= 1.7min\n",
      "[CV] alpha=1e-06, hidden_layer_sizes=(400, 200) ......................\n",
      "[CV] ....... alpha=1e-06, hidden_layer_sizes=(400, 200), total= 3.9min\n",
      "[CV] alpha=1e-06, hidden_layer_sizes=(400, 200) ......................\n",
      "[CV] ....... alpha=1e-06, hidden_layer_sizes=(400, 200), total= 3.5min\n",
      "[CV] alpha=1e-06, hidden_layer_sizes=(400, 200) ......................\n",
      "[CV] ....... alpha=1e-06, hidden_layer_sizes=(400, 200), total= 3.7min\n",
      "[CV] alpha=1e-06, hidden_layer_sizes=(400, 200) ......................\n",
      "[CV] ....... alpha=1e-06, hidden_layer_sizes=(400, 200), total= 2.7min\n",
      "[CV] alpha=1e-06, hidden_layer_sizes=(400, 200) ......................\n",
      "[CV] ....... alpha=1e-06, hidden_layer_sizes=(400, 200), total= 3.0min\n",
      "[CV] alpha=1e-06, hidden_layer_sizes=(400, 200, 100) .................\n",
      "[CV] .. alpha=1e-06, hidden_layer_sizes=(400, 200, 100), total= 2.1min\n",
      "[CV] alpha=1e-06, hidden_layer_sizes=(400, 200, 100) .................\n",
      "[CV] .. alpha=1e-06, hidden_layer_sizes=(400, 200, 100), total= 2.3min\n",
      "[CV] alpha=1e-06, hidden_layer_sizes=(400, 200, 100) .................\n",
      "[CV] .. alpha=1e-06, hidden_layer_sizes=(400, 200, 100), total= 1.7min\n",
      "[CV] alpha=1e-06, hidden_layer_sizes=(400, 200, 100) .................\n",
      "[CV] .. alpha=1e-06, hidden_layer_sizes=(400, 200, 100), total=  28.2s\n",
      "[CV] alpha=1e-06, hidden_layer_sizes=(400, 200, 100) .................\n",
      "[CV] .. alpha=1e-06, hidden_layer_sizes=(400, 200, 100), total= 1.9min\n"
     ]
    },
    {
     "name": "stderr",
     "output_type": "stream",
     "text": [
      "[Parallel(n_jobs=1)]: Done  90 out of  90 | elapsed: 502.9min finished\n"
     ]
    },
    {
     "data": {
      "text/plain": [
       "GridSearchCV(cv=5, error_score='raise',\n",
       "       estimator=MLPClassifier(activation='relu', alpha=0.0001, batch_size='auto', beta_1=0.9,\n",
       "       beta_2=0.999, early_stopping=False, epsilon=1e-08,\n",
       "       hidden_layer_sizes=(100,), learning_rate='constant',\n",
       "       learning_rate_init=0.001, max_iter=200, momentum=0.9,\n",
       "       nesterovs_momentum=True, power_t=0.5, random_state=None,\n",
       "       shuffle=True, solver='adam', tol=0.0001, validation_fraction=0.1,\n",
       "       verbose=False, warm_start=False),\n",
       "       fit_params=None, iid=True, n_jobs=1,\n",
       "       param_grid=[{'hidden_layer_sizes': [400, (400, 200), (400, 200, 100)], 'alpha': [0.1, 0.01, 0.001, 0.0001, 1e-05, 1e-06]}],\n",
       "       pre_dispatch='2*n_jobs', refit=True, return_train_score='warn',\n",
       "       scoring=None, verbose=2)"
      ]
     },
     "execution_count": 99,
     "metadata": {},
     "output_type": "execute_result"
    }
   ],
   "source": [
    "# Set up the parameter grid to seaerch\n",
    "param_grid1 = [\n",
    "               {'hidden_layer_sizes': [(400), (400, 200), (400, 200, 100)], \n",
    "               'alpha': list(10.0 ** -np.arange(1, 7))}\n",
    "]\n",
    "\n",
    "# Perform the search\n",
    "my_tuned_model1 = GridSearchCV(neural_network.MLPClassifier(), param_grid1, cv=cv_folds, verbose = 2)\n",
    "my_tuned_model1.fit(X_train_plus_valid, y_train_plus_valid)\n"
   ]
  },
  {
   "cell_type": "code",
   "execution_count": 100,
   "metadata": {
    "collapsed": true
   },
   "outputs": [],
   "source": [
    "# Make a set of predictions for the tet data\n",
    "y_pred1 = my_tuned_model1.predict(X_test)"
   ]
  },
  {
   "cell_type": "code",
   "execution_count": 101,
   "metadata": {
    "collapsed": true
   },
   "outputs": [],
   "source": [
    "# Print performance details\n",
    "accuracy1 = metrics.accuracy_score(y_test, y_pred1) # , normalize=True, sample_weight=None"
   ]
  },
  {
   "cell_type": "code",
   "execution_count": 102,
   "metadata": {},
   "outputs": [
    {
     "data": {
      "text/plain": [
       "0.8984546876242478"
      ]
     },
     "execution_count": 102,
     "metadata": {},
     "output_type": "execute_result"
    }
   ],
   "source": [
    "accuracy1"
   ]
  },
  {
   "cell_type": "markdown",
   "metadata": {},
   "source": [
    "KNN"
   ]
  },
  {
   "cell_type": "code",
   "execution_count": 103,
   "metadata": {},
   "outputs": [
    {
     "name": "stdout",
     "output_type": "stream",
     "text": [
      "Fitting 5 folds for each of 10 candidates, totalling 50 fits\n",
      "[CV] n_neighbors=1 ...................................................\n",
      "[CV] .................................... n_neighbors=1, total=   0.6s\n",
      "[CV] n_neighbors=1 ...................................................\n"
     ]
    },
    {
     "name": "stderr",
     "output_type": "stream",
     "text": [
      "[Parallel(n_jobs=1)]: Done   1 out of   1 | elapsed:    1.2s remaining:    0.0s\n"
     ]
    },
    {
     "name": "stdout",
     "output_type": "stream",
     "text": [
      "[CV] .................................... n_neighbors=1, total=   0.6s\n",
      "[CV] n_neighbors=1 ...................................................\n",
      "[CV] .................................... n_neighbors=1, total=   0.5s\n",
      "[CV] n_neighbors=1 ...................................................\n",
      "[CV] .................................... n_neighbors=1, total=   0.4s\n",
      "[CV] n_neighbors=1 ...................................................\n",
      "[CV] .................................... n_neighbors=1, total=   0.5s\n",
      "[CV] n_neighbors=6 ...................................................\n",
      "[CV] .................................... n_neighbors=6, total=   0.9s\n",
      "[CV] n_neighbors=6 ...................................................\n",
      "[CV] .................................... n_neighbors=6, total=   0.9s\n",
      "[CV] n_neighbors=6 ...................................................\n",
      "[CV] .................................... n_neighbors=6, total=   0.9s\n",
      "[CV] n_neighbors=6 ...................................................\n",
      "[CV] .................................... n_neighbors=6, total=   0.8s\n",
      "[CV] n_neighbors=6 ...................................................\n",
      "[CV] .................................... n_neighbors=6, total=   0.9s\n",
      "[CV] n_neighbors=11 ..................................................\n",
      "[CV] ................................... n_neighbors=11, total=   1.1s\n",
      "[CV] n_neighbors=11 ..................................................\n",
      "[CV] ................................... n_neighbors=11, total=   1.0s\n",
      "[CV] n_neighbors=11 ..................................................\n",
      "[CV] ................................... n_neighbors=11, total=   1.0s\n",
      "[CV] n_neighbors=11 ..................................................\n",
      "[CV] ................................... n_neighbors=11, total=   0.8s\n",
      "[CV] n_neighbors=11 ..................................................\n",
      "[CV] ................................... n_neighbors=11, total=   1.1s\n",
      "[CV] n_neighbors=16 ..................................................\n",
      "[CV] ................................... n_neighbors=16, total=   1.2s\n",
      "[CV] n_neighbors=16 ..................................................\n",
      "[CV] ................................... n_neighbors=16, total=   1.3s\n",
      "[CV] n_neighbors=16 ..................................................\n",
      "[CV] ................................... n_neighbors=16, total=   1.1s\n",
      "[CV] n_neighbors=16 ..................................................\n",
      "[CV] ................................... n_neighbors=16, total=   1.1s\n",
      "[CV] n_neighbors=16 ..................................................\n",
      "[CV] ................................... n_neighbors=16, total=   1.1s\n",
      "[CV] n_neighbors=21 ..................................................\n",
      "[CV] ................................... n_neighbors=21, total=   1.3s\n",
      "[CV] n_neighbors=21 ..................................................\n",
      "[CV] ................................... n_neighbors=21, total=   1.3s\n",
      "[CV] n_neighbors=21 ..................................................\n",
      "[CV] ................................... n_neighbors=21, total=   1.2s\n",
      "[CV] n_neighbors=21 ..................................................\n",
      "[CV] ................................... n_neighbors=21, total=   1.1s\n",
      "[CV] n_neighbors=21 ..................................................\n",
      "[CV] ................................... n_neighbors=21, total=   1.3s\n",
      "[CV] n_neighbors=26 ..................................................\n",
      "[CV] ................................... n_neighbors=26, total=   1.3s\n",
      "[CV] n_neighbors=26 ..................................................\n",
      "[CV] ................................... n_neighbors=26, total=   1.4s\n",
      "[CV] n_neighbors=26 ..................................................\n",
      "[CV] ................................... n_neighbors=26, total=   1.4s\n",
      "[CV] n_neighbors=26 ..................................................\n",
      "[CV] ................................... n_neighbors=26, total=   1.2s\n",
      "[CV] n_neighbors=26 ..................................................\n",
      "[CV] ................................... n_neighbors=26, total=   1.4s\n",
      "[CV] n_neighbors=31 ..................................................\n",
      "[CV] ................................... n_neighbors=31, total=   1.4s\n",
      "[CV] n_neighbors=31 ..................................................\n",
      "[CV] ................................... n_neighbors=31, total=   1.4s\n",
      "[CV] n_neighbors=31 ..................................................\n",
      "[CV] ................................... n_neighbors=31, total=   1.4s\n",
      "[CV] n_neighbors=31 ..................................................\n",
      "[CV] ................................... n_neighbors=31, total=   1.2s\n",
      "[CV] n_neighbors=31 ..................................................\n",
      "[CV] ................................... n_neighbors=31, total=   1.4s\n",
      "[CV] n_neighbors=36 ..................................................\n",
      "[CV] ................................... n_neighbors=36, total=   1.6s\n",
      "[CV] n_neighbors=36 ..................................................\n",
      "[CV] ................................... n_neighbors=36, total=   1.6s\n",
      "[CV] n_neighbors=36 ..................................................\n",
      "[CV] ................................... n_neighbors=36, total=   1.4s\n",
      "[CV] n_neighbors=36 ..................................................\n",
      "[CV] ................................... n_neighbors=36, total=   1.3s\n",
      "[CV] n_neighbors=36 ..................................................\n",
      "[CV] ................................... n_neighbors=36, total=   1.4s\n",
      "[CV] n_neighbors=41 ..................................................\n",
      "[CV] ................................... n_neighbors=41, total=   1.5s\n",
      "[CV] n_neighbors=41 ..................................................\n",
      "[CV] ................................... n_neighbors=41, total=   1.8s\n",
      "[CV] n_neighbors=41 ..................................................\n",
      "[CV] ................................... n_neighbors=41, total=   1.6s\n",
      "[CV] n_neighbors=41 ..................................................\n",
      "[CV] ................................... n_neighbors=41, total=   1.3s\n",
      "[CV] n_neighbors=41 ..................................................\n",
      "[CV] ................................... n_neighbors=41, total=   1.7s\n",
      "[CV] n_neighbors=46 ..................................................\n",
      "[CV] ................................... n_neighbors=46, total=   1.9s\n",
      "[CV] n_neighbors=46 ..................................................\n",
      "[CV] ................................... n_neighbors=46, total=   1.9s\n",
      "[CV] n_neighbors=46 ..................................................\n",
      "[CV] ................................... n_neighbors=46, total=   1.9s\n",
      "[CV] n_neighbors=46 ..................................................\n",
      "[CV] ................................... n_neighbors=46, total=   1.6s\n",
      "[CV] n_neighbors=46 ..................................................\n",
      "[CV] ................................... n_neighbors=46, total=   1.8s\n"
     ]
    },
    {
     "name": "stderr",
     "output_type": "stream",
     "text": [
      "[Parallel(n_jobs=1)]: Done  50 out of  50 | elapsed:  4.4min finished\n"
     ]
    },
    {
     "data": {
      "text/plain": [
       "GridSearchCV(cv=5, error_score='raise',\n",
       "       estimator=KNeighborsClassifier(algorithm='auto', leaf_size=30, metric='minkowski',\n",
       "           metric_params=None, n_jobs=1, n_neighbors=5, p=2,\n",
       "           weights='uniform'),\n",
       "       fit_params=None, iid=True, n_jobs=1,\n",
       "       param_grid=[{'n_neighbors': [1, 6, 11, 16, 21, 26, 31, 36, 41, 46]}],\n",
       "       pre_dispatch='2*n_jobs', refit=True, return_train_score='warn',\n",
       "       scoring=None, verbose=2)"
      ]
     },
     "execution_count": 103,
     "metadata": {},
     "output_type": "execute_result"
    }
   ],
   "source": [
    "# Set up the parameter grid to seaerch\n",
    "param_grid2 = [\n",
    "               {'n_neighbors': list(range(1, 50, 5))}\n",
    "]\n",
    "\n",
    "# Perform the search\n",
    "my_tuned_model2 = GridSearchCV(neighbors.KNeighborsClassifier(), param_grid2, cv=cv_folds, verbose = 2)\n",
    "my_tuned_model2.fit(X_train_plus_valid, y_train_plus_valid)"
   ]
  },
  {
   "cell_type": "code",
   "execution_count": 104,
   "metadata": {
    "collapsed": true
   },
   "outputs": [],
   "source": [
    "# Make a set of predictions for the tet data\n",
    "y_pred2 = my_tuned_model2.predict(X_test)"
   ]
  },
  {
   "cell_type": "code",
   "execution_count": 105,
   "metadata": {
    "collapsed": true
   },
   "outputs": [],
   "source": [
    "# Print performance details\n",
    "accuracy2 = metrics.accuracy_score(y_test, y_pred2) # , normalize=True, sample_weight=None"
   ]
  },
  {
   "cell_type": "code",
   "execution_count": 106,
   "metadata": {},
   "outputs": [
    {
     "data": {
      "text/plain": [
       "0.8356614626129828"
      ]
     },
     "execution_count": 106,
     "metadata": {},
     "output_type": "execute_result"
    }
   ],
   "source": [
    "accuracy2"
   ]
  },
  {
   "cell_type": "markdown",
   "metadata": {},
   "source": [
    "# Question2"
   ]
  },
  {
   "cell_type": "markdown",
   "metadata": {},
   "source": [
    "### Package import"
   ]
  },
  {
   "cell_type": "code",
   "execution_count": 32,
   "metadata": {},
   "outputs": [
    {
     "name": "stdout",
     "output_type": "stream",
     "text": [
      "Processed 0 of 32162\n",
      "Processed 1000 of 32162\n",
      "Processed 2000 of 32162\n",
      "Processed 3000 of 32162\n",
      "Processed 4000 of 32162\n",
      "Processed 5000 of 32162\n",
      "Processed 6000 of 32162\n",
      "Processed 7000 of 32162\n",
      "Processed 8000 of 32162\n",
      "Processed 9000 of 32162\n",
      "Processed 10000 of 32162\n",
      "Processed 11000 of 32162\n",
      "Processed 12000 of 32162\n",
      "Processed 13000 of 32162\n",
      "Processed 14000 of 32162\n",
      "Processed 15000 of 32162\n",
      "Processed 16000 of 32162\n",
      "Processed 17000 of 32162\n",
      "Processed 18000 of 32162\n",
      "Processed 19000 of 32162\n",
      "Processed 20000 of 32162\n",
      "Processed 21000 of 32162\n",
      "Processed 22000 of 32162\n",
      "Processed 23000 of 32162\n",
      "Processed 24000 of 32162\n",
      "Processed 25000 of 32162\n",
      "Processed 26000 of 32162\n",
      "Processed 27000 of 32162\n",
      "Processed 28000 of 32162\n",
      "Processed 29000 of 32162\n",
      "Processed 30000 of 32162\n",
      "Processed 31000 of 32162\n",
      "Processed 32000 of 32162\n",
      "Train shape: (32162, 1, 64, 64)\n"
     ]
    }
   ],
   "source": [
    "# Set up some parmaeters for data loading\n",
    "TRAIN_DIR = './data/'\n",
    "sample_rate = 0.5\n",
    "ROWS = 64\n",
    "COLS = 64\n",
    "CHANNELS = 1\n",
    "\n",
    "# generate filenames from the data folder and do sampling\n",
    "image_filenames = [TRAIN_DIR+i for i in os.listdir(TRAIN_DIR) if not i.startswith('.')] # use this for full dataset\n",
    "image_filenames = random.sample(image_filenames, int(len(image_filenames)*sample_rate))\n",
    "\n",
    "# Create a data array for image data\n",
    "count = len(image_filenames)\n",
    "data = np.ndarray((count, CHANNELS, ROWS, COLS), dtype=np.float)\n",
    "\n",
    "# Iterate throuigh the filenames and for each one load the image, resize and normalise\n",
    "for i, image_file in enumerate(image_filenames):\n",
    "    image = cv2.imread(image_file, cv2.IMREAD_GRAYSCALE)\n",
    "    image = cv2.resize(image, (ROWS, COLS), interpolation=cv2.INTER_CUBIC)        \n",
    "    data[i] = image\n",
    "    data[i] = data[i]/255\n",
    "    if i%1000 == 0: print('Processed {} of {}'.format(i, count))\n",
    "\n",
    "print(\"Train shape: {}\".format(data.shape))"
   ]
  },
  {
   "cell_type": "markdown",
   "metadata": {
    "collapsed": true
   },
   "source": [
    "### Generating the labels"
   ]
  },
  {
   "cell_type": "code",
   "execution_count": 33,
   "metadata": {
    "collapsed": true
   },
   "outputs": [],
   "source": [
    "# Extract the lables from the last characters in the filename\n",
    "labels = []\n",
    "for i in image_filenames:\n",
    "    l = i[-6:-5]\n",
    "    labels.append(int(l))\n",
    "        \n",
    "# Count the number of clases\n",
    "num_classes = len(set(labels))\n",
    "\n",
    "# convert to binary encoded labels\n",
    "labels_wide = keras.utils.to_categorical(labels, num_classes)"
   ]
  },
  {
   "cell_type": "markdown",
   "metadata": {},
   "source": [
    "### Partition the dataset for evaluation"
   ]
  },
  {
   "cell_type": "code",
   "execution_count": 34,
   "metadata": {
    "collapsed": true
   },
   "outputs": [],
   "source": [
    "train, test, train_labels, test_labels = train_test_split(data, labels, random_state=0, test_size = 0.2, train_size = 0.8)\n",
    "train_labels_wide = keras.utils.to_categorical(train_labels, num_classes)\n",
    "test_labels_wide = keras.utils.to_categorical(test_labels, num_classes)"
   ]
  },
  {
   "cell_type": "code",
   "execution_count": 35,
   "metadata": {
    "collapsed": true
   },
   "outputs": [],
   "source": [
    "# Apply the random under-sampling (balance the traning dataset)\n",
    "rus = RandomUnderSampler(return_indices=True)\n",
    "train_rus, train_labels_rus, idx_resampled = rus.fit_sample(train.reshape(len(train), ROWS*COLS*CHANNELS), train_labels)\n",
    "train_rus, train_labels_rus = shuffle(train_rus, train_labels_rus)\n",
    "train_rus = train_rus.reshape(len(train_rus), CHANNELS,ROWS, COLS)\n",
    "train_labels_rus_wide = keras.utils.to_categorical(train_labels_rus, num_classes)"
   ]
  },
  {
   "cell_type": "code",
   "execution_count": 36,
   "metadata": {
    "collapsed": true
   },
   "outputs": [],
   "source": [
    "from keras import backend as K\n",
    "K.set_image_data_format('channels_first')"
   ]
  },
  {
   "cell_type": "markdown",
   "metadata": {},
   "source": [
    "### Building a model"
   ]
  },
  {
   "cell_type": "markdown",
   "metadata": {},
   "source": [
    "CNN model - 2 layers"
   ]
  },
  {
   "cell_type": "code",
   "execution_count": 37,
   "metadata": {},
   "outputs": [
    {
     "name": "stdout",
     "output_type": "stream",
     "text": [
      "_________________________________________________________________\n",
      "Layer (type)                 Output Shape              Param #   \n",
      "=================================================================\n",
      "conv2d_1 (Conv2D)            (None, 32, 64, 64)        320       \n",
      "_________________________________________________________________\n",
      "max_pooling2d_1 (MaxPooling2 (None, 32, 32, 32)        0         \n",
      "_________________________________________________________________\n",
      "conv2d_2 (Conv2D)            (None, 48, 32, 32)        13872     \n",
      "_________________________________________________________________\n",
      "max_pooling2d_2 (MaxPooling2 (None, 48, 16, 16)        0         \n",
      "_________________________________________________________________\n",
      "flatten_1 (Flatten)          (None, 12288)             0         \n",
      "_________________________________________________________________\n",
      "dense_1 (Dense)              (None, 128)               1572992   \n",
      "_________________________________________________________________\n",
      "dropout_1 (Dropout)          (None, 128)               0         \n",
      "_________________________________________________________________\n",
      "dense_2 (Dense)              (None, 4)                 516       \n",
      "=================================================================\n",
      "Total params: 1,587,700\n",
      "Trainable params: 1,587,700\n",
      "Non-trainable params: 0\n",
      "_________________________________________________________________\n"
     ]
    }
   ],
   "source": [
    "model1 = Sequential()\n",
    "\n",
    "model1.add(Conv2D(32, (3, 3), padding='same', input_shape=(CHANNELS, ROWS, COLS), activation='relu'))\n",
    "model1.add(MaxPooling2D(pool_size=(2, 2)))\n",
    "model1.add(Conv2D(48, (3, 3), padding='same', activation='relu'))\n",
    "model1.add(MaxPooling2D(pool_size=(2, 2)))\n",
    "\n",
    "model1.add(Flatten())\n",
    "\n",
    "model1.add(Dense(128, activation='relu'))\n",
    "model1.add(Dropout(0.5))\n",
    "\n",
    "model1.add(Dense(num_classes, activation = 'softmax'))\n",
    "\n",
    "model1.summary()"
   ]
  },
  {
   "cell_type": "code",
   "execution_count": 38,
   "metadata": {
    "collapsed": true
   },
   "outputs": [],
   "source": [
    "model1.compile(loss='categorical_crossentropy', optimizer=adam(lr=1e-3), metrics=['accuracy'])"
   ]
  },
  {
   "cell_type": "markdown",
   "metadata": {},
   "source": [
    "### Train"
   ]
  },
  {
   "cell_type": "code",
   "execution_count": 39,
   "metadata": {},
   "outputs": [
    {
     "name": "stdout",
     "output_type": "stream",
     "text": [
      "Train on 8289 samples, validate on 2763 samples\n",
      "Epoch 1/30\n",
      "8289/8289 [==============================] - 100s 12ms/step - loss: 1.2737 - acc: 0.3826 - val_loss: 1.1226 - val_acc: 0.4730\n",
      "Epoch 2/30\n",
      "8289/8289 [==============================] - 99s 12ms/step - loss: 1.0940 - acc: 0.4843 - val_loss: 1.0372 - val_acc: 0.5074\n",
      "Epoch 3/30\n",
      "8289/8289 [==============================] - 98s 12ms/step - loss: 1.0332 - acc: 0.5204 - val_loss: 0.9938 - val_acc: 0.5349\n",
      "Epoch 4/30\n",
      "8289/8289 [==============================] - 98s 12ms/step - loss: 0.9990 - acc: 0.5246 - val_loss: 0.9794 - val_acc: 0.5349\n",
      "Epoch 5/30\n",
      "8289/8289 [==============================] - 111s 13ms/step - loss: 0.9705 - acc: 0.5412 - val_loss: 0.9725 - val_acc: 0.5360\n",
      "Epoch 6/30\n",
      "8289/8289 [==============================] - 115s 14ms/step - loss: 0.9526 - acc: 0.5530 - val_loss: 0.9594 - val_acc: 0.5519\n",
      "Epoch 7/30\n",
      "8289/8289 [==============================] - 112s 14ms/step - loss: 0.9283 - acc: 0.5685 - val_loss: 0.9507 - val_acc: 0.5476\n",
      "Epoch 8/30\n",
      "8289/8289 [==============================] - 103s 12ms/step - loss: 0.9098 - acc: 0.5757 - val_loss: 0.9413 - val_acc: 0.5509\n",
      "Epoch 9/30\n",
      "8289/8289 [==============================] - 104s 12ms/step - loss: 0.8805 - acc: 0.5898 - val_loss: 0.9364 - val_acc: 0.5559\n",
      "Epoch 10/30\n",
      "8289/8289 [==============================] - 100s 12ms/step - loss: 0.8621 - acc: 0.5957 - val_loss: 0.9365 - val_acc: 0.5682\n",
      "Epoch 11/30\n",
      "8289/8289 [==============================] - 97s 12ms/step - loss: 0.8331 - acc: 0.6221 - val_loss: 0.9203 - val_acc: 0.5689\n",
      "Epoch 12/30\n",
      "8289/8289 [==============================] - 99s 12ms/step - loss: 0.8125 - acc: 0.6195 - val_loss: 0.9257 - val_acc: 0.5784\n",
      "Epoch 13/30\n",
      "8289/8289 [==============================] - 100s 12ms/step - loss: 0.7916 - acc: 0.6301 - val_loss: 0.9068 - val_acc: 0.5813\n",
      "Epoch 14/30\n",
      "8289/8289 [==============================] - 99s 12ms/step - loss: 0.7566 - acc: 0.6594 - val_loss: 0.9091 - val_acc: 0.5820\n",
      "Epoch 15/30\n",
      "8289/8289 [==============================] - 100s 12ms/step - loss: 0.7455 - acc: 0.6659 - val_loss: 0.9168 - val_acc: 0.5889\n",
      "Epoch 16/30\n",
      "8289/8289 [==============================] - 109s 13ms/step - loss: 0.7164 - acc: 0.6729 - val_loss: 0.9026 - val_acc: 0.5928\n",
      "Epoch 17/30\n",
      "8289/8289 [==============================] - 107s 13ms/step - loss: 0.6902 - acc: 0.6893 - val_loss: 0.8992 - val_acc: 0.5943\n",
      "Epoch 18/30\n",
      "8289/8289 [==============================] - 105s 13ms/step - loss: 0.6650 - acc: 0.6991 - val_loss: 0.9228 - val_acc: 0.5889\n",
      "Epoch 19/30\n",
      "8289/8289 [==============================] - 105s 13ms/step - loss: 0.6530 - acc: 0.7043 - val_loss: 0.9467 - val_acc: 0.5870\n",
      "Epoch 20/30\n",
      "8289/8289 [==============================] - 99s 12ms/step - loss: 0.6349 - acc: 0.7149 - val_loss: 0.9268 - val_acc: 0.5965\n",
      "Epoch 21/30\n",
      "8289/8289 [==============================] - 100s 12ms/step - loss: 0.6035 - acc: 0.7288 - val_loss: 0.9548 - val_acc: 0.5979\n",
      "Epoch 22/30\n",
      "8289/8289 [==============================] - 112s 14ms/step - loss: 0.5887 - acc: 0.7403 - val_loss: 0.9714 - val_acc: 0.5914\n",
      "Epoch 23/30\n",
      "8289/8289 [==============================] - 101s 12ms/step - loss: 0.5685 - acc: 0.7502 - val_loss: 0.9624 - val_acc: 0.5954\n",
      "Epoch 24/30\n",
      "8289/8289 [==============================] - 102s 12ms/step - loss: 0.5496 - acc: 0.7584 - val_loss: 0.9821 - val_acc: 0.6048\n",
      "Epoch 25/30\n",
      "8289/8289 [==============================] - 99s 12ms/step - loss: 0.5316 - acc: 0.7641 - val_loss: 0.9939 - val_acc: 0.5983\n",
      "Epoch 26/30\n",
      "8289/8289 [==============================] - 97s 12ms/step - loss: 0.5167 - acc: 0.7748 - val_loss: 1.0206 - val_acc: 0.6033\n",
      "Epoch 27/30\n",
      "8289/8289 [==============================] - 98s 12ms/step - loss: 0.4972 - acc: 0.7796 - val_loss: 1.0534 - val_acc: 0.5965\n",
      "Epoch 28/30\n",
      "8289/8289 [==============================] - 98s 12ms/step - loss: 0.4876 - acc: 0.7867 - val_loss: 1.0657 - val_acc: 0.6055\n",
      "Epoch 29/30\n",
      "8289/8289 [==============================] - 98s 12ms/step - loss: 0.4789 - acc: 0.7909 - val_loss: 1.0847 - val_acc: 0.5943\n",
      "Epoch 30/30\n",
      "8289/8289 [==============================] - 98s 12ms/step - loss: 0.4588 - acc: 0.7995 - val_loss: 1.0772 - val_acc: 0.6055\n"
     ]
    }
   ],
   "source": [
    "epochs = 30\n",
    "batch_size = 128\n",
    "history = model1.fit(train_rus, train_labels_rus_wide, batch_size=batch_size, epochs=epochs, validation_split=0.25, verbose=1, shuffle=True)"
   ]
  },
  {
   "cell_type": "code",
   "execution_count": 40,
   "metadata": {},
   "outputs": [
    {
     "data": {
      "image/png": "[encoded data removed]",
      "text/plain": [
       "<matplotlib.figure.Figure at 0x123a929b0>"
      ]
     },
     "metadata": {},
     "output_type": "display_data"
    }
   ],
   "source": [
    "loss = history.history['loss']\n",
    "val_loss = history.history['val_loss']\n",
    "\n",
    "plt.xlabel('Epochs')\n",
    "plt.ylabel('Loss')\n",
    "plt.plot(loss, 'blue', label='Training Loss')\n",
    "plt.plot(val_loss, 'green', label='Validation Loss')\n",
    "plt.xticks(range(0,epochs)[0::2])\n",
    "plt.legend()\n",
    "plt.show()"
   ]
  },
  {
   "cell_type": "markdown",
   "metadata": {},
   "source": [
    "### Evaluation"
   ]
  },
  {
   "cell_type": "code",
   "execution_count": 41,
   "metadata": {},
   "outputs": [
    {
     "name": "stdout",
     "output_type": "stream",
     "text": [
      "****** Test Data ********\n",
      "             precision    recall  f1-score   support\n",
      "\n",
      "          0       0.49      0.47      0.48      2416\n",
      "          1       0.52      0.73      0.61       674\n",
      "          2       0.53      0.43      0.48      2654\n",
      "          3       0.48      0.72      0.57       689\n",
      "\n",
      "avg / total       0.51      0.51      0.50      6433\n",
      "\n",
      "Confusion Matrix\n",
      "[[1137  190  831  258]\n",
      " [  91  492   84    7]\n",
      " [ 987  252 1143  272]\n",
      " [  95   12   88  494]]\n"
     ]
    }
   ],
   "source": [
    "print(\"****** Test Data ********\")\n",
    "# Make a set of predictions for the validation data\n",
    "pred1 = model1.predict_classes(test)\n",
    "\n",
    "# Print performance details\n",
    "print(metrics.classification_report(test_labels, pred1))\n",
    "\n",
    "# Print confusion matrix\n",
    "print(\"Confusion Matrix\")\n",
    "print(metrics.confusion_matrix(test_labels, pred1))\n",
    "#display(pd.crosstab(test_labels, list(pred), margins=True))"
   ]
  },
  {
   "cell_type": "code",
   "execution_count": 42,
   "metadata": {},
   "outputs": [
    {
     "name": "stdout",
     "output_type": "stream",
     "text": [
      "0.5076946992072128\n"
     ]
    }
   ],
   "source": [
    "print(metrics.accuracy_score(test_labels, pred1))"
   ]
  },
  {
   "cell_type": "markdown",
   "metadata": {},
   "source": [
    "### CNN model - 3 layers"
   ]
  },
  {
   "cell_type": "code",
   "execution_count": 43,
   "metadata": {},
   "outputs": [
    {
     "name": "stdout",
     "output_type": "stream",
     "text": [
      "_________________________________________________________________\n",
      "Layer (type)                 Output Shape              Param #   \n",
      "=================================================================\n",
      "conv2d_3 (Conv2D)            (None, 32, 64, 64)        320       \n",
      "_________________________________________________________________\n",
      "max_pooling2d_3 (MaxPooling2 (None, 32, 32, 32)        0         \n",
      "_________________________________________________________________\n",
      "conv2d_4 (Conv2D)            (None, 48, 32, 32)        13872     \n",
      "_________________________________________________________________\n",
      "max_pooling2d_4 (MaxPooling2 (None, 48, 16, 16)        0         \n",
      "_________________________________________________________________\n",
      "conv2d_5 (Conv2D)            (None, 64, 16, 16)        27712     \n",
      "_________________________________________________________________\n",
      "max_pooling2d_5 (MaxPooling2 (None, 64, 8, 8)          0         \n",
      "_________________________________________________________________\n",
      "flatten_2 (Flatten)          (None, 4096)              0         \n",
      "_________________________________________________________________\n",
      "dense_3 (Dense)              (None, 128)               524416    \n",
      "_________________________________________________________________\n",
      "dropout_2 (Dropout)          (None, 128)               0         \n",
      "_________________________________________________________________\n",
      "dense_4 (Dense)              (None, 4)                 516       \n",
      "=================================================================\n",
      "Total params: 566,836\n",
      "Trainable params: 566,836\n",
      "Non-trainable params: 0\n",
      "_________________________________________________________________\n"
     ]
    }
   ],
   "source": [
    "model2 = Sequential()\n",
    "\n",
    "model2.add(Conv2D(32, (3, 3), padding='same', input_shape=(CHANNELS, ROWS, COLS), activation='relu'))\n",
    "model2.add(MaxPooling2D(pool_size=(2, 2)))\n",
    "model2.add(Conv2D(48, (3, 3), padding='same', activation='relu'))\n",
    "model2.add(MaxPooling2D(pool_size=(2, 2)))\n",
    "model2.add(Conv2D(64, (3, 3), padding='same', activation='relu'))\n",
    "model2.add(MaxPooling2D(pool_size=(2, 2)))\n",
    "\n",
    "model2.add(Flatten())\n",
    "\n",
    "model2.add(Dense(128, activation='relu'))\n",
    "model2.add(Dropout(0.5))\n",
    "\n",
    "model2.add(Dense(num_classes, activation = 'softmax'))\n",
    "\n",
    "model2.summary()"
   ]
  },
  {
   "cell_type": "code",
   "execution_count": 44,
   "metadata": {
    "collapsed": true
   },
   "outputs": [],
   "source": [
    "model2.compile(loss='categorical_crossentropy', optimizer=adam(lr=1e-3), metrics=['accuracy'])"
   ]
  },
  {
   "cell_type": "markdown",
   "metadata": {},
   "source": [
    "### Train"
   ]
  },
  {
   "cell_type": "code",
   "execution_count": 45,
   "metadata": {},
   "outputs": [
    {
     "name": "stdout",
     "output_type": "stream",
     "text": [
      "Train on 8289 samples, validate on 2763 samples\n",
      "Epoch 1/30\n",
      "8289/8289 [==============================] - 112s 14ms/step - loss: 1.2593 - acc: 0.3840 - val_loss: 1.1258 - val_acc: 0.4767\n",
      "Epoch 2/30\n",
      "8289/8289 [==============================] - 111s 13ms/step - loss: 1.1046 - acc: 0.4770 - val_loss: 1.0532 - val_acc: 0.4962\n",
      "Epoch 3/30\n",
      "8289/8289 [==============================] - 111s 13ms/step - loss: 1.0577 - acc: 0.5034 - val_loss: 1.0234 - val_acc: 0.5089\n",
      "Epoch 4/30\n",
      "8289/8289 [==============================] - 111s 13ms/step - loss: 1.0295 - acc: 0.5171 - val_loss: 1.0031 - val_acc: 0.5208\n",
      "Epoch 5/30\n",
      "8289/8289 [==============================] - 111s 13ms/step - loss: 1.0007 - acc: 0.5294 - val_loss: 0.9935 - val_acc: 0.5168\n",
      "Epoch 6/30\n",
      "8289/8289 [==============================] - 111s 13ms/step - loss: 0.9874 - acc: 0.5354 - val_loss: 0.9739 - val_acc: 0.5335\n",
      "Epoch 7/30\n",
      "8289/8289 [==============================] - 110s 13ms/step - loss: 0.9549 - acc: 0.5437 - val_loss: 0.9565 - val_acc: 0.5414\n",
      "Epoch 8/30\n",
      "8289/8289 [==============================] - 110s 13ms/step - loss: 0.9324 - acc: 0.5605 - val_loss: 0.9427 - val_acc: 0.5519\n",
      "Epoch 9/30\n",
      "8289/8289 [==============================] - 110s 13ms/step - loss: 0.8921 - acc: 0.5769 - val_loss: 0.9174 - val_acc: 0.5581\n",
      "Epoch 10/30\n",
      "8289/8289 [==============================] - 110s 13ms/step - loss: 0.8673 - acc: 0.5905 - val_loss: 0.8933 - val_acc: 0.5693\n",
      "Epoch 11/30\n",
      "8289/8289 [==============================] - 110s 13ms/step - loss: 0.8385 - acc: 0.6109 - val_loss: 0.8999 - val_acc: 0.5780\n",
      "Epoch 12/30\n",
      "8289/8289 [==============================] - 111s 13ms/step - loss: 0.8116 - acc: 0.6197 - val_loss: 0.8824 - val_acc: 0.5813\n",
      "Epoch 13/30\n",
      "8289/8289 [==============================] - 111s 13ms/step - loss: 0.7844 - acc: 0.6273 - val_loss: 0.8852 - val_acc: 0.5928\n",
      "Epoch 14/30\n",
      "8289/8289 [==============================] - 110s 13ms/step - loss: 0.7595 - acc: 0.6422 - val_loss: 0.8673 - val_acc: 0.5946\n",
      "Epoch 15/30\n",
      "8289/8289 [==============================] - 110s 13ms/step - loss: 0.7462 - acc: 0.6524 - val_loss: 0.8534 - val_acc: 0.6069\n",
      "Epoch 16/30\n",
      "8289/8289 [==============================] - 110s 13ms/step - loss: 0.7221 - acc: 0.6617 - val_loss: 0.8898 - val_acc: 0.5845\n",
      "Epoch 17/30\n",
      "8289/8289 [==============================] - 110s 13ms/step - loss: 0.7030 - acc: 0.6703 - val_loss: 0.8478 - val_acc: 0.6033\n",
      "Epoch 18/30\n",
      "8289/8289 [==============================] - 110s 13ms/step - loss: 0.6795 - acc: 0.6787 - val_loss: 0.8585 - val_acc: 0.6127\n",
      "Epoch 19/30\n",
      "8289/8289 [==============================] - 110s 13ms/step - loss: 0.6574 - acc: 0.6986 - val_loss: 0.8459 - val_acc: 0.6127\n",
      "Epoch 20/30\n",
      "8289/8289 [==============================] - 110s 13ms/step - loss: 0.6461 - acc: 0.7020 - val_loss: 0.8821 - val_acc: 0.6026\n",
      "Epoch 21/30\n",
      "8289/8289 [==============================] - 110s 13ms/step - loss: 0.6318 - acc: 0.7148 - val_loss: 0.8679 - val_acc: 0.6062\n",
      "Epoch 22/30\n",
      "8289/8289 [==============================] - 110s 13ms/step - loss: 0.5982 - acc: 0.7235 - val_loss: 0.8906 - val_acc: 0.6037\n",
      "Epoch 23/30\n",
      "8289/8289 [==============================] - 110s 13ms/step - loss: 0.5894 - acc: 0.7353 - val_loss: 0.8711 - val_acc: 0.6269\n",
      "Epoch 24/30\n",
      "8289/8289 [==============================] - 111s 13ms/step - loss: 0.5628 - acc: 0.7445 - val_loss: 0.8850 - val_acc: 0.6178\n",
      "Epoch 25/30\n",
      "8289/8289 [==============================] - 112s 14ms/step - loss: 0.5484 - acc: 0.7521 - val_loss: 0.9290 - val_acc: 0.6200\n",
      "Epoch 26/30\n",
      "8289/8289 [==============================] - 113s 14ms/step - loss: 0.5277 - acc: 0.7575 - val_loss: 0.9154 - val_acc: 0.6182\n",
      "Epoch 27/30\n",
      "8289/8289 [==============================] - 113s 14ms/step - loss: 0.5131 - acc: 0.7757 - val_loss: 0.9518 - val_acc: 0.6232\n",
      "Epoch 28/30\n",
      "8289/8289 [==============================] - 113s 14ms/step - loss: 0.5004 - acc: 0.7786 - val_loss: 0.9215 - val_acc: 0.6214\n",
      "Epoch 29/30\n",
      "8289/8289 [==============================] - 113s 14ms/step - loss: 0.4713 - acc: 0.7879 - val_loss: 1.0134 - val_acc: 0.6160\n",
      "Epoch 30/30\n",
      "8289/8289 [==============================] - 113s 14ms/step - loss: 0.4651 - acc: 0.7942 - val_loss: 0.9860 - val_acc: 0.6254\n"
     ]
    }
   ],
   "source": [
    "epochs = 30\n",
    "batch_size = 128\n",
    "\n",
    "history = model2.fit(train_rus, train_labels_rus_wide, batch_size=batch_size, epochs=epochs, validation_split=0.25, verbose=1, shuffle=True)"
   ]
  },
  {
   "cell_type": "code",
   "execution_count": 46,
   "metadata": {},
   "outputs": [
    {
     "data": {
      "image/png": "[encoded data removed]",
      "text/plain": [
       "<matplotlib.figure.Figure at 0x1254d7ef0>"
      ]
     },
     "metadata": {},
     "output_type": "display_data"
    }
   ],
   "source": [
    "loss = history.history['loss']\n",
    "val_loss = history.history['val_loss']\n",
    "\n",
    "plt.xlabel('Epochs')\n",
    "plt.ylabel('Loss')\n",
    "plt.plot(loss, 'blue', label='Training Loss')\n",
    "plt.plot(val_loss, 'green', label='Validation Loss')\n",
    "plt.xticks(range(0,epochs)[0::2])\n",
    "plt.legend()\n",
    "plt.show()"
   ]
  },
  {
   "cell_type": "markdown",
   "metadata": {},
   "source": [
    "### Evaluation"
   ]
  },
  {
   "cell_type": "code",
   "execution_count": 47,
   "metadata": {},
   "outputs": [
    {
     "name": "stdout",
     "output_type": "stream",
     "text": [
      "****** Test Data ********\n",
      "             precision    recall  f1-score   support\n",
      "\n",
      "          0       0.54      0.50      0.52      2416\n",
      "          1       0.39      0.83      0.53       674\n",
      "          2       0.66      0.38      0.49      2654\n",
      "          3       0.43      0.78      0.56       689\n",
      "\n",
      "avg / total       0.56      0.51      0.51      6433\n",
      "\n",
      "Confusion Matrix\n",
      "[[1198  440  439  339]\n",
      " [  75  557   35    7]\n",
      " [ 869  414 1019  352]\n",
      " [  89   23   40  537]]\n"
     ]
    }
   ],
   "source": [
    "print(\"****** Test Data ********\")\n",
    "# Make a set of predictions for the validation data\n",
    "pred2 = model2.predict_classes(test)\n",
    "\n",
    "# Print performance details\n",
    "print(metrics.classification_report(test_labels, pred2))\n",
    "\n",
    "# Print confusion matrix\n",
    "print(\"Confusion Matrix\")\n",
    "print(metrics.confusion_matrix(test_labels, pred2))\n",
    "#display(pd.crosstab(test_labels, list(pred), margins=True))"
   ]
  },
  {
   "cell_type": "code",
   "execution_count": 48,
   "metadata": {},
   "outputs": [
    {
     "name": "stdout",
     "output_type": "stream",
     "text": [
      "0.514689880304679\n"
     ]
    }
   ],
   "source": [
    "print(metrics.accuracy_score(test_labels, pred2))"
   ]
  },
  {
   "cell_type": "markdown",
   "metadata": {},
   "source": [
    "### CNN model - 4 layers"
   ]
  },
  {
   "cell_type": "code",
   "execution_count": 49,
   "metadata": {},
   "outputs": [
    {
     "name": "stdout",
     "output_type": "stream",
     "text": [
      "_________________________________________________________________\n",
      "Layer (type)                 Output Shape              Param #   \n",
      "=================================================================\n",
      "conv2d_6 (Conv2D)            (None, 32, 64, 64)        320       \n",
      "_________________________________________________________________\n",
      "max_pooling2d_6 (MaxPooling2 (None, 32, 32, 32)        0         \n",
      "_________________________________________________________________\n",
      "conv2d_7 (Conv2D)            (None, 48, 32, 32)        13872     \n",
      "_________________________________________________________________\n",
      "max_pooling2d_7 (MaxPooling2 (None, 48, 16, 16)        0         \n",
      "_________________________________________________________________\n",
      "conv2d_8 (Conv2D)            (None, 64, 16, 16)        27712     \n",
      "_________________________________________________________________\n",
      "max_pooling2d_8 (MaxPooling2 (None, 64, 8, 8)          0         \n",
      "_________________________________________________________________\n",
      "conv2d_9 (Conv2D)            (None, 80, 8, 8)          46160     \n",
      "_________________________________________________________________\n",
      "max_pooling2d_9 (MaxPooling2 (None, 80, 4, 4)          0         \n",
      "_________________________________________________________________\n",
      "flatten_3 (Flatten)          (None, 1280)              0         \n",
      "_________________________________________________________________\n",
      "dense_5 (Dense)              (None, 128)               163968    \n",
      "_________________________________________________________________\n",
      "dropout_3 (Dropout)          (None, 128)               0         \n",
      "_________________________________________________________________\n",
      "dense_6 (Dense)              (None, 4)                 516       \n",
      "=================================================================\n",
      "Total params: 252,548\n",
      "Trainable params: 252,548\n",
      "Non-trainable params: 0\n",
      "_________________________________________________________________\n"
     ]
    }
   ],
   "source": [
    "model3 = Sequential()\n",
    "\n",
    "model3.add(Conv2D(32, (3, 3), padding='same', input_shape=(CHANNELS, ROWS, COLS), activation='relu'))\n",
    "model3.add(MaxPooling2D(pool_size=(2, 2)))\n",
    "model3.add(Conv2D(48, (3, 3), padding='same', activation='relu'))\n",
    "model3.add(MaxPooling2D(pool_size=(2, 2)))\n",
    "model3.add(Conv2D(64, (3, 3), padding='same', activation='relu'))\n",
    "model3.add(MaxPooling2D(pool_size=(2, 2)))\n",
    "model3.add(Conv2D(80, (3, 3), padding='same', activation='relu'))\n",
    "model3.add(MaxPooling2D(pool_size=(2, 2)))\n",
    "\n",
    "model3.add(Flatten())\n",
    "\n",
    "model3.add(Dense(128, activation='relu'))\n",
    "model3.add(Dropout(0.5))\n",
    "\n",
    "model3.add(Dense(num_classes, activation = 'softmax'))\n",
    "\n",
    "model3.summary()"
   ]
  },
  {
   "cell_type": "code",
   "execution_count": 50,
   "metadata": {
    "collapsed": true
   },
   "outputs": [],
   "source": [
    "model3.compile(loss='categorical_crossentropy', optimizer=adam(lr=1e-3), metrics=['accuracy'])"
   ]
  },
  {
   "cell_type": "markdown",
   "metadata": {},
   "source": [
    "### Train"
   ]
  },
  {
   "cell_type": "code",
   "execution_count": 51,
   "metadata": {},
   "outputs": [
    {
     "name": "stdout",
     "output_type": "stream",
     "text": [
      "Train on 8289 samples, validate on 2763 samples\n",
      "Epoch 1/30\n",
      "8289/8289 [==============================] - 117s 14ms/step - loss: 1.2948 - acc: 0.3501 - val_loss: 1.1590 - val_acc: 0.4263\n",
      "Epoch 2/30\n",
      "8289/8289 [==============================] - 117s 14ms/step - loss: 1.1241 - acc: 0.4645 - val_loss: 1.0697 - val_acc: 0.4955\n",
      "Epoch 3/30\n",
      "8289/8289 [==============================] - 116s 14ms/step - loss: 1.0584 - acc: 0.4973 - val_loss: 1.0227 - val_acc: 0.5031\n",
      "Epoch 4/30\n",
      "8289/8289 [==============================] - 123s 15ms/step - loss: 1.0266 - acc: 0.5121 - val_loss: 1.0124 - val_acc: 0.5118\n",
      "Epoch 5/30\n",
      "8289/8289 [==============================] - 117s 14ms/step - loss: 1.0142 - acc: 0.5186 - val_loss: 1.0019 - val_acc: 0.5027\n",
      "Epoch 6/30\n",
      "8289/8289 [==============================] - 117s 14ms/step - loss: 0.9853 - acc: 0.5236 - val_loss: 0.9782 - val_acc: 0.5150\n",
      "Epoch 7/30\n",
      "8289/8289 [==============================] - 117s 14ms/step - loss: 0.9525 - acc: 0.5458 - val_loss: 0.9334 - val_acc: 0.5574\n",
      "Epoch 8/30\n",
      "8289/8289 [==============================] - 117s 14ms/step - loss: 0.9119 - acc: 0.5537 - val_loss: 0.9154 - val_acc: 0.5559\n",
      "Epoch 9/30\n",
      "8289/8289 [==============================] - 117s 14ms/step - loss: 0.8813 - acc: 0.5743 - val_loss: 0.8872 - val_acc: 0.5689\n",
      "Epoch 10/30\n",
      "8289/8289 [==============================] - 115s 14ms/step - loss: 0.8400 - acc: 0.5921 - val_loss: 0.9036 - val_acc: 0.5784\n",
      "Epoch 11/30\n",
      "8289/8289 [==============================] - 114s 14ms/step - loss: 0.8106 - acc: 0.5996 - val_loss: 0.8470 - val_acc: 0.5849\n",
      "Epoch 12/30\n",
      "8289/8289 [==============================] - 114s 14ms/step - loss: 0.7873 - acc: 0.6138 - val_loss: 0.8434 - val_acc: 0.5943\n",
      "Epoch 13/30\n",
      "8289/8289 [==============================] - 114s 14ms/step - loss: 0.7655 - acc: 0.6246 - val_loss: 0.8584 - val_acc: 0.6019\n",
      "Epoch 14/30\n",
      "8289/8289 [==============================] - 114s 14ms/step - loss: 0.7516 - acc: 0.6281 - val_loss: 0.8361 - val_acc: 0.6012\n",
      "Epoch 15/30\n",
      "8289/8289 [==============================] - 114s 14ms/step - loss: 0.7369 - acc: 0.6389 - val_loss: 0.8113 - val_acc: 0.5997\n",
      "Epoch 16/30\n",
      "8289/8289 [==============================] - 114s 14ms/step - loss: 0.7086 - acc: 0.6517 - val_loss: 0.8320 - val_acc: 0.6120\n",
      "Epoch 17/30\n",
      "8289/8289 [==============================] - 114s 14ms/step - loss: 0.6898 - acc: 0.6651 - val_loss: 0.8222 - val_acc: 0.6160\n",
      "Epoch 18/30\n",
      "8289/8289 [==============================] - 114s 14ms/step - loss: 0.6800 - acc: 0.6644 - val_loss: 0.8441 - val_acc: 0.6124\n",
      "Epoch 19/30\n",
      "8289/8289 [==============================] - 114s 14ms/step - loss: 0.6632 - acc: 0.6799 - val_loss: 0.8453 - val_acc: 0.6069\n",
      "Epoch 20/30\n",
      "8289/8289 [==============================] - 114s 14ms/step - loss: 0.6400 - acc: 0.6936 - val_loss: 0.8331 - val_acc: 0.6149\n",
      "Epoch 21/30\n",
      "8289/8289 [==============================] - 114s 14ms/step - loss: 0.6240 - acc: 0.6933 - val_loss: 0.8467 - val_acc: 0.6211\n",
      "Epoch 22/30\n",
      "8289/8289 [==============================] - 114s 14ms/step - loss: 0.6120 - acc: 0.7076 - val_loss: 0.8617 - val_acc: 0.6142\n",
      "Epoch 23/30\n",
      "8289/8289 [==============================] - 114s 14ms/step - loss: 0.6009 - acc: 0.7115 - val_loss: 0.8537 - val_acc: 0.6174\n",
      "Epoch 24/30\n",
      "8289/8289 [==============================] - 115s 14ms/step - loss: 0.5702 - acc: 0.7345 - val_loss: 0.8996 - val_acc: 0.6167\n",
      "Epoch 25/30\n",
      "8289/8289 [==============================] - 114s 14ms/step - loss: 0.5396 - acc: 0.7473 - val_loss: 0.9382 - val_acc: 0.6062\n",
      "Epoch 26/30\n",
      "8289/8289 [==============================] - 114s 14ms/step - loss: 0.5299 - acc: 0.7522 - val_loss: 0.9577 - val_acc: 0.6098\n",
      "Epoch 27/30\n",
      "8289/8289 [==============================] - 117s 14ms/step - loss: 0.5144 - acc: 0.7605 - val_loss: 0.9885 - val_acc: 0.6109\n",
      "Epoch 28/30\n",
      "8289/8289 [==============================] - 121s 15ms/step - loss: 0.5013 - acc: 0.7710 - val_loss: 0.9667 - val_acc: 0.6120\n",
      "Epoch 29/30\n",
      "8289/8289 [==============================] - 119s 14ms/step - loss: 0.4733 - acc: 0.7854 - val_loss: 0.9471 - val_acc: 0.6142\n",
      "Epoch 30/30\n",
      "8289/8289 [==============================] - 116s 14ms/step - loss: 0.4631 - acc: 0.7912 - val_loss: 1.0231 - val_acc: 0.6069\n"
     ]
    }
   ],
   "source": [
    "epochs = 30\n",
    "batch_size = 128\n",
    "\n",
    "history = model3.fit(train_rus, train_labels_rus_wide, batch_size=batch_size, epochs=epochs, validation_split=0.25, verbose=1, shuffle=True)"
   ]
  },
  {
   "cell_type": "code",
   "execution_count": 52,
   "metadata": {},
   "outputs": [
    {
     "data": {
      "image/png": "[encoded data removed]",
      "text/plain": [
       "<matplotlib.figure.Figure at 0x1a8271b38>"
      ]
     },
     "metadata": {},
     "output_type": "display_data"
    }
   ],
   "source": [
    "loss = history.history['loss']\n",
    "val_loss = history.history['val_loss']\n",
    "\n",
    "plt.xlabel('Epochs')\n",
    "plt.ylabel('Loss')\n",
    "plt.plot(loss, 'blue', label='Training Loss')\n",
    "plt.plot(val_loss, 'green', label='Validation Loss')\n",
    "plt.xticks(range(0,epochs)[0::2])\n",
    "plt.legend()\n",
    "plt.show()"
   ]
  },
  {
   "cell_type": "markdown",
   "metadata": {},
   "source": [
    "### Evulation"
   ]
  },
  {
   "cell_type": "code",
   "execution_count": 53,
   "metadata": {},
   "outputs": [
    {
     "name": "stdout",
     "output_type": "stream",
     "text": [
      "****** Test Data ********\n",
      "             precision    recall  f1-score   support\n",
      "\n",
      "          0       0.50      0.48      0.49      2416\n",
      "          1       0.54      0.77      0.63       674\n",
      "          2       0.56      0.48      0.52      2654\n",
      "          3       0.57      0.72      0.64       689\n",
      "\n",
      "avg / total       0.54      0.54      0.53      6433\n",
      "\n",
      "Confusion Matrix\n",
      "[[1167  217  851  181]\n",
      " [  88  516   59   11]\n",
      " [ 983  216 1268  187]\n",
      " [ 113   10   69  497]]\n"
     ]
    }
   ],
   "source": [
    "print(\"****** Test Data ********\")\n",
    "# Make a set of predictions for the validation data\n",
    "pred3 = model3.predict_classes(test)\n",
    "\n",
    "# Print performance details\n",
    "print(metrics.classification_report(test_labels, pred3))\n",
    "\n",
    "# Print confusion matrix\n",
    "print(\"Confusion Matrix\")\n",
    "print(metrics.confusion_matrix(test_labels, pred3))\n",
    "#display(pd.crosstab(test_labels, list(pred), margins=True))"
   ]
  },
  {
   "cell_type": "code",
   "execution_count": 54,
   "metadata": {},
   "outputs": [
    {
     "name": "stdout",
     "output_type": "stream",
     "text": [
      "0.5359863205347427\n"
     ]
    }
   ],
   "source": [
    "print(metrics.accuracy_score(test_labels, pred3))"
   ]
  },
  {
   "cell_type": "markdown",
   "metadata": {},
   "source": [
    "### CNN model - 5 layers"
   ]
  },
  {
   "cell_type": "code",
   "execution_count": 55,
   "metadata": {},
   "outputs": [
    {
     "name": "stdout",
     "output_type": "stream",
     "text": [
      "_________________________________________________________________\n",
      "Layer (type)                 Output Shape              Param #   \n",
      "=================================================================\n",
      "conv2d_10 (Conv2D)           (None, 32, 64, 64)        320       \n",
      "_________________________________________________________________\n",
      "max_pooling2d_10 (MaxPooling (None, 32, 32, 32)        0         \n",
      "_________________________________________________________________\n",
      "conv2d_11 (Conv2D)           (None, 48, 32, 32)        13872     \n",
      "_________________________________________________________________\n",
      "max_pooling2d_11 (MaxPooling (None, 48, 16, 16)        0         \n",
      "_________________________________________________________________\n",
      "conv2d_12 (Conv2D)           (None, 64, 16, 16)        27712     \n",
      "_________________________________________________________________\n",
      "max_pooling2d_12 (MaxPooling (None, 64, 8, 8)          0         \n",
      "_________________________________________________________________\n",
      "conv2d_13 (Conv2D)           (None, 80, 8, 8)          46160     \n",
      "_________________________________________________________________\n",
      "max_pooling2d_13 (MaxPooling (None, 80, 4, 4)          0         \n",
      "_________________________________________________________________\n",
      "conv2d_14 (Conv2D)           (None, 96, 4, 4)          69216     \n",
      "_________________________________________________________________\n",
      "max_pooling2d_14 (MaxPooling (None, 96, 2, 2)          0         \n",
      "_________________________________________________________________\n",
      "flatten_4 (Flatten)          (None, 384)               0         \n",
      "_________________________________________________________________\n",
      "dense_7 (Dense)              (None, 128)               49280     \n",
      "_________________________________________________________________\n",
      "dropout_4 (Dropout)          (None, 128)               0         \n",
      "_________________________________________________________________\n",
      "dense_8 (Dense)              (None, 4)                 516       \n",
      "=================================================================\n",
      "Total params: 207,076\n",
      "Trainable params: 207,076\n",
      "Non-trainable params: 0\n",
      "_________________________________________________________________\n"
     ]
    }
   ],
   "source": [
    "model4 = Sequential()\n",
    "\n",
    "model4.add(Conv2D(32, (3, 3), padding='same', input_shape=(CHANNELS, ROWS, COLS), activation='relu'))\n",
    "model4.add(MaxPooling2D(pool_size=(2, 2)))\n",
    "model4.add(Conv2D(48, (3, 3), padding='same', activation='relu'))\n",
    "model4.add(MaxPooling2D(pool_size=(2, 2)))\n",
    "model4.add(Conv2D(64, (3, 3), padding='same', activation='relu'))\n",
    "model4.add(MaxPooling2D(pool_size=(2, 2)))\n",
    "model4.add(Conv2D(80, (3, 3), padding='same', activation='relu'))\n",
    "model4.add(MaxPooling2D(pool_size=(2, 2)))\n",
    "model4.add(Conv2D(96, (3, 3), padding='same', activation='relu'))\n",
    "model4.add(MaxPooling2D(pool_size=(2, 2)))\n",
    "\n",
    "model4.add(Flatten())\n",
    "\n",
    "model4.add(Dense(128, activation='relu'))\n",
    "model4.add(Dropout(0.5))\n",
    "\n",
    "model4.add(Dense(num_classes, activation = 'softmax'))\n",
    "\n",
    "model4.summary()"
   ]
  },
  {
   "cell_type": "code",
   "execution_count": 56,
   "metadata": {
    "collapsed": true
   },
   "outputs": [],
   "source": [
    "model4.compile(loss='categorical_crossentropy', optimizer=adam(lr=1e-3), metrics=['accuracy'])"
   ]
  },
  {
   "cell_type": "markdown",
   "metadata": {},
   "source": [
    "### Train"
   ]
  },
  {
   "cell_type": "code",
   "execution_count": 57,
   "metadata": {},
   "outputs": [
    {
     "name": "stdout",
     "output_type": "stream",
     "text": [
      "Train on 8289 samples, validate on 2763 samples\n",
      "Epoch 1/30\n",
      "8289/8289 [==============================] - 118s 14ms/step - loss: 1.2996 - acc: 0.3418 - val_loss: 1.1581 - val_acc: 0.4307\n",
      "Epoch 2/30\n",
      "8289/8289 [==============================] - 117s 14ms/step - loss: 1.1205 - acc: 0.4654 - val_loss: 1.0657 - val_acc: 0.4897\n",
      "Epoch 3/30\n",
      "8289/8289 [==============================] - 117s 14ms/step - loss: 1.0611 - acc: 0.4972 - val_loss: 1.0242 - val_acc: 0.5049\n",
      "Epoch 4/30\n",
      "8289/8289 [==============================] - 117s 14ms/step - loss: 1.0240 - acc: 0.5153 - val_loss: 1.0066 - val_acc: 0.5208\n",
      "Epoch 5/30\n",
      "8289/8289 [==============================] - 117s 14ms/step - loss: 1.0037 - acc: 0.5213 - val_loss: 0.9861 - val_acc: 0.5212\n",
      "Epoch 6/30\n",
      "8289/8289 [==============================] - 117s 14ms/step - loss: 0.9805 - acc: 0.5328 - val_loss: 0.9665 - val_acc: 0.5378\n",
      "Epoch 7/30\n",
      "8289/8289 [==============================] - 117s 14ms/step - loss: 0.9430 - acc: 0.5460 - val_loss: 0.9554 - val_acc: 0.5487\n",
      "Epoch 8/30\n",
      "8289/8289 [==============================] - 118s 14ms/step - loss: 0.8990 - acc: 0.5662 - val_loss: 0.8955 - val_acc: 0.5776\n",
      "Epoch 9/30\n",
      "8289/8289 [==============================] - 119s 14ms/step - loss: 0.8544 - acc: 0.5843 - val_loss: 0.9030 - val_acc: 0.5744\n",
      "Epoch 10/30\n",
      "8289/8289 [==============================] - 117s 14ms/step - loss: 0.8214 - acc: 0.6008 - val_loss: 0.8755 - val_acc: 0.5780\n",
      "Epoch 11/30\n",
      "8289/8289 [==============================] - 121s 15ms/step - loss: 0.7913 - acc: 0.6060 - val_loss: 0.8421 - val_acc: 0.5849\n",
      "Epoch 12/30\n",
      "8289/8289 [==============================] - 121s 15ms/step - loss: 0.7658 - acc: 0.6168 - val_loss: 0.8556 - val_acc: 0.5878\n",
      "Epoch 13/30\n",
      "8289/8289 [==============================] - 120s 15ms/step - loss: 0.7448 - acc: 0.6305 - val_loss: 0.8588 - val_acc: 0.5943\n",
      "Epoch 14/30\n",
      "8289/8289 [==============================] - 120s 14ms/step - loss: 0.7304 - acc: 0.6399 - val_loss: 0.8494 - val_acc: 0.5972\n",
      "Epoch 15/30\n",
      "8289/8289 [==============================] - 122s 15ms/step - loss: 0.7231 - acc: 0.6439 - val_loss: 0.8144 - val_acc: 0.6088\n",
      "Epoch 16/30\n",
      "8289/8289 [==============================] - 125s 15ms/step - loss: 0.6940 - acc: 0.6510 - val_loss: 0.8156 - val_acc: 0.6008\n",
      "Epoch 17/30\n",
      "8289/8289 [==============================] - 124s 15ms/step - loss: 0.6609 - acc: 0.6739 - val_loss: 0.8727 - val_acc: 0.6091\n",
      "Epoch 18/30\n",
      "8289/8289 [==============================] - 119s 14ms/step - loss: 0.6526 - acc: 0.6798 - val_loss: 0.8553 - val_acc: 0.6113\n",
      "Epoch 19/30\n",
      "8289/8289 [==============================] - 119s 14ms/step - loss: 0.6401 - acc: 0.6863 - val_loss: 0.8724 - val_acc: 0.6048\n",
      "Epoch 20/30\n",
      "8289/8289 [==============================] - 119s 14ms/step - loss: 0.6249 - acc: 0.6926 - val_loss: 0.8455 - val_acc: 0.6156\n",
      "Epoch 21/30\n",
      "8289/8289 [==============================] - 118s 14ms/step - loss: 0.5968 - acc: 0.7065 - val_loss: 0.9143 - val_acc: 0.6145\n",
      "Epoch 22/30\n",
      "8289/8289 [==============================] - 116s 14ms/step - loss: 0.5733 - acc: 0.7263 - val_loss: 0.9721 - val_acc: 0.6124\n",
      "Epoch 23/30\n",
      "8289/8289 [==============================] - 121s 15ms/step - loss: 0.5621 - acc: 0.7277 - val_loss: 0.8958 - val_acc: 0.6225\n",
      "Epoch 24/30\n",
      "8289/8289 [==============================] - 117s 14ms/step - loss: 0.5376 - acc: 0.7429 - val_loss: 0.9877 - val_acc: 0.6131\n",
      "Epoch 25/30\n",
      "8289/8289 [==============================] - 116s 14ms/step - loss: 0.5145 - acc: 0.7580 - val_loss: 0.9415 - val_acc: 0.6077\n",
      "Epoch 26/30\n",
      "8289/8289 [==============================] - 117s 14ms/step - loss: 0.4888 - acc: 0.7714 - val_loss: 0.9868 - val_acc: 0.6214\n",
      "Epoch 27/30\n",
      "8289/8289 [==============================] - 119s 14ms/step - loss: 0.4665 - acc: 0.7822 - val_loss: 1.0766 - val_acc: 0.6077\n",
      "Epoch 28/30\n",
      "8289/8289 [==============================] - 118s 14ms/step - loss: 0.4559 - acc: 0.7931 - val_loss: 1.0666 - val_acc: 0.6127\n",
      "Epoch 29/30\n",
      "8289/8289 [==============================] - 119s 14ms/step - loss: 0.4360 - acc: 0.8009 - val_loss: 1.0950 - val_acc: 0.6149\n",
      "Epoch 30/30\n",
      "8289/8289 [==============================] - 117s 14ms/step - loss: 0.3953 - acc: 0.8201 - val_loss: 1.0895 - val_acc: 0.6102\n"
     ]
    }
   ],
   "source": [
    "epochs = 30\n",
    "batch_size = 128\n",
    "\n",
    "history = model4.fit(train_rus, train_labels_rus_wide, batch_size=batch_size, epochs=epochs, validation_split=0.25, verbose=1, shuffle=True)"
   ]
  },
  {
   "cell_type": "code",
   "execution_count": 58,
   "metadata": {},
   "outputs": [
    {
     "data": {
      "image/png": "[encoded data removed]",
      "text/plain": [
       "<matplotlib.figure.Figure at 0x1a8d3ffd0>"
      ]
     },
     "metadata": {},
     "output_type": "display_data"
    }
   ],
   "source": [
    "loss = history.history['loss']\n",
    "val_loss = history.history['val_loss']\n",
    "\n",
    "plt.xlabel('Epochs')\n",
    "plt.ylabel('Loss')\n",
    "plt.plot(loss, 'blue', label='Training Loss')\n",
    "plt.plot(val_loss, 'green', label='Validation Loss')\n",
    "plt.xticks(range(0,epochs)[0::2])\n",
    "plt.legend()\n",
    "plt.show()"
   ]
  },
  {
   "cell_type": "markdown",
   "metadata": {},
   "source": [
    "### Evaluation"
   ]
  },
  {
   "cell_type": "code",
   "execution_count": 59,
   "metadata": {},
   "outputs": [
    {
     "name": "stdout",
     "output_type": "stream",
     "text": [
      "****** Test Data ********\n",
      "             precision    recall  f1-score   support\n",
      "\n",
      "          0       0.50      0.54      0.52      2416\n",
      "          1       0.49      0.77      0.60       674\n",
      "          2       0.61      0.38      0.47      2654\n",
      "          3       0.49      0.76      0.59       689\n",
      "\n",
      "avg / total       0.54      0.52      0.52      6433\n",
      "\n",
      "Confusion Matrix\n",
      "[[1315  273  561  267]\n",
      " [ 104  518   46    6]\n",
      " [1112  249 1020  273]\n",
      " [ 124    9   34  522]]\n"
     ]
    }
   ],
   "source": [
    "print(\"****** Test Data ********\")\n",
    "# Make a set of predictions for the validation data\n",
    "pred4 = model4.predict_classes(test)\n",
    "\n",
    "# Print performance details\n",
    "print(metrics.classification_report(test_labels, pred4))\n",
    "\n",
    "# Print confusion matrix\n",
    "print(\"Confusion Matrix\")\n",
    "print(metrics.confusion_matrix(test_labels, pred4))\n",
    "#display(pd.crosstab(test_labels, list(pred), margins=True))"
   ]
  },
  {
   "cell_type": "code",
   "execution_count": 60,
   "metadata": {},
   "outputs": [
    {
     "name": "stdout",
     "output_type": "stream",
     "text": [
      "0.5246385823099643\n"
     ]
    }
   ],
   "source": [
    "print(metrics.accuracy_score(test_labels, pred4))"
   ]
  },
  {
   "cell_type": "markdown",
   "metadata": {},
   "source": [
    "### CNN model - 6 layers"
   ]
  },
  {
   "cell_type": "code",
   "execution_count": 61,
   "metadata": {},
   "outputs": [
    {
     "name": "stdout",
     "output_type": "stream",
     "text": [
      "_________________________________________________________________\n",
      "Layer (type)                 Output Shape              Param #   \n",
      "=================================================================\n",
      "conv2d_15 (Conv2D)           (None, 32, 64, 64)        320       \n",
      "_________________________________________________________________\n",
      "max_pooling2d_15 (MaxPooling (None, 32, 32, 32)        0         \n",
      "_________________________________________________________________\n",
      "conv2d_16 (Conv2D)           (None, 48, 32, 32)        13872     \n",
      "_________________________________________________________________\n",
      "max_pooling2d_16 (MaxPooling (None, 48, 16, 16)        0         \n",
      "_________________________________________________________________\n",
      "conv2d_17 (Conv2D)           (None, 64, 16, 16)        27712     \n",
      "_________________________________________________________________\n",
      "max_pooling2d_17 (MaxPooling (None, 64, 8, 8)          0         \n",
      "_________________________________________________________________\n",
      "conv2d_18 (Conv2D)           (None, 80, 8, 8)          46160     \n",
      "_________________________________________________________________\n",
      "max_pooling2d_18 (MaxPooling (None, 80, 4, 4)          0         \n",
      "_________________________________________________________________\n",
      "conv2d_19 (Conv2D)           (None, 96, 4, 4)          69216     \n",
      "_________________________________________________________________\n",
      "max_pooling2d_19 (MaxPooling (None, 96, 2, 2)          0         \n",
      "_________________________________________________________________\n",
      "conv2d_20 (Conv2D)           (None, 108, 2, 2)         93420     \n",
      "_________________________________________________________________\n",
      "max_pooling2d_20 (MaxPooling (None, 108, 1, 1)         0         \n",
      "_________________________________________________________________\n",
      "flatten_5 (Flatten)          (None, 108)               0         \n",
      "_________________________________________________________________\n",
      "dense_9 (Dense)              (None, 128)               13952     \n",
      "_________________________________________________________________\n",
      "dropout_5 (Dropout)          (None, 128)               0         \n",
      "_________________________________________________________________\n",
      "dense_10 (Dense)             (None, 4)                 516       \n",
      "=================================================================\n",
      "Total params: 265,168\n",
      "Trainable params: 265,168\n",
      "Non-trainable params: 0\n",
      "_________________________________________________________________\n"
     ]
    }
   ],
   "source": [
    "model5 = Sequential()\n",
    "\n",
    "model5.add(Conv2D(32, (3, 3), padding='same', input_shape=(CHANNELS, ROWS, COLS), activation='relu'))\n",
    "model5.add(MaxPooling2D(pool_size=(2, 2)))\n",
    "model5.add(Conv2D(48, (3, 3), padding='same', activation='relu'))\n",
    "model5.add(MaxPooling2D(pool_size=(2, 2)))\n",
    "model5.add(Conv2D(64, (3, 3), padding='same', activation='relu'))\n",
    "model5.add(MaxPooling2D(pool_size=(2, 2)))\n",
    "model5.add(Conv2D(80, (3, 3), padding='same', activation='relu'))\n",
    "model5.add(MaxPooling2D(pool_size=(2, 2)))\n",
    "model5.add(Conv2D(96, (3, 3), padding='same', activation='relu'))\n",
    "model5.add(MaxPooling2D(pool_size=(2, 2)))\n",
    "model5.add(Conv2D(108, (3, 3), padding='same', activation='relu'))\n",
    "model5.add(MaxPooling2D(pool_size=(2, 2)))\n",
    "model5.add(Flatten())\n",
    "\n",
    "model5.add(Dense(128, activation='relu'))\n",
    "model5.add(Dropout(0.5))\n",
    "\n",
    "model5.add(Dense(num_classes, activation = 'softmax'))\n",
    "\n",
    "model5.summary()"
   ]
  },
  {
   "cell_type": "code",
   "execution_count": 62,
   "metadata": {
    "collapsed": true
   },
   "outputs": [],
   "source": [
    "model5.compile(loss='categorical_crossentropy', optimizer=adam(lr=1e-3), metrics=['accuracy'])"
   ]
  },
  {
   "cell_type": "code",
   "execution_count": 63,
   "metadata": {},
   "outputs": [
    {
     "data": {
      "text/plain": [
       "11052"
      ]
     },
     "execution_count": 63,
     "metadata": {},
     "output_type": "execute_result"
    }
   ],
   "source": [
    "len(train_rus)"
   ]
  },
  {
   "cell_type": "markdown",
   "metadata": {},
   "source": [
    "### Train"
   ]
  },
  {
   "cell_type": "code",
   "execution_count": 64,
   "metadata": {},
   "outputs": [
    {
     "name": "stdout",
     "output_type": "stream",
     "text": [
      "Train on 8289 samples, validate on 2763 samples\n",
      "Epoch 1/30\n",
      "8289/8289 [==============================] - 121s 15ms/step - loss: 1.3202 - acc: 0.3300 - val_loss: 1.1589 - val_acc: 0.4390\n",
      "Epoch 2/30\n",
      "8289/8289 [==============================] - 116s 14ms/step - loss: 1.1356 - acc: 0.4652 - val_loss: 1.0708 - val_acc: 0.4911\n",
      "Epoch 3/30\n",
      "8289/8289 [==============================] - 116s 14ms/step - loss: 1.0540 - acc: 0.5052 - val_loss: 1.0164 - val_acc: 0.5045\n",
      "Epoch 4/30\n",
      "8289/8289 [==============================] - 116s 14ms/step - loss: 1.0220 - acc: 0.5161 - val_loss: 1.0069 - val_acc: 0.5157\n",
      "Epoch 5/30\n",
      "8289/8289 [==============================] - 116s 14ms/step - loss: 0.9975 - acc: 0.5244 - val_loss: 0.9748 - val_acc: 0.5237\n",
      "Epoch 6/30\n",
      "8289/8289 [==============================] - 116s 14ms/step - loss: 0.9654 - acc: 0.5437 - val_loss: 0.9485 - val_acc: 0.5371\n",
      "Epoch 7/30\n",
      "8289/8289 [==============================] - 116s 14ms/step - loss: 0.9227 - acc: 0.5530 - val_loss: 0.9238 - val_acc: 0.5519\n",
      "Epoch 8/30\n",
      "8289/8289 [==============================] - 117s 14ms/step - loss: 0.8775 - acc: 0.5744 - val_loss: 0.9208 - val_acc: 0.5661\n",
      "Epoch 9/30\n",
      "8289/8289 [==============================] - 116s 14ms/step - loss: 0.8437 - acc: 0.5798 - val_loss: 0.8713 - val_acc: 0.5831\n",
      "Epoch 10/30\n",
      "8289/8289 [==============================] - 117s 14ms/step - loss: 0.8031 - acc: 0.6000 - val_loss: 0.8738 - val_acc: 0.5816\n",
      "Epoch 11/30\n",
      "8289/8289 [==============================] - 120s 14ms/step - loss: 0.7838 - acc: 0.5991 - val_loss: 0.8208 - val_acc: 0.5993\n",
      "Epoch 12/30\n",
      "8289/8289 [==============================] - 117s 14ms/step - loss: 0.7421 - acc: 0.6221 - val_loss: 0.8258 - val_acc: 0.5889\n",
      "Epoch 13/30\n",
      "8289/8289 [==============================] - 117s 14ms/step - loss: 0.7356 - acc: 0.6299 - val_loss: 0.8362 - val_acc: 0.5863\n",
      "Epoch 14/30\n",
      "8289/8289 [==============================] - 120s 14ms/step - loss: 0.7036 - acc: 0.6436 - val_loss: 0.8335 - val_acc: 0.5867\n",
      "Epoch 15/30\n",
      "8289/8289 [==============================] - 117s 14ms/step - loss: 0.6895 - acc: 0.6529 - val_loss: 0.8296 - val_acc: 0.6095\n",
      "Epoch 16/30\n",
      "8289/8289 [==============================] - 119s 14ms/step - loss: 0.6803 - acc: 0.6574 - val_loss: 0.8635 - val_acc: 0.5936\n",
      "Epoch 17/30\n",
      "8289/8289 [==============================] - 118s 14ms/step - loss: 0.6570 - acc: 0.6704 - val_loss: 0.8888 - val_acc: 0.5965\n",
      "Epoch 18/30\n",
      "8289/8289 [==============================] - 120s 14ms/step - loss: 0.6371 - acc: 0.6837 - val_loss: 0.9029 - val_acc: 0.6102\n",
      "Epoch 19/30\n",
      "8289/8289 [==============================] - 122s 15ms/step - loss: 0.6110 - acc: 0.6956 - val_loss: 0.9079 - val_acc: 0.5932\n",
      "Epoch 20/30\n",
      "8289/8289 [==============================] - 119s 14ms/step - loss: 0.5853 - acc: 0.7100 - val_loss: 0.9416 - val_acc: 0.6019\n",
      "Epoch 21/30\n",
      "8289/8289 [==============================] - 119s 14ms/step - loss: 0.5762 - acc: 0.7185 - val_loss: 0.9306 - val_acc: 0.5983\n",
      "Epoch 22/30\n",
      "8289/8289 [==============================] - 121s 15ms/step - loss: 0.5465 - acc: 0.7308 - val_loss: 0.9410 - val_acc: 0.6109\n",
      "Epoch 23/30\n",
      "8289/8289 [==============================] - 121s 15ms/step - loss: 0.5302 - acc: 0.7495 - val_loss: 1.0235 - val_acc: 0.6051\n",
      "Epoch 24/30\n",
      "8289/8289 [==============================] - 120s 14ms/step - loss: 0.5017 - acc: 0.7664 - val_loss: 1.0126 - val_acc: 0.6041\n",
      "Epoch 25/30\n",
      "8289/8289 [==============================] - 119s 14ms/step - loss: 0.4889 - acc: 0.7760 - val_loss: 1.1348 - val_acc: 0.5914\n",
      "Epoch 26/30\n",
      "8289/8289 [==============================] - 120s 14ms/step - loss: 0.4424 - acc: 0.7982 - val_loss: 1.1982 - val_acc: 0.6012\n",
      "Epoch 27/30\n",
      "8289/8289 [==============================] - 122s 15ms/step - loss: 0.4372 - acc: 0.7972 - val_loss: 1.1194 - val_acc: 0.5957\n",
      "Epoch 28/30\n",
      "8289/8289 [==============================] - 121s 15ms/step - loss: 0.4268 - acc: 0.8106 - val_loss: 1.1393 - val_acc: 0.6084\n",
      "Epoch 29/30\n",
      "8289/8289 [==============================] - 120s 15ms/step - loss: 0.3814 - acc: 0.8309 - val_loss: 1.2312 - val_acc: 0.5957\n",
      "Epoch 30/30\n",
      "8289/8289 [==============================] - 122s 15ms/step - loss: 0.3655 - acc: 0.8383 - val_loss: 1.2893 - val_acc: 0.6015\n"
     ]
    }
   ],
   "source": [
    "epochs = 30\n",
    "batch_size = 128\n",
    "\n",
    "history = model5.fit(train_rus, train_labels_rus_wide, batch_size=batch_size, epochs=epochs, validation_split=0.25, verbose=1, shuffle=True)"
   ]
  },
  {
   "cell_type": "code",
   "execution_count": 65,
   "metadata": {},
   "outputs": [
    {
     "data": {
      "image/png": "[encoded data removed]",
      "text/plain": [
       "<matplotlib.figure.Figure at 0x1a95b5470>"
      ]
     },
     "metadata": {},
     "output_type": "display_data"
    }
   ],
   "source": [
    "loss = history.history['loss']\n",
    "val_loss = history.history['val_loss']\n",
    "\n",
    "plt.xlabel('Epochs')\n",
    "plt.ylabel('Loss')\n",
    "plt.plot(loss, 'blue', label='Training Loss')\n",
    "plt.plot(val_loss, 'green', label='Validation Loss')\n",
    "plt.xticks(range(0,epochs)[0::2])\n",
    "plt.legend()\n",
    "plt.show()"
   ]
  },
  {
   "cell_type": "markdown",
   "metadata": {},
   "source": [
    "### Evaluation"
   ]
  },
  {
   "cell_type": "code",
   "execution_count": 66,
   "metadata": {},
   "outputs": [
    {
     "name": "stdout",
     "output_type": "stream",
     "text": [
      "****** Test Data ********\n",
      "             precision    recall  f1-score   support\n",
      "\n",
      "          0       0.49      0.49      0.49      2416\n",
      "          1       0.43      0.77      0.55       674\n",
      "          2       0.59      0.37      0.45      2654\n",
      "          3       0.45      0.76      0.57       689\n",
      "\n",
      "avg / total       0.52      0.50      0.49      6433\n",
      "\n",
      "Confusion Matrix\n",
      "[[1191  329  580  316]\n",
      " [  94  516   58    6]\n",
      " [1037  326  977  314]\n",
      " [ 107   17   40  525]]\n"
     ]
    }
   ],
   "source": [
    "print(\"****** Test Data ********\")\n",
    "# Make a set of predictions for the validation data\n",
    "pred5 = model5.predict_classes(test)\n",
    "\n",
    "# Print performance details\n",
    "print(metrics.classification_report(test_labels, pred5))\n",
    "\n",
    "# Print confusion matrix\n",
    "print(\"Confusion Matrix\")\n",
    "print(metrics.confusion_matrix(test_labels, pred5))\n",
    "#display(pd.crosstab(test_labels, list(pred), margins=True))"
   ]
  },
  {
   "cell_type": "code",
   "execution_count": 67,
   "metadata": {},
   "outputs": [
    {
     "name": "stdout",
     "output_type": "stream",
     "text": [
      "0.49883413648375563\n"
     ]
    }
   ],
   "source": [
    "print(metrics.accuracy_score(test_labels, pred5))"
   ]
  },
  {
   "cell_type": "markdown",
   "metadata": {},
   "source": [
    "### Persist a model"
   ]
  },
  {
   "cell_type": "markdown",
   "metadata": {},
   "source": [
    "Model 3 performs best"
   ]
  },
  {
   "cell_type": "code",
   "execution_count": 117,
   "metadata": {
    "collapsed": true
   },
   "outputs": [],
   "source": [
    "filepath = \"player_images_2.mod\"\n",
    "model3.save(filepath)"
   ]
  },
  {
   "cell_type": "markdown",
   "metadata": {},
   "source": [
    "## Question3"
   ]
  },
  {
   "cell_type": "code",
   "execution_count": 1,
   "metadata": {},
   "outputs": [
    {
     "name": "stderr",
     "output_type": "stream",
     "text": [
      "/Users/leejoonsung/anaconda/lib/python3.6/site-packages/h5py/__init__.py:34: FutureWarning: Conversion of the second argument of issubdtype from `float` to `np.floating` is deprecated. In future, it will be treated as `np.float64 == np.dtype(float).type`.\n",
      "  from ._conv import register_converters as _register_converters\n",
      "Using TensorFlow backend.\n"
     ]
    }
   ],
   "source": [
    "import numpy as np\n",
    "import gym\n",
    "\n",
    "from keras.models import Sequential\n",
    "from keras.layers import Dense, Activation, Flatten\n",
    "from keras.optimizers import Adam\n",
    "\n",
    "from rl.agents.dqn import DQNAgent\n",
    "from rl.policy import BoltzmannQPolicy, EpsGreedyQPolicy\n",
    "from rl.memory import SequentialMemory\n",
    "\n",
    "import io\n",
    "import sys\n",
    "import csv"
   ]
  },
  {
   "cell_type": "code",
   "execution_count": 2,
   "metadata": {},
   "outputs": [
    {
     "name": "stdout",
     "output_type": "stream",
     "text": [
      "\u001b[33mWARN: gym.spaces.Box autodetected dtype as <class 'numpy.float32'>. Please provide explicit dtype.\u001b[0m\n"
     ]
    }
   ],
   "source": [
    "# Get the environment and extract the number of actions.\n",
    "ENV_NAME = 'LunarLander-v2'\n",
    "env = gym.make(ENV_NAME)\n",
    "np.random.seed(123)\n",
    "env.seed(123)\n",
    "nb_actions = env.action_space.n"
   ]
  },
  {
   "cell_type": "code",
   "execution_count": 3,
   "metadata": {},
   "outputs": [
    {
     "name": "stdout",
     "output_type": "stream",
     "text": [
      "_________________________________________________________________\n",
      "Layer (type)                 Output Shape              Param #   \n",
      "=================================================================\n",
      "flatten_1 (Flatten)          (None, 8)                 0         \n",
      "_________________________________________________________________\n",
      "dense_1 (Dense)              (None, 50)                450       \n",
      "_________________________________________________________________\n",
      "activation_1 (Activation)    (None, 50)                0         \n",
      "_________________________________________________________________\n",
      "dense_2 (Dense)              (None, 75)                3825      \n",
      "_________________________________________________________________\n",
      "activation_2 (Activation)    (None, 75)                0         \n",
      "_________________________________________________________________\n",
      "dense_3 (Dense)              (None, 100)               7600      \n",
      "_________________________________________________________________\n",
      "activation_3 (Activation)    (None, 100)               0         \n",
      "_________________________________________________________________\n",
      "dense_4 (Dense)              (None, 4)                 404       \n",
      "_________________________________________________________________\n",
      "activation_4 (Activation)    (None, 4)                 0         \n",
      "=================================================================\n",
      "Total params: 12,279\n",
      "Trainable params: 12,279\n",
      "Non-trainable params: 0\n",
      "_________________________________________________________________\n",
      "None\n"
     ]
    }
   ],
   "source": [
    "# Next, we build a very simple model.\n",
    "model = Sequential()\n",
    "model.add(Flatten(input_shape=(1,) + env.observation_space.shape))\n",
    "model.add(Dense(50))\n",
    "model.add(Activation('relu'))\n",
    "model.add(Dense(75))\n",
    "model.add(Activation('relu'))\n",
    "model.add(Dense(100))\n",
    "model.add(Activation('relu'))\n",
    "model.add(Dense(nb_actions))\n",
    "model.add(Activation('linear'))\n",
    "print(model.summary())"
   ]
  },
  {
   "cell_type": "code",
   "execution_count": 4,
   "metadata": {
    "collapsed": true
   },
   "outputs": [],
   "source": [
    "# Finally, we configure and compile our agent. You can use every built-in Keras optimizer and\n",
    "# even the metrics!\n",
    "memory = SequentialMemory(limit=500000, window_length=1)\n",
    "policy = EpsGreedyQPolicy()\n",
    "dqn = DQNAgent(model=model, nb_actions=nb_actions, memory=memory, nb_steps_warmup=10,\n",
    "               target_model_update=1e-2, policy=policy, enable_double_dqn=False)\n",
    "dqn.compile(Adam(lr=0.002, decay=2.25e-05), metrics=['mae'])"
   ]
  },
  {
   "cell_type": "code",
   "execution_count": 5,
   "metadata": {},
   "outputs": [
    {
     "name": "stdout",
     "output_type": "stream",
     "text": [
      "Training for 100000 steps ...\n"
     ]
    },
    {
     "name": "stderr",
     "output_type": "stream",
     "text": [
      "/Users/leejoonsung/anaconda/lib/python3.6/site-packages/rl/memory.py:29: UserWarning: Not enough entries to sample without replacement. Consider increasing your warm-up phase to avoid oversampling!\n",
      "  warnings.warn('Not enough entries to sample without replacement. Consider increasing your warm-up phase to avoid oversampling!')\n"
     ]
    },
    {
     "name": "stdout",
     "output_type": "stream",
     "text": [
      "    71/100000: episode: 1, duration: 1.289s, episode steps: 71, steps per second: 55, episode reward: -159.436, mean reward: -2.246 [-100.000, 13.179], mean action: 1.493 [0.000, 3.000], mean observation: 0.007 [-1.497, 5.697], loss: 2.913820, mean_absolute_error: 2.114091, mean_q: -0.438274\n",
      "   168/100000: episode: 2, duration: 0.332s, episode steps: 97, steps per second: 293, episode reward: -369.158, mean reward: -3.806 [-100.000, 2.444], mean action: 2.031 [0.000, 3.000], mean observation: 0.244 [-1.755, 2.615], loss: 28.878475, mean_absolute_error: 3.345076, mean_q: -1.194434\n",
      "   461/100000: episode: 3, duration: 1.119s, episode steps: 293, steps per second: 262, episode reward: -329.103, mean reward: -1.123 [-100.000, 45.166], mean action: 1.614 [0.000, 3.000], mean observation: 0.014 [-1.153, 2.335], loss: 26.448143, mean_absolute_error: 5.743047, mean_q: -3.752707\n",
      "   595/100000: episode: 4, duration: 0.462s, episode steps: 134, steps per second: 290, episode reward: -456.621, mean reward: -3.408 [-100.000, 84.338], mean action: 1.313 [0.000, 3.000], mean observation: 0.176 [-1.523, 3.834], loss: 16.429419, mean_absolute_error: 7.354524, mean_q: -4.636876\n",
      "   664/100000: episode: 5, duration: 0.234s, episode steps: 69, steps per second: 294, episode reward: -200.353, mean reward: -2.904 [-100.000, 6.457], mean action: 0.333 [0.000, 3.000], mean observation: -0.150 [-4.229, 1.000], loss: 19.616833, mean_absolute_error: 9.877035, mean_q: -6.943088\n",
      "  1169/100000: episode: 6, duration: 2.010s, episode steps: 505, steps per second: 251, episode reward: -268.420, mean reward: -0.532 [-100.000, 21.515], mean action: 1.883 [0.000, 3.000], mean observation: 0.005 [-1.097, 1.727], loss: 12.866938, mean_absolute_error: 9.871364, mean_q: -6.965560\n",
      "  1343/100000: episode: 7, duration: 0.668s, episode steps: 174, steps per second: 260, episode reward: -192.332, mean reward: -1.105 [-100.000, 19.243], mean action: 1.994 [0.000, 3.000], mean observation: 0.023 [-1.161, 2.312], loss: 7.162632, mean_absolute_error: 10.450699, mean_q: -6.179631\n",
      "  2343/100000: episode: 8, duration: 4.519s, episode steps: 1000, steps per second: 221, episode reward: -191.243, mean reward: -0.191 [-4.691, 4.368], mean action: 1.944 [0.000, 3.000], mean observation: 0.178 [-0.336, 1.072], loss: 9.257378, mean_absolute_error: 12.413497, mean_q: -6.141102\n",
      "  3343/100000: episode: 9, duration: 4.124s, episode steps: 1000, steps per second: 242, episode reward: -127.413, mean reward: -0.127 [-4.784, 3.410], mean action: 1.841 [0.000, 3.000], mean observation: 0.182 [-0.286, 1.040], loss: 7.073332, mean_absolute_error: 12.707726, mean_q: -4.384903\n",
      "  3553/100000: episode: 10, duration: 0.796s, episode steps: 210, steps per second: 264, episode reward: -138.905, mean reward: -0.661 [-100.000, 2.808], mean action: 1.943 [0.000, 3.000], mean observation: 0.240 [-0.375, 1.002], loss: 6.303771, mean_absolute_error: 12.034600, mean_q: -2.891106\n",
      "  4373/100000: episode: 11, duration: 3.371s, episode steps: 820, steps per second: 243, episode reward: -287.484, mean reward: -0.351 [-100.000, 3.747], mean action: 1.771 [0.000, 3.000], mean observation: 0.180 [-0.385, 1.003], loss: 3.365906, mean_absolute_error: 11.456333, mean_q: -1.819708\n",
      "  4760/100000: episode: 12, duration: 1.534s, episode steps: 387, steps per second: 252, episode reward: -257.674, mean reward: -0.666 [-100.000, 2.824], mean action: 1.654 [0.000, 3.000], mean observation: 0.074 [-0.439, 1.000], loss: 5.734747, mean_absolute_error: 11.879107, mean_q: -1.585413\n",
      "  4926/100000: episode: 13, duration: 0.581s, episode steps: 166, steps per second: 286, episode reward: -205.910, mean reward: -1.240 [-100.000, 8.736], mean action: 1.892 [0.000, 3.000], mean observation: 0.140 [-2.848, 1.002], loss: 5.001964, mean_absolute_error: 11.355001, mean_q: -0.005968\n",
      "  5337/100000: episode: 14, duration: 1.563s, episode steps: 411, steps per second: 263, episode reward: -164.210, mean reward: -0.400 [-100.000, 4.737], mean action: 1.820 [0.000, 3.000], mean observation: 0.015 [-3.074, 1.000], loss: 6.180479, mean_absolute_error: 12.267172, mean_q: 1.311230\n",
      "  6337/100000: episode: 15, duration: 4.510s, episode steps: 1000, steps per second: 222, episode reward: -179.207, mean reward: -0.179 [-4.757, 3.205], mean action: 1.406 [0.000, 3.000], mean observation: 0.132 [-0.593, 1.033], loss: 3.877571, mean_absolute_error: 12.427764, mean_q: 2.775629\n",
      "  6539/100000: episode: 16, duration: 0.720s, episode steps: 202, steps per second: 280, episode reward: -256.695, mean reward: -1.271 [-100.000, 2.965], mean action: 1.579 [0.000, 3.000], mean observation: -0.024 [-1.108, 0.976], loss: 2.449044, mean_absolute_error: 12.571565, mean_q: 3.402935\n",
      "  7102/100000: episode: 17, duration: 2.449s, episode steps: 563, steps per second: 230, episode reward: -191.749, mean reward: -0.341 [-100.000, 21.776], mean action: 1.540 [0.000, 3.000], mean observation: 0.043 [-1.201, 1.889], loss: 2.921851, mean_absolute_error: 12.907813, mean_q: 4.866331\n",
      "  7533/100000: episode: 18, duration: 1.741s, episode steps: 431, steps per second: 248, episode reward: -280.243, mean reward: -0.650 [-100.000, 52.645], mean action: 1.705 [0.000, 3.000], mean observation: -0.007 [-2.069, 1.186], loss: 4.212525, mean_absolute_error: 14.046055, mean_q: 6.912603\n",
      "  7695/100000: episode: 19, duration: 0.588s, episode steps: 162, steps per second: 276, episode reward: -275.581, mean reward: -1.701 [-100.000, 99.643], mean action: 1.327 [0.000, 3.000], mean observation: 0.082 [-2.086, 1.078], loss: 7.524745, mean_absolute_error: 14.937430, mean_q: 9.118956\n",
      "  8007/100000: episode: 20, duration: 1.193s, episode steps: 312, steps per second: 262, episode reward: -314.058, mean reward: -1.007 [-100.000, 22.539], mean action: 1.609 [0.000, 3.000], mean observation: -0.039 [-4.003, 1.246], loss: 6.353675, mean_absolute_error: 14.983885, mean_q: 8.123390\n",
      "  9007/100000: episode: 21, duration: 5.379s, episode steps: 1000, steps per second: 186, episode reward: -172.409, mean reward: -0.172 [-4.721, 4.211], mean action: 1.653 [0.000, 3.000], mean observation: 0.052 [-0.987, 1.009], loss: 6.640830, mean_absolute_error: 14.573695, mean_q: 8.964209\n",
      "  9905/100000: episode: 22, duration: 3.846s, episode steps: 898, steps per second: 233, episode reward: -223.812, mean reward: -0.249 [-100.000, 10.329], mean action: 1.667 [0.000, 3.000], mean observation: -0.015 [-0.927, 3.578], loss: 5.979225, mean_absolute_error: 15.583921, mean_q: 11.277981\n",
      " 10112/100000: episode: 23, duration: 0.754s, episode steps: 207, steps per second: 275, episode reward: -156.093, mean reward: -0.754 [-100.000, 2.557], mean action: 1.773 [0.000, 3.000], mean observation: 0.257 [-0.372, 1.103], loss: 2.958818, mean_absolute_error: 15.765131, mean_q: 12.728823\n",
      " 10218/100000: episode: 24, duration: 0.378s, episode steps: 106, steps per second: 280, episode reward: -171.354, mean reward: -1.617 [-100.000, 1.180], mean action: 1.679 [0.000, 3.000], mean observation: -0.080 [-1.137, 0.968], loss: 3.650489, mean_absolute_error: 16.395927, mean_q: 12.227655\n",
      " 11218/100000: episode: 25, duration: 4.200s, episode steps: 1000, steps per second: 238, episode reward: -144.195, mean reward: -0.144 [-5.282, 4.939], mean action: 1.718 [0.000, 3.000], mean observation: -0.019 [-0.830, 0.979], loss: 4.292060, mean_absolute_error: 16.637169, mean_q: 12.935524\n",
      " 11620/100000: episode: 26, duration: 1.485s, episode steps: 402, steps per second: 271, episode reward: -161.927, mean reward: -0.403 [-100.000, 5.475], mean action: 1.714 [0.000, 3.000], mean observation: -0.059 [-1.001, 0.968], loss: 4.257180, mean_absolute_error: 17.569857, mean_q: 14.238269\n",
      " 12435/100000: episode: 27, duration: 3.519s, episode steps: 815, steps per second: 232, episode reward: -454.849, mean reward: -0.558 [-100.000, 4.440], mean action: 1.685 [0.000, 3.000], mean observation: 0.038 [-0.811, 1.850], loss: 5.134373, mean_absolute_error: 17.394712, mean_q: 14.438104\n",
      " 12671/100000: episode: 28, duration: 0.952s, episode steps: 236, steps per second: 248, episode reward: -166.277, mean reward: -0.705 [-100.000, 3.644], mean action: 1.466 [0.000, 3.000], mean observation: -0.045 [-1.005, 0.924], loss: 8.245346, mean_absolute_error: 17.260702, mean_q: 14.224545\n"
     ]
    },
    {
     "name": "stdout",
     "output_type": "stream",
     "text": [
      " 12860/100000: episode: 29, duration: 0.674s, episode steps: 189, steps per second: 280, episode reward: -158.725, mean reward: -0.840 [-100.000, 4.257], mean action: 1.481 [0.000, 3.000], mean observation: -0.066 [-1.001, 0.942], loss: 6.219909, mean_absolute_error: 17.440815, mean_q: 14.171348\n",
      " 13000/100000: episode: 30, duration: 0.491s, episode steps: 140, steps per second: 285, episode reward: -143.593, mean reward: -1.026 [-100.000, 17.340], mean action: 1.900 [0.000, 3.000], mean observation: 0.056 [-0.977, 2.956], loss: 5.849504, mean_absolute_error: 17.113703, mean_q: 15.039374\n",
      " 13426/100000: episode: 31, duration: 1.702s, episode steps: 426, steps per second: 250, episode reward: -209.221, mean reward: -0.491 [-100.000, 9.315], mean action: 1.765 [0.000, 3.000], mean observation: 0.074 [-0.677, 1.182], loss: 4.505347, mean_absolute_error: 17.080147, mean_q: 14.835071\n",
      " 14426/100000: episode: 32, duration: 4.688s, episode steps: 1000, steps per second: 213, episode reward: -109.504, mean reward: -0.110 [-4.063, 5.418], mean action: 1.615 [0.000, 3.000], mean observation: 0.024 [-0.738, 0.937], loss: 5.616982, mean_absolute_error: 17.765055, mean_q: 14.879861\n",
      " 14800/100000: episode: 33, duration: 1.510s, episode steps: 374, steps per second: 248, episode reward: -249.012, mean reward: -0.666 [-100.000, 5.647], mean action: 1.824 [0.000, 3.000], mean observation: -0.009 [-1.136, 0.927], loss: 6.142231, mean_absolute_error: 17.816326, mean_q: 14.954794\n",
      " 15429/100000: episode: 34, duration: 2.772s, episode steps: 629, steps per second: 227, episode reward: -277.572, mean reward: -0.441 [-100.000, 14.423], mean action: 1.711 [0.000, 3.000], mean observation: 0.089 [-0.822, 2.567], loss: 5.639331, mean_absolute_error: 17.978531, mean_q: 15.151318\n",
      " 15554/100000: episode: 35, duration: 0.454s, episode steps: 125, steps per second: 275, episode reward: -625.143, mean reward: -5.001 [-100.000, 1.364], mean action: 1.840 [0.000, 3.000], mean observation: 0.162 [-3.342, 1.580], loss: 3.455667, mean_absolute_error: 17.951551, mean_q: 14.110923\n",
      " 15952/100000: episode: 36, duration: 1.582s, episode steps: 398, steps per second: 252, episode reward: -216.682, mean reward: -0.544 [-100.000, 36.212], mean action: 1.822 [0.000, 3.000], mean observation: 0.084 [-2.269, 1.000], loss: 7.688658, mean_absolute_error: 18.679832, mean_q: 15.424104\n",
      " 16952/100000: episode: 37, duration: 5.253s, episode steps: 1000, steps per second: 190, episode reward: -171.514, mean reward: -0.172 [-5.365, 5.541], mean action: 1.721 [0.000, 3.000], mean observation: 0.131 [-0.553, 0.941], loss: 5.542582, mean_absolute_error: 18.689182, mean_q: 15.506250\n",
      " 17952/100000: episode: 38, duration: 5.653s, episode steps: 1000, steps per second: 177, episode reward: -96.449, mean reward: -0.096 [-4.850, 6.405], mean action: 1.654 [0.000, 3.000], mean observation: 0.075 [-0.626, 0.978], loss: 5.967768, mean_absolute_error: 19.846867, mean_q: 17.433954\n",
      " 18952/100000: episode: 39, duration: 5.372s, episode steps: 1000, steps per second: 186, episode reward: -122.607, mean reward: -0.123 [-5.089, 4.518], mean action: 1.609 [0.000, 3.000], mean observation: 0.048 [-0.620, 0.929], loss: 5.140137, mean_absolute_error: 21.229290, mean_q: 19.909000\n",
      " 19380/100000: episode: 40, duration: 1.861s, episode steps: 428, steps per second: 230, episode reward: -136.211, mean reward: -0.318 [-100.000, 7.865], mean action: 1.762 [0.000, 3.000], mean observation: 0.073 [-0.726, 1.000], loss: 5.686977, mean_absolute_error: 22.643198, mean_q: 21.563372\n",
      " 20380/100000: episode: 41, duration: 4.808s, episode steps: 1000, steps per second: 208, episode reward: -116.577, mean reward: -0.117 [-4.826, 5.300], mean action: 1.594 [0.000, 3.000], mean observation: 0.034 [-0.467, 0.932], loss: 5.715350, mean_absolute_error: 23.373543, mean_q: 22.810539\n",
      " 21380/100000: episode: 42, duration: 4.892s, episode steps: 1000, steps per second: 204, episode reward: -82.663, mean reward: -0.083 [-4.314, 4.027], mean action: 1.782 [0.000, 3.000], mean observation: 0.056 [-0.453, 0.927], loss: 5.258346, mean_absolute_error: 23.939800, mean_q: 24.087637\n",
      " 22380/100000: episode: 43, duration: 4.750s, episode steps: 1000, steps per second: 211, episode reward: -160.252, mean reward: -0.160 [-4.278, 4.094], mean action: 1.835 [0.000, 3.000], mean observation: 0.024 [-0.446, 0.939], loss: 5.551262, mean_absolute_error: 23.684584, mean_q: 24.740484\n",
      " 23380/100000: episode: 44, duration: 4.900s, episode steps: 1000, steps per second: 204, episode reward: -87.567, mean reward: -0.088 [-4.569, 5.268], mean action: 1.621 [0.000, 3.000], mean observation: 0.034 [-0.617, 0.988], loss: 3.476404, mean_absolute_error: 23.697399, mean_q: 25.334126\n",
      " 24380/100000: episode: 45, duration: 5.008s, episode steps: 1000, steps per second: 200, episode reward: -80.449, mean reward: -0.080 [-4.384, 5.427], mean action: 1.514 [0.000, 3.000], mean observation: 0.046 [-0.514, 1.023], loss: 4.222991, mean_absolute_error: 23.813904, mean_q: 26.066887\n",
      " 25380/100000: episode: 46, duration: 4.867s, episode steps: 1000, steps per second: 205, episode reward: -55.917, mean reward: -0.056 [-4.621, 4.207], mean action: 1.459 [0.000, 3.000], mean observation: 0.026 [-0.586, 0.998], loss: 4.536233, mean_absolute_error: 23.787416, mean_q: 26.477093\n",
      " 26380/100000: episode: 47, duration: 4.691s, episode steps: 1000, steps per second: 213, episode reward: -136.764, mean reward: -0.137 [-5.231, 4.735], mean action: 1.669 [0.000, 3.000], mean observation: 0.071 [-0.624, 1.020], loss: 4.549258, mean_absolute_error: 24.105095, mean_q: 27.339590\n",
      " 26746/100000: episode: 48, duration: 1.449s, episode steps: 366, steps per second: 253, episode reward: -290.706, mean reward: -0.794 [-100.000, 50.150], mean action: 1.555 [0.000, 3.000], mean observation: -0.053 [-1.873, 1.431], loss: 4.701232, mean_absolute_error: 24.777489, mean_q: 28.103842\n",
      " 27541/100000: episode: 49, duration: 3.908s, episode steps: 795, steps per second: 203, episode reward: -205.301, mean reward: -0.258 [-100.000, 9.767], mean action: 1.678 [0.000, 3.000], mean observation: 0.016 [-0.807, 1.238], loss: 4.418740, mean_absolute_error: 25.202858, mean_q: 28.885048\n",
      " 27737/100000: episode: 50, duration: 0.679s, episode steps: 196, steps per second: 289, episode reward: -34.666, mean reward: -0.177 [-100.000, 20.849], mean action: 1.531 [0.000, 3.000], mean observation: 0.075 [-0.751, 1.490], loss: 3.765135, mean_absolute_error: 25.315380, mean_q: 28.949055\n",
      " 27853/100000: episode: 51, duration: 0.411s, episode steps: 116, steps per second: 282, episode reward: -153.544, mean reward: -1.324 [-100.000, 2.733], mean action: 1.948 [0.000, 3.000], mean observation: 0.243 [-0.503, 1.004], loss: 2.146861, mean_absolute_error: 25.462627, mean_q: 29.167675\n",
      " 28447/100000: episode: 52, duration: 2.435s, episode steps: 594, steps per second: 244, episode reward: -124.557, mean reward: -0.210 [-100.000, 11.413], mean action: 1.544 [0.000, 3.000], mean observation: 0.013 [-0.718, 1.000], loss: 3.979742, mean_absolute_error: 25.982834, mean_q: 29.238667\n",
      " 28631/100000: episode: 53, duration: 0.645s, episode steps: 184, steps per second: 285, episode reward: -473.511, mean reward: -2.573 [-100.000, 3.701], mean action: 1.957 [0.000, 3.000], mean observation: 0.030 [-2.376, 1.811], loss: 4.598081, mean_absolute_error: 26.905586, mean_q: 30.105658\n",
      " 28798/100000: episode: 54, duration: 0.576s, episode steps: 167, steps per second: 290, episode reward: -312.066, mean reward: -1.869 [-100.000, 6.386], mean action: 1.784 [0.000, 3.000], mean observation: 0.056 [-1.705, 3.335], loss: 4.553044, mean_absolute_error: 26.494059, mean_q: 30.090912\n",
      " 29077/100000: episode: 55, duration: 1.096s, episode steps: 279, steps per second: 255, episode reward: -154.256, mean reward: -0.553 [-100.000, 9.384], mean action: 1.667 [0.000, 3.000], mean observation: 0.039 [-0.824, 2.599], loss: 5.960405, mean_absolute_error: 27.317162, mean_q: 30.489779\n",
      " 29925/100000: episode: 56, duration: 3.845s, episode steps: 848, steps per second: 221, episode reward: 114.981, mean reward: 0.136 [-20.640, 100.000], mean action: 1.741 [0.000, 3.000], mean observation: 0.113 [-0.867, 1.060], loss: 6.074378, mean_absolute_error: 28.091198, mean_q: 31.153154\n"
     ]
    },
    {
     "name": "stdout",
     "output_type": "stream",
     "text": [
      " 30095/100000: episode: 57, duration: 0.565s, episode steps: 170, steps per second: 301, episode reward: -210.745, mean reward: -1.240 [-100.000, 9.301], mean action: 1.541 [0.000, 3.000], mean observation: -0.017 [-1.310, 1.243], loss: 6.687345, mean_absolute_error: 28.588858, mean_q: 31.100519\n",
      " 31095/100000: episode: 58, duration: 5.068s, episode steps: 1000, steps per second: 197, episode reward: -59.659, mean reward: -0.060 [-18.970, 20.372], mean action: 1.884 [0.000, 3.000], mean observation: 0.091 [-0.742, 1.000], loss: 7.401373, mean_absolute_error: 30.087063, mean_q: 33.383282\n",
      " 31214/100000: episode: 59, duration: 0.439s, episode steps: 119, steps per second: 271, episode reward: -127.023, mean reward: -1.067 [-100.000, 10.465], mean action: 1.605 [0.000, 3.000], mean observation: -0.014 [-0.942, 1.666], loss: 7.463102, mean_absolute_error: 30.992332, mean_q: 35.685619\n",
      " 31511/100000: episode: 60, duration: 1.090s, episode steps: 297, steps per second: 272, episode reward: -231.970, mean reward: -0.781 [-100.000, 13.957], mean action: 1.609 [0.000, 3.000], mean observation: -0.018 [-1.069, 1.000], loss: 9.768226, mean_absolute_error: 32.106094, mean_q: 35.694939\n",
      " 32511/100000: episode: 61, duration: 5.022s, episode steps: 1000, steps per second: 199, episode reward: -66.911, mean reward: -0.067 [-23.312, 24.192], mean action: 1.590 [0.000, 3.000], mean observation: 0.007 [-0.804, 1.203], loss: 8.267701, mean_absolute_error: 33.592422, mean_q: 39.084759\n",
      " 33511/100000: episode: 62, duration: 3.925s, episode steps: 1000, steps per second: 255, episode reward: -103.591, mean reward: -0.104 [-4.647, 4.031], mean action: 1.526 [0.000, 3.000], mean observation: -0.049 [-0.707, 0.967], loss: 6.238258, mean_absolute_error: 37.257851, mean_q: 45.119797\n",
      " 33637/100000: episode: 63, duration: 0.423s, episode steps: 126, steps per second: 298, episode reward: -242.852, mean reward: -1.927 [-100.000, 63.209], mean action: 1.905 [0.000, 3.000], mean observation: 0.025 [-1.134, 1.708], loss: 4.627470, mean_absolute_error: 39.000454, mean_q: 48.672836\n",
      " 33809/100000: episode: 64, duration: 0.572s, episode steps: 172, steps per second: 301, episode reward: -110.367, mean reward: -0.642 [-100.000, 13.150], mean action: 1.500 [0.000, 3.000], mean observation: 0.006 [-0.880, 1.003], loss: 7.793904, mean_absolute_error: 39.165745, mean_q: 48.370289\n",
      " 34809/100000: episode: 65, duration: 4.557s, episode steps: 1000, steps per second: 219, episode reward: -108.673, mean reward: -0.109 [-12.414, 17.922], mean action: 1.733 [0.000, 3.000], mean observation: -0.039 [-0.761, 1.000], loss: 7.118735, mean_absolute_error: 40.809891, mean_q: 50.866360\n",
      " 35039/100000: episode: 66, duration: 0.788s, episode steps: 230, steps per second: 292, episode reward: -81.605, mean reward: -0.355 [-100.000, 42.610], mean action: 1.665 [0.000, 3.000], mean observation: 0.019 [-1.391, 1.436], loss: 4.940965, mean_absolute_error: 41.929672, mean_q: 52.586269\n",
      " 35216/100000: episode: 67, duration: 0.599s, episode steps: 177, steps per second: 296, episode reward: -130.756, mean reward: -0.739 [-100.000, 9.803], mean action: 1.610 [0.000, 3.000], mean observation: 0.034 [-1.658, 1.000], loss: 11.073022, mean_absolute_error: 42.022179, mean_q: 51.976971\n",
      " 35366/100000: episode: 68, duration: 0.516s, episode steps: 150, steps per second: 290, episode reward: -137.963, mean reward: -0.920 [-100.000, 9.599], mean action: 1.447 [0.000, 3.000], mean observation: -0.023 [-1.553, 1.000], loss: 6.734097, mean_absolute_error: 42.040516, mean_q: 52.167976\n",
      " 35521/100000: episode: 69, duration: 0.551s, episode steps: 155, steps per second: 281, episode reward: -188.665, mean reward: -1.217 [-100.000, 9.845], mean action: 1.658 [0.000, 3.000], mean observation: 0.022 [-1.268, 2.392], loss: 11.027706, mean_absolute_error: 42.430077, mean_q: 53.044506\n",
      " 36521/100000: episode: 70, duration: 4.508s, episode steps: 1000, steps per second: 222, episode reward: -116.026, mean reward: -0.116 [-4.821, 7.741], mean action: 1.737 [0.000, 3.000], mean observation: -0.013 [-0.777, 0.934], loss: 6.104928, mean_absolute_error: 42.506081, mean_q: 53.602398\n",
      " 36650/100000: episode: 71, duration: 0.449s, episode steps: 129, steps per second: 287, episode reward: -125.734, mean reward: -0.975 [-100.000, 15.474], mean action: 1.457 [0.000, 3.000], mean observation: -0.042 [-1.248, 1.000], loss: 6.539025, mean_absolute_error: 42.560417, mean_q: 53.967659\n",
      " 37650/100000: episode: 72, duration: 5.403s, episode steps: 1000, steps per second: 185, episode reward: -58.086, mean reward: -0.058 [-14.935, 22.614], mean action: 1.656 [0.000, 3.000], mean observation: 0.014 [-0.665, 1.000], loss: 7.677893, mean_absolute_error: 42.551250, mean_q: 53.775452\n",
      " 38594/100000: episode: 73, duration: 3.912s, episode steps: 944, steps per second: 241, episode reward: -369.342, mean reward: -0.391 [-100.000, 17.253], mean action: 1.862 [0.000, 3.000], mean observation: 0.023 [-0.837, 1.273], loss: 6.031103, mean_absolute_error: 42.535080, mean_q: 54.132656\n",
      " 38814/100000: episode: 74, duration: 0.765s, episode steps: 220, steps per second: 288, episode reward: -117.707, mean reward: -0.535 [-100.000, 18.179], mean action: 1.691 [0.000, 3.000], mean observation: 0.011 [-2.018, 1.000], loss: 8.875830, mean_absolute_error: 42.484749, mean_q: 54.012657\n",
      " 39311/100000: episode: 75, duration: 2.063s, episode steps: 497, steps per second: 241, episode reward: -437.632, mean reward: -0.881 [-100.000, 6.925], mean action: 1.759 [0.000, 3.000], mean observation: -0.003 [-3.859, 1.931], loss: 7.784240, mean_absolute_error: 41.996792, mean_q: 53.618694\n",
      " 40307/100000: episode: 76, duration: 4.473s, episode steps: 996, steps per second: 223, episode reward: 55.311, mean reward: 0.056 [-13.959, 100.000], mean action: 1.635 [0.000, 3.000], mean observation: 0.037 [-1.308, 1.000], loss: 7.154364, mean_absolute_error: 42.180378, mean_q: 53.600395\n",
      " 40733/100000: episode: 77, duration: 1.678s, episode steps: 426, steps per second: 254, episode reward: 202.886, mean reward: 0.476 [-13.741, 100.000], mean action: 2.195 [0.000, 3.000], mean observation: 0.039 [-0.861, 1.000], loss: 8.022147, mean_absolute_error: 41.810188, mean_q: 53.128338\n",
      " 41269/100000: episode: 78, duration: 2.018s, episode steps: 536, steps per second: 266, episode reward: -282.807, mean reward: -0.528 [-100.000, 9.270], mean action: 1.662 [0.000, 3.000], mean observation: 0.053 [-0.621, 1.001], loss: 6.191148, mean_absolute_error: 41.702736, mean_q: 53.086643\n",
      " 42269/100000: episode: 79, duration: 4.570s, episode steps: 1000, steps per second: 219, episode reward: -91.659, mean reward: -0.092 [-6.872, 6.137], mean action: 1.671 [0.000, 3.000], mean observation: 0.035 [-0.525, 0.925], loss: 8.523740, mean_absolute_error: 41.503124, mean_q: 52.316704\n",
      " 43269/100000: episode: 80, duration: 5.285s, episode steps: 1000, steps per second: 189, episode reward: -99.448, mean reward: -0.099 [-5.291, 6.417], mean action: 1.683 [0.000, 3.000], mean observation: 0.018 [-0.667, 0.931], loss: 7.771361, mean_absolute_error: 40.849407, mean_q: 51.541946\n",
      " 44269/100000: episode: 81, duration: 4.769s, episode steps: 1000, steps per second: 210, episode reward: -120.683, mean reward: -0.121 [-3.322, 5.067], mean action: 1.734 [0.000, 3.000], mean observation: 0.016 [-0.394, 0.938], loss: 7.951737, mean_absolute_error: 40.709133, mean_q: 51.417965\n",
      " 45269/100000: episode: 82, duration: 4.487s, episode steps: 1000, steps per second: 223, episode reward: -67.350, mean reward: -0.067 [-4.809, 5.709], mean action: 1.691 [0.000, 3.000], mean observation: 0.018 [-0.437, 0.996], loss: 7.628831, mean_absolute_error: 40.746487, mean_q: 51.372631\n",
      " 45764/100000: episode: 83, duration: 2.001s, episode steps: 495, steps per second: 247, episode reward: 119.090, mean reward: 0.241 [-21.649, 100.000], mean action: 1.612 [0.000, 3.000], mean observation: 0.047 [-0.603, 1.000], loss: 7.051583, mean_absolute_error: 40.731682, mean_q: 51.379807\n",
      " 46268/100000: episode: 84, duration: 1.952s, episode steps: 504, steps per second: 258, episode reward: -105.191, mean reward: -0.209 [-100.000, 9.886], mean action: 1.802 [0.000, 3.000], mean observation: -0.036 [-0.717, 1.000], loss: 10.557729, mean_absolute_error: 41.358067, mean_q: 52.088818\n"
     ]
    },
    {
     "name": "stdout",
     "output_type": "stream",
     "text": [
      " 46931/100000: episode: 85, duration: 2.669s, episode steps: 663, steps per second: 248, episode reward: -186.693, mean reward: -0.282 [-100.000, 14.827], mean action: 1.567 [0.000, 3.000], mean observation: -0.013 [-0.950, 1.000], loss: 8.901178, mean_absolute_error: 41.742264, mean_q: 52.442272\n",
      " 47931/100000: episode: 86, duration: 4.411s, episode steps: 1000, steps per second: 227, episode reward: -91.041, mean reward: -0.091 [-23.994, 14.085], mean action: 1.723 [0.000, 3.000], mean observation: -0.013 [-0.733, 1.047], loss: 7.268562, mean_absolute_error: 42.707458, mean_q: 53.732731\n",
      " 48931/100000: episode: 87, duration: 4.869s, episode steps: 1000, steps per second: 205, episode reward: -339.468, mean reward: -0.339 [-12.818, 23.687], mean action: 1.802 [0.000, 3.000], mean observation: -0.004 [-0.863, 1.329], loss: 9.650045, mean_absolute_error: 43.472580, mean_q: 55.074574\n",
      " 49931/100000: episode: 88, duration: 4.202s, episode steps: 1000, steps per second: 238, episode reward: -110.717, mean reward: -0.111 [-24.325, 13.810], mean action: 1.829 [0.000, 3.000], mean observation: -0.022 [-0.587, 1.000], loss: 8.811601, mean_absolute_error: 43.894264, mean_q: 55.822884\n",
      " 50931/100000: episode: 89, duration: 4.579s, episode steps: 1000, steps per second: 218, episode reward: -75.934, mean reward: -0.076 [-4.491, 4.530], mean action: 1.492 [0.000, 3.000], mean observation: -0.007 [-0.773, 1.177], loss: 7.088871, mean_absolute_error: 44.038265, mean_q: 55.920139\n",
      " 51931/100000: episode: 90, duration: 5.112s, episode steps: 1000, steps per second: 196, episode reward: -82.568, mean reward: -0.083 [-4.320, 4.954], mean action: 1.710 [0.000, 3.000], mean observation: -0.037 [-0.617, 0.987], loss: 8.869570, mean_absolute_error: 44.458691, mean_q: 56.783360\n",
      " 52699/100000: episode: 91, duration: 3.204s, episode steps: 768, steps per second: 240, episode reward: 158.324, mean reward: 0.206 [-13.536, 100.000], mean action: 1.117 [0.000, 3.000], mean observation: 0.050 [-0.772, 1.000], loss: 8.418671, mean_absolute_error: 44.019032, mean_q: 56.509521\n",
      " 52913/100000: episode: 92, duration: 0.764s, episode steps: 214, steps per second: 280, episode reward: -182.398, mean reward: -0.852 [-100.000, 2.815], mean action: 1.710 [0.000, 3.000], mean observation: -0.017 [-1.007, 1.048], loss: 6.173038, mean_absolute_error: 44.203472, mean_q: 57.283836\n",
      " 53661/100000: episode: 93, duration: 3.005s, episode steps: 748, steps per second: 249, episode reward: 195.480, mean reward: 0.261 [-18.689, 100.000], mean action: 1.578 [0.000, 3.000], mean observation: 0.161 [-0.618, 1.118], loss: 7.603540, mean_absolute_error: 44.395241, mean_q: 57.051491\n",
      " 54661/100000: episode: 94, duration: 4.228s, episode steps: 1000, steps per second: 237, episode reward: -116.186, mean reward: -0.116 [-4.207, 6.355], mean action: 1.634 [0.000, 3.000], mean observation: -0.056 [-0.889, 0.938], loss: 5.832006, mean_absolute_error: 44.278324, mean_q: 56.882717\n",
      " 55661/100000: episode: 95, duration: 4.696s, episode steps: 1000, steps per second: 213, episode reward: -134.771, mean reward: -0.135 [-6.388, 6.446], mean action: 1.847 [0.000, 3.000], mean observation: -0.042 [-0.969, 0.925], loss: 7.985006, mean_absolute_error: 44.897568, mean_q: 57.718529\n",
      " 56661/100000: episode: 96, duration: 4.413s, episode steps: 1000, steps per second: 227, episode reward: -228.812, mean reward: -0.229 [-4.737, 5.438], mean action: 1.792 [0.000, 3.000], mean observation: -0.012 [-0.852, 0.973], loss: 7.079536, mean_absolute_error: 44.861561, mean_q: 57.892235\n",
      " 57661/100000: episode: 97, duration: 4.529s, episode steps: 1000, steps per second: 221, episode reward: -119.144, mean reward: -0.119 [-12.125, 13.231], mean action: 1.709 [0.000, 3.000], mean observation: -0.053 [-0.897, 1.000], loss: 6.951335, mean_absolute_error: 44.580784, mean_q: 57.591671\n",
      " 58117/100000: episode: 98, duration: 1.985s, episode steps: 456, steps per second: 230, episode reward: 109.119, mean reward: 0.239 [-12.617, 100.000], mean action: 1.476 [0.000, 3.000], mean observation: 0.009 [-0.555, 1.000], loss: 6.967068, mean_absolute_error: 44.378571, mean_q: 57.254429\n",
      " 59117/100000: episode: 99, duration: 4.453s, episode steps: 1000, steps per second: 225, episode reward: -116.100, mean reward: -0.116 [-6.577, 5.249], mean action: 1.739 [0.000, 3.000], mean observation: -0.043 [-0.818, 0.938], loss: 5.932833, mean_absolute_error: 44.544811, mean_q: 57.547680\n",
      " 60117/100000: episode: 100, duration: 5.009s, episode steps: 1000, steps per second: 200, episode reward: -91.165, mean reward: -0.091 [-6.191, 5.544], mean action: 1.677 [0.000, 3.000], mean observation: -0.039 [-0.826, 1.011], loss: 5.636583, mean_absolute_error: 44.064259, mean_q: 57.067211\n",
      " 61117/100000: episode: 101, duration: 4.926s, episode steps: 1000, steps per second: 203, episode reward: -84.820, mean reward: -0.085 [-12.095, 16.200], mean action: 1.678 [0.000, 3.000], mean observation: -0.005 [-0.552, 1.142], loss: 6.961140, mean_absolute_error: 43.539162, mean_q: 56.339508\n",
      " 62117/100000: episode: 102, duration: 4.664s, episode steps: 1000, steps per second: 214, episode reward: -18.280, mean reward: -0.018 [-19.386, 19.530], mean action: 1.615 [0.000, 3.000], mean observation: 0.058 [-0.556, 1.000], loss: 5.787303, mean_absolute_error: 43.507683, mean_q: 56.192841\n",
      " 62322/100000: episode: 103, duration: 0.742s, episode steps: 205, steps per second: 276, episode reward: -267.907, mean reward: -1.307 [-100.000, 22.444], mean action: 2.161 [0.000, 3.000], mean observation: -0.009 [-0.658, 1.655], loss: 9.551622, mean_absolute_error: 43.662613, mean_q: 56.531689\n",
      " 62942/100000: episode: 104, duration: 2.747s, episode steps: 620, steps per second: 226, episode reward: -239.355, mean reward: -0.386 [-100.000, 40.628], mean action: 1.734 [0.000, 3.000], mean observation: 0.007 [-1.749, 1.252], loss: 4.713546, mean_absolute_error: 43.730209, mean_q: 56.388798\n",
      " 63133/100000: episode: 105, duration: 0.689s, episode steps: 191, steps per second: 277, episode reward: -84.049, mean reward: -0.440 [-100.000, 13.263], mean action: 1.634 [0.000, 3.000], mean observation: 0.008 [-1.223, 1.000], loss: 4.918898, mean_absolute_error: 43.365746, mean_q: 56.099056\n",
      " 63693/100000: episode: 106, duration: 2.633s, episode steps: 560, steps per second: 213, episode reward: 138.181, mean reward: 0.247 [-18.858, 100.000], mean action: 1.221 [0.000, 3.000], mean observation: 0.064 [-1.071, 1.000], loss: 8.997440, mean_absolute_error: 43.252728, mean_q: 55.539047\n",
      " 64693/100000: episode: 107, duration: 5.663s, episode steps: 1000, steps per second: 177, episode reward: -92.010, mean reward: -0.092 [-5.465, 5.491], mean action: 1.797 [0.000, 3.000], mean observation: -0.031 [-0.610, 1.004], loss: 5.686323, mean_absolute_error: 42.673187, mean_q: 54.595547\n",
      " 65123/100000: episode: 108, duration: 1.797s, episode steps: 430, steps per second: 239, episode reward: 171.514, mean reward: 0.399 [-20.037, 100.000], mean action: 1.228 [0.000, 3.000], mean observation: 0.090 [-1.175, 1.000], loss: 4.477831, mean_absolute_error: 42.175110, mean_q: 53.902000\n",
      " 65899/100000: episode: 109, duration: 3.362s, episode steps: 776, steps per second: 231, episode reward: 210.287, mean reward: 0.271 [-21.887, 100.000], mean action: 1.317 [0.000, 3.000], mean observation: 0.122 [-0.947, 1.482], loss: 8.500028, mean_absolute_error: 41.834263, mean_q: 53.068790\n",
      " 66318/100000: episode: 110, duration: 1.625s, episode steps: 419, steps per second: 258, episode reward: 165.196, mean reward: 0.394 [-18.725, 100.000], mean action: 1.284 [0.000, 3.000], mean observation: 0.080 [-0.684, 1.000], loss: 8.100353, mean_absolute_error: 41.444901, mean_q: 52.782345\n",
      " 66457/100000: episode: 111, duration: 0.468s, episode steps: 139, steps per second: 297, episode reward: -108.194, mean reward: -0.778 [-100.000, 14.694], mean action: 1.727 [0.000, 3.000], mean observation: -0.069 [-1.147, 1.000], loss: 6.937970, mean_absolute_error: 41.002838, mean_q: 52.686111\n",
      " 66640/100000: episode: 112, duration: 0.627s, episode steps: 183, steps per second: 292, episode reward: -108.716, mean reward: -0.594 [-100.000, 10.533], mean action: 1.678 [0.000, 3.000], mean observation: -0.084 [-1.561, 1.000], loss: 5.717927, mean_absolute_error: 41.096638, mean_q: 51.817608\n"
     ]
    },
    {
     "name": "stdout",
     "output_type": "stream",
     "text": [
      " 67121/100000: episode: 113, duration: 1.815s, episode steps: 481, steps per second: 265, episode reward: 104.548, mean reward: 0.217 [-10.836, 100.000], mean action: 1.630 [0.000, 3.000], mean observation: 0.009 [-0.766, 1.000], loss: 7.074313, mean_absolute_error: 40.847324, mean_q: 52.365242\n",
      " 67221/100000: episode: 114, duration: 0.375s, episode steps: 100, steps per second: 266, episode reward: -50.587, mean reward: -0.506 [-100.000, 15.386], mean action: 1.700 [0.000, 3.000], mean observation: -0.116 [-0.923, 1.000], loss: 6.216272, mean_absolute_error: 40.760307, mean_q: 52.165874\n",
      " 67370/100000: episode: 115, duration: 0.541s, episode steps: 149, steps per second: 276, episode reward: -137.502, mean reward: -0.923 [-100.000, 11.496], mean action: 1.826 [0.000, 3.000], mean observation: -0.022 [-1.209, 1.000], loss: 3.885887, mean_absolute_error: 40.966251, mean_q: 53.235687\n",
      " 67721/100000: episode: 116, duration: 1.358s, episode steps: 351, steps per second: 258, episode reward: 153.216, mean reward: 0.437 [-11.611, 100.000], mean action: 1.085 [0.000, 3.000], mean observation: 0.024 [-1.212, 1.000], loss: 6.370631, mean_absolute_error: 40.944134, mean_q: 52.551399\n",
      " 68062/100000: episode: 117, duration: 1.329s, episode steps: 341, steps per second: 257, episode reward: -190.280, mean reward: -0.558 [-100.000, 17.851], mean action: 2.103 [0.000, 3.000], mean observation: 0.018 [-0.978, 1.000], loss: 8.892206, mean_absolute_error: 40.656219, mean_q: 52.321281\n",
      " 68395/100000: episode: 118, duration: 1.289s, episode steps: 333, steps per second: 258, episode reward: 84.858, mean reward: 0.255 [-14.073, 100.000], mean action: 1.763 [0.000, 3.000], mean observation: 0.004 [-0.726, 1.000], loss: 7.046099, mean_absolute_error: 40.453716, mean_q: 52.137417\n",
      " 69395/100000: episode: 119, duration: 4.552s, episode steps: 1000, steps per second: 220, episode reward: -40.150, mean reward: -0.040 [-19.832, 22.133], mean action: 1.529 [0.000, 3.000], mean observation: 0.048 [-0.855, 1.000], loss: 6.579983, mean_absolute_error: 40.404259, mean_q: 51.991306\n",
      " 70395/100000: episode: 120, duration: 4.809s, episode steps: 1000, steps per second: 208, episode reward: -100.870, mean reward: -0.101 [-6.087, 4.827], mean action: 1.594 [0.000, 3.000], mean observation: 0.030 [-0.503, 0.954], loss: 8.202541, mean_absolute_error: 39.937366, mean_q: 51.691833\n",
      " 71060/100000: episode: 121, duration: 3.032s, episode steps: 665, steps per second: 219, episode reward: 147.529, mean reward: 0.222 [-6.614, 100.000], mean action: 1.594 [0.000, 3.000], mean observation: 0.068 [-0.532, 1.000], loss: 7.181895, mean_absolute_error: 39.829758, mean_q: 51.245995\n",
      " 71709/100000: episode: 122, duration: 3.114s, episode steps: 649, steps per second: 208, episode reward: 122.920, mean reward: 0.189 [-18.515, 100.000], mean action: 1.499 [0.000, 3.000], mean observation: 0.050 [-0.503, 1.000], loss: 7.084940, mean_absolute_error: 39.675362, mean_q: 51.432949\n",
      " 71958/100000: episode: 123, duration: 0.915s, episode steps: 249, steps per second: 272, episode reward: -91.369, mean reward: -0.367 [-100.000, 7.080], mean action: 1.743 [0.000, 3.000], mean observation: -0.059 [-1.050, 1.000], loss: 4.483274, mean_absolute_error: 39.034985, mean_q: 50.446915\n",
      " 72958/100000: episode: 124, duration: 5.186s, episode steps: 1000, steps per second: 193, episode reward: 17.804, mean reward: 0.018 [-17.859, 20.666], mean action: 1.886 [0.000, 3.000], mean observation: 0.133 [-0.538, 1.000], loss: 5.344292, mean_absolute_error: 39.229710, mean_q: 50.588436\n",
      " 73958/100000: episode: 125, duration: 4.629s, episode steps: 1000, steps per second: 216, episode reward: -40.422, mean reward: -0.040 [-19.532, 13.876], mean action: 1.626 [0.000, 3.000], mean observation: 0.040 [-1.095, 1.108], loss: 8.352998, mean_absolute_error: 39.098274, mean_q: 50.036228\n",
      " 74888/100000: episode: 126, duration: 4.281s, episode steps: 930, steps per second: 217, episode reward: 102.521, mean reward: 0.110 [-18.969, 100.000], mean action: 1.472 [0.000, 3.000], mean observation: 0.052 [-1.152, 1.000], loss: 6.752605, mean_absolute_error: 38.953053, mean_q: 50.205738\n",
      " 75757/100000: episode: 127, duration: 4.168s, episode steps: 869, steps per second: 209, episode reward: 80.950, mean reward: 0.093 [-9.014, 100.000], mean action: 1.494 [0.000, 3.000], mean observation: 0.047 [-0.416, 1.000], loss: 5.481102, mean_absolute_error: 38.471466, mean_q: 49.662434\n",
      " 76742/100000: episode: 128, duration: 4.670s, episode steps: 985, steps per second: 211, episode reward: 124.042, mean reward: 0.126 [-19.814, 100.000], mean action: 1.329 [0.000, 3.000], mean observation: 0.107 [-0.797, 1.000], loss: 6.057560, mean_absolute_error: 38.632675, mean_q: 49.902714\n",
      " 77621/100000: episode: 129, duration: 3.684s, episode steps: 879, steps per second: 239, episode reward: 157.930, mean reward: 0.180 [-21.054, 100.000], mean action: 2.000 [0.000, 3.000], mean observation: 0.154 [-0.722, 1.000], loss: 5.849334, mean_absolute_error: 38.807167, mean_q: 49.973663\n",
      " 78077/100000: episode: 130, duration: 1.791s, episode steps: 456, steps per second: 255, episode reward: -227.318, mean reward: -0.499 [-100.000, 3.211], mean action: 1.550 [0.000, 3.000], mean observation: -0.009 [-1.001, 1.109], loss: 6.449456, mean_absolute_error: 38.361900, mean_q: 49.824638\n",
      " 79023/100000: episode: 131, duration: 4.175s, episode steps: 946, steps per second: 227, episode reward: 146.482, mean reward: 0.155 [-19.930, 100.000], mean action: 1.549 [0.000, 3.000], mean observation: 0.108 [-0.914, 1.000], loss: 5.723627, mean_absolute_error: 38.376171, mean_q: 50.038239\n",
      " 79831/100000: episode: 132, duration: 3.592s, episode steps: 808, steps per second: 225, episode reward: 159.011, mean reward: 0.197 [-10.987, 100.000], mean action: 1.485 [0.000, 3.000], mean observation: 0.107 [-1.113, 1.018], loss: 5.966568, mean_absolute_error: 38.475094, mean_q: 49.898777\n",
      " 80236/100000: episode: 133, duration: 1.505s, episode steps: 405, steps per second: 269, episode reward: 222.638, mean reward: 0.550 [-8.853, 100.000], mean action: 1.220 [0.000, 3.000], mean observation: 0.118 [-0.588, 1.000], loss: 4.996732, mean_absolute_error: 38.689613, mean_q: 50.347462\n",
      " 80854/100000: episode: 134, duration: 2.533s, episode steps: 618, steps per second: 244, episode reward: 171.326, mean reward: 0.277 [-8.251, 100.000], mean action: 1.615 [0.000, 3.000], mean observation: 0.052 [-0.535, 1.000], loss: 7.373523, mean_absolute_error: 38.757179, mean_q: 50.579967\n",
      " 81719/100000: episode: 135, duration: 3.689s, episode steps: 865, steps per second: 234, episode reward: -282.305, mean reward: -0.326 [-100.000, 21.454], mean action: 1.194 [0.000, 3.000], mean observation: 0.162 [-0.739, 1.047], loss: 5.961592, mean_absolute_error: 39.261040, mean_q: 51.290668\n",
      " 82719/100000: episode: 136, duration: 4.819s, episode steps: 1000, steps per second: 208, episode reward: 89.361, mean reward: 0.089 [-19.442, 24.474], mean action: 1.060 [0.000, 3.000], mean observation: 0.172 [-0.865, 1.000], loss: 5.314068, mean_absolute_error: 39.127750, mean_q: 50.737648\n",
      " 83413/100000: episode: 137, duration: 3.101s, episode steps: 694, steps per second: 224, episode reward: 180.197, mean reward: 0.260 [-19.182, 100.000], mean action: 1.591 [0.000, 3.000], mean observation: 0.132 [-0.685, 1.000], loss: 5.591554, mean_absolute_error: 39.689396, mean_q: 51.444622\n",
      " 84126/100000: episode: 138, duration: 2.969s, episode steps: 713, steps per second: 240, episode reward: 122.855, mean reward: 0.172 [-20.798, 100.000], mean action: 1.926 [0.000, 3.000], mean observation: 0.062 [-0.659, 1.000], loss: 6.360074, mean_absolute_error: 39.767067, mean_q: 51.489063\n",
      " 84551/100000: episode: 139, duration: 1.587s, episode steps: 425, steps per second: 268, episode reward: 226.696, mean reward: 0.533 [-4.414, 100.000], mean action: 1.546 [0.000, 3.000], mean observation: 0.043 [-0.917, 1.231], loss: 5.617634, mean_absolute_error: 39.963364, mean_q: 51.594944\n",
      " 85000/100000: episode: 140, duration: 1.803s, episode steps: 449, steps per second: 249, episode reward: 229.437, mean reward: 0.511 [-11.087, 100.000], mean action: 1.325 [0.000, 3.000], mean observation: 0.124 [-0.739, 1.000], loss: 5.855774, mean_absolute_error: 39.957561, mean_q: 51.732819\n"
     ]
    },
    {
     "name": "stdout",
     "output_type": "stream",
     "text": [
      " 85556/100000: episode: 141, duration: 2.124s, episode steps: 556, steps per second: 262, episode reward: 194.639, mean reward: 0.350 [-17.990, 100.000], mean action: 1.586 [0.000, 3.000], mean observation: 0.112 [-0.611, 1.024], loss: 6.560996, mean_absolute_error: 40.203770, mean_q: 52.181370\n",
      " 85938/100000: episode: 142, duration: 1.518s, episode steps: 382, steps per second: 252, episode reward: 183.969, mean reward: 0.482 [-17.988, 100.000], mean action: 1.702 [0.000, 3.000], mean observation: 0.035 [-0.542, 1.000], loss: 3.605568, mean_absolute_error: 39.854256, mean_q: 51.797897\n",
      " 86938/100000: episode: 143, duration: 4.312s, episode steps: 1000, steps per second: 232, episode reward: 68.356, mean reward: 0.068 [-20.402, 22.532], mean action: 1.650 [0.000, 3.000], mean observation: 0.101 [-0.828, 1.000], loss: 5.417536, mean_absolute_error: 39.814342, mean_q: 51.795753\n",
      " 87938/100000: episode: 144, duration: 4.465s, episode steps: 1000, steps per second: 224, episode reward: -43.042, mean reward: -0.043 [-10.408, 12.808], mean action: 1.825 [0.000, 3.000], mean observation: 0.009 [-0.924, 1.000], loss: 5.810810, mean_absolute_error: 40.103306, mean_q: 51.991306\n",
      " 88656/100000: episode: 145, duration: 3.058s, episode steps: 718, steps per second: 235, episode reward: 198.780, mean reward: 0.277 [-11.221, 100.000], mean action: 1.486 [0.000, 3.000], mean observation: 0.105 [-0.732, 1.000], loss: 5.851983, mean_absolute_error: 40.058693, mean_q: 51.954769\n",
      " 88939/100000: episode: 146, duration: 1.084s, episode steps: 283, steps per second: 261, episode reward: 224.842, mean reward: 0.794 [-6.965, 100.000], mean action: 1.509 [0.000, 3.000], mean observation: 0.043 [-0.628, 1.000], loss: 5.662218, mean_absolute_error: 39.839516, mean_q: 51.510029\n",
      " 89641/100000: episode: 147, duration: 3.003s, episode steps: 702, steps per second: 234, episode reward: 167.468, mean reward: 0.239 [-19.744, 100.000], mean action: 1.842 [0.000, 3.000], mean observation: 0.143 [-0.559, 1.223], loss: 6.966951, mean_absolute_error: 39.559040, mean_q: 51.476753\n",
      " 90345/100000: episode: 148, duration: 3.012s, episode steps: 704, steps per second: 234, episode reward: 126.545, mean reward: 0.180 [-20.227, 100.000], mean action: 1.727 [0.000, 3.000], mean observation: 0.093 [-0.767, 1.000], loss: 6.128984, mean_absolute_error: 39.396694, mean_q: 51.234447\n",
      " 90463/100000: episode: 149, duration: 0.393s, episode steps: 118, steps per second: 301, episode reward: -145.323, mean reward: -1.232 [-100.000, 2.852], mean action: 1.542 [0.000, 3.000], mean observation: 0.165 [-0.792, 1.007], loss: 5.514525, mean_absolute_error: 38.889011, mean_q: 50.738762\n",
      " 90900/100000: episode: 150, duration: 1.721s, episode steps: 437, steps per second: 254, episode reward: 175.431, mean reward: 0.401 [-17.253, 100.000], mean action: 1.465 [0.000, 3.000], mean observation: 0.071 [-0.844, 1.000], loss: 5.468071, mean_absolute_error: 39.000885, mean_q: 51.088081\n",
      " 91416/100000: episode: 151, duration: 2.109s, episode steps: 516, steps per second: 245, episode reward: 128.886, mean reward: 0.250 [-8.730, 100.000], mean action: 1.684 [0.000, 3.000], mean observation: 0.026 [-0.879, 1.000], loss: 6.329473, mean_absolute_error: 38.805779, mean_q: 50.951649\n",
      " 92095/100000: episode: 152, duration: 3.117s, episode steps: 679, steps per second: 218, episode reward: 141.524, mean reward: 0.208 [-18.758, 100.000], mean action: 1.455 [0.000, 3.000], mean observation: 0.118 [-0.592, 1.000], loss: 7.548132, mean_absolute_error: 38.757256, mean_q: 50.619041\n",
      " 92579/100000: episode: 153, duration: 1.942s, episode steps: 484, steps per second: 249, episode reward: 102.068, mean reward: 0.211 [-18.169, 100.000], mean action: 2.021 [0.000, 3.000], mean observation: 0.062 [-0.653, 1.000], loss: 6.496876, mean_absolute_error: 38.677872, mean_q: 50.312042\n",
      " 92922/100000: episode: 154, duration: 1.264s, episode steps: 343, steps per second: 271, episode reward: 131.513, mean reward: 0.383 [-19.627, 100.000], mean action: 1.274 [0.000, 3.000], mean observation: 0.021 [-0.617, 1.000], loss: 5.117312, mean_absolute_error: 38.474796, mean_q: 49.836098\n",
      " 93374/100000: episode: 155, duration: 1.696s, episode steps: 452, steps per second: 267, episode reward: 116.322, mean reward: 0.257 [-19.352, 100.000], mean action: 1.451 [0.000, 3.000], mean observation: 0.037 [-0.624, 1.000], loss: 5.187055, mean_absolute_error: 38.349205, mean_q: 49.785770\n",
      " 93818/100000: episode: 156, duration: 1.696s, episode steps: 444, steps per second: 262, episode reward: 169.550, mean reward: 0.382 [-14.138, 100.000], mean action: 1.403 [0.000, 3.000], mean observation: -0.008 [-0.691, 1.000], loss: 6.459397, mean_absolute_error: 38.026714, mean_q: 49.169643\n",
      " 94813/100000: episode: 157, duration: 4.543s, episode steps: 995, steps per second: 219, episode reward: 136.539, mean reward: 0.137 [-19.377, 100.000], mean action: 1.121 [0.000, 3.000], mean observation: 0.097 [-0.616, 1.000], loss: 6.317708, mean_absolute_error: 38.250870, mean_q: 49.453556\n",
      " 95327/100000: episode: 158, duration: 1.978s, episode steps: 514, steps per second: 260, episode reward: 135.583, mean reward: 0.264 [-19.702, 100.000], mean action: 1.798 [0.000, 3.000], mean observation: 0.060 [-0.795, 1.000], loss: 6.042405, mean_absolute_error: 37.871704, mean_q: 49.164776\n",
      " 95859/100000: episode: 159, duration: 2.184s, episode steps: 532, steps per second: 244, episode reward: 165.432, mean reward: 0.311 [-7.988, 100.000], mean action: 1.630 [0.000, 3.000], mean observation: 0.017 [-0.664, 1.000], loss: 4.917986, mean_absolute_error: 37.771095, mean_q: 48.698544\n",
      " 96267/100000: episode: 160, duration: 1.580s, episode steps: 408, steps per second: 258, episode reward: 193.879, mean reward: 0.475 [-17.631, 100.000], mean action: 1.164 [0.000, 3.000], mean observation: 0.080 [-0.655, 1.000], loss: 9.129398, mean_absolute_error: 37.862946, mean_q: 48.604004\n",
      " 96720/100000: episode: 161, duration: 1.758s, episode steps: 453, steps per second: 258, episode reward: 175.432, mean reward: 0.387 [-4.794, 100.000], mean action: 1.585 [0.000, 3.000], mean observation: 0.045 [-0.583, 1.000], loss: 6.304197, mean_absolute_error: 37.654240, mean_q: 49.031288\n",
      " 96805/100000: episode: 162, duration: 0.285s, episode steps: 85, steps per second: 299, episode reward: -142.819, mean reward: -1.680 [-100.000, 24.788], mean action: 0.718 [0.000, 3.000], mean observation: 0.112 [-1.892, 1.895], loss: 4.090473, mean_absolute_error: 37.281143, mean_q: 48.750988\n",
      " 97126/100000: episode: 163, duration: 1.184s, episode steps: 321, steps per second: 271, episode reward: 208.664, mean reward: 0.650 [-17.728, 100.000], mean action: 1.629 [0.000, 3.000], mean observation: 0.067 [-0.693, 1.011], loss: 5.068755, mean_absolute_error: 37.444195, mean_q: 48.477936\n",
      " 97502/100000: episode: 164, duration: 1.465s, episode steps: 376, steps per second: 257, episode reward: 181.193, mean reward: 0.482 [-9.853, 100.000], mean action: 1.269 [0.000, 3.000], mean observation: 0.103 [-0.560, 1.000], loss: 6.755285, mean_absolute_error: 37.667160, mean_q: 49.152344\n",
      " 97821/100000: episode: 165, duration: 1.185s, episode steps: 319, steps per second: 269, episode reward: 167.144, mean reward: 0.524 [-4.403, 100.000], mean action: 1.567 [0.000, 3.000], mean observation: 0.055 [-0.596, 1.000], loss: 5.286702, mean_absolute_error: 37.597462, mean_q: 48.856094\n",
      " 98431/100000: episode: 166, duration: 2.454s, episode steps: 610, steps per second: 249, episode reward: -276.197, mean reward: -0.453 [-100.000, 20.290], mean action: 1.893 [0.000, 3.000], mean observation: 0.046 [-0.764, 2.079], loss: 5.625789, mean_absolute_error: 37.858223, mean_q: 49.325657\n",
      " 98851/100000: episode: 167, duration: 1.683s, episode steps: 420, steps per second: 250, episode reward: 131.735, mean reward: 0.314 [-8.812, 100.000], mean action: 1.550 [0.000, 3.000], mean observation: 0.037 [-0.828, 1.000], loss: 5.489151, mean_absolute_error: 37.922443, mean_q: 49.110294\n",
      " 99253/100000: episode: 168, duration: 1.557s, episode steps: 402, steps per second: 258, episode reward: 150.105, mean reward: 0.373 [-12.885, 100.000], mean action: 1.326 [0.000, 3.000], mean observation: 0.079 [-0.885, 1.000], loss: 5.532248, mean_absolute_error: 37.927307, mean_q: 49.464478\n"
     ]
    },
    {
     "name": "stdout",
     "output_type": "stream",
     "text": [
      "done, took 443.065 seconds\n"
     ]
    },
    {
     "data": {
      "text/plain": [
       "<keras.callbacks.History at 0x11f6dde48>"
      ]
     },
     "execution_count": 5,
     "metadata": {},
     "output_type": "execute_result"
    }
   ],
   "source": [
    "# Train the model\n",
    "dqn.fit(env, nb_steps=100000, visualize=False, verbose=2)"
   ]
  },
  {
   "cell_type": "code",
   "execution_count": 8,
   "metadata": {
    "collapsed": true
   },
   "outputs": [],
   "source": [
    "# After training is done, we save the final weights.\n",
    "# dqn.save_weights('dqn_{}_weights.h5f'.format(ENV_NAME), overwrite = True)"
   ]
  },
  {
   "cell_type": "code",
   "execution_count": 9,
   "metadata": {},
   "outputs": [],
   "source": [
    "# After training is done, we save the final weights.\n",
    "dqn.load_weights('dqn_{}_weights.h5f'.format(ENV_NAME))"
   ]
  },
  {
   "cell_type": "code",
   "execution_count": 10,
   "metadata": {
    "collapsed": true
   },
   "outputs": [],
   "source": [
    "# Redirect stdout to capture test results\n",
    "old_stdout = sys.stdout\n",
    "sys.stdout = mystdout = io.StringIO()"
   ]
  },
  {
   "cell_type": "code",
   "execution_count": 11,
   "metadata": {},
   "outputs": [
    {
     "data": {
      "text/plain": [
       "<keras.callbacks.History at 0x12224eeb8>"
      ]
     },
     "execution_count": 11,
     "metadata": {},
     "output_type": "execute_result"
    }
   ],
   "source": [
    "# Evaluate our algorithm for a few episodes.\n",
    "dqn.test(env, nb_episodes=200, visualize=False)"
   ]
  },
  {
   "cell_type": "code",
   "execution_count": 12,
   "metadata": {
    "collapsed": true
   },
   "outputs": [],
   "source": [
    "# Reset stdout\n",
    "sys.stdout = old_stdout"
   ]
  },
  {
   "cell_type": "code",
   "execution_count": 13,
   "metadata": {
    "collapsed": true
   },
   "outputs": [],
   "source": [
    "results_text = mystdout.getvalue()"
   ]
  },
  {
   "cell_type": "code",
   "execution_count": 14,
   "metadata": {},
   "outputs": [
    {
     "name": "stdout",
     "output_type": "stream",
     "text": [
      "results\n",
      "Testing for 200 episodes ...\n",
      "Episode 1: reward: 178.699, steps: 603\n",
      "Episode 2: reward: 156.761, steps: 436\n",
      "Episode 3: reward: 202.729, steps: 420\n",
      "Episode 4: reward: 137.160, steps: 566\n",
      "Episode 5: reward: 129.569, steps: 507\n",
      "Episode 6: reward: 161.740, steps: 692\n",
      "Episode 7: reward: 87.896, steps: 991\n",
      "Episode 8: reward: 113.709, steps: 863\n",
      "Episode 9: reward: 140.228, steps: 847\n",
      "Episode 10: reward: 156.817, steps: 543\n",
      "Episode 11: reward: 177.192, steps: 434\n",
      "Episode 12: reward: 67.031, steps: 1000\n",
      "Episode 13: reward: -151.882, steps: 241\n",
      "Episode 14: reward: 115.743, steps: 821\n",
      "Episode 15: reward: -422.611, steps: 772\n",
      "Episode 16: reward: 134.150, steps: 647\n",
      "Episode 17: reward: 178.546, steps: 518\n",
      "Episode 18: reward: 183.691, steps: 576\n",
      "Episode 19: reward: 136.796, steps: 516\n",
      "Episode 20: reward: 72.357, steps: 1000\n",
      "Episode 21: reward: -43.165, steps: 344\n",
      "Episode 22: reward: 138.292, steps: 828\n",
      "Episode 23: reward: 161.726, steps: 777\n",
      "Episode 24: reward: 175.101, steps: 514\n",
      "Episode 25: reward: 180.534, steps: 556\n",
      "Episode 26: reward: 77.979, steps: 471\n",
      "Episode 27: reward: 231.800, steps: 279\n",
      "Episode 28: reward: 28.704, steps: 1000\n",
      "Episode 29: reward: 140.056, steps: 824\n",
      "Episode 30: reward: 112.600, steps: 651\n",
      "Episode 31: reward: 148.378, steps: 842\n",
      "Episode 32: reward: 121.878, steps: 828\n",
      "Episode 33: reward: 146.463, steps: 626\n",
      "Episode 34: reward: 150.137, steps: 475\n",
      "Episode 35: reward: 133.317, steps: 898\n",
      "Episode 36: reward: -29.534, steps: 1000\n",
      "Episode 37: reward: 118.071, steps: 532\n",
      "Episode 38: reward: -246.507, steps: 358\n",
      "Episode 39: reward: 135.039, steps: 891\n",
      "Episode 40: reward: 227.467, steps: 428\n",
      "Episode 41: reward: 127.821, steps: 982\n",
      "Episode 42: reward: 138.060, steps: 330\n",
      "Episode 43: reward: 125.338, steps: 579\n",
      "Episode 44: reward: 0.470, steps: 1000\n",
      "Episode 45: reward: 29.845, steps: 1000\n",
      "Episode 46: reward: 210.027, steps: 753\n",
      "Episode 47: reward: 18.812, steps: 1000\n",
      "Episode 48: reward: 121.203, steps: 644\n",
      "Episode 49: reward: 133.563, steps: 621\n",
      "Episode 50: reward: 206.051, steps: 274\n",
      "Episode 51: reward: 91.107, steps: 662\n",
      "Episode 52: reward: 149.884, steps: 338\n",
      "Episode 53: reward: 113.566, steps: 730\n",
      "Episode 54: reward: 82.187, steps: 524\n",
      "Episode 55: reward: 118.789, steps: 545\n",
      "Episode 56: reward: 154.106, steps: 640\n",
      "Episode 57: reward: 145.614, steps: 307\n",
      "Episode 58: reward: 134.102, steps: 548\n",
      "Episode 59: reward: 125.147, steps: 434\n",
      "Episode 60: reward: -171.551, steps: 569\n",
      "Episode 61: reward: 141.653, steps: 693\n",
      "Episode 62: reward: 155.336, steps: 573\n",
      "Episode 63: reward: 165.257, steps: 583\n",
      "Episode 64: reward: 155.216, steps: 566\n",
      "Episode 65: reward: 138.559, steps: 589\n",
      "Episode 66: reward: 24.270, steps: 1000\n",
      "Episode 67: reward: 125.979, steps: 387\n",
      "Episode 68: reward: 138.825, steps: 700\n",
      "Episode 69: reward: 110.683, steps: 804\n",
      "Episode 70: reward: 71.103, steps: 1000\n",
      "Episode 71: reward: 46.133, steps: 1000\n",
      "Episode 72: reward: 51.116, steps: 1000\n",
      "Episode 73: reward: 139.033, steps: 519\n",
      "Episode 74: reward: 139.524, steps: 333\n",
      "Episode 75: reward: 200.587, steps: 381\n",
      "Episode 76: reward: 125.184, steps: 653\n",
      "Episode 77: reward: -55.509, steps: 298\n",
      "Episode 78: reward: 151.006, steps: 685\n",
      "Episode 79: reward: 63.934, steps: 1000\n",
      "Episode 80: reward: 161.631, steps: 437\n",
      "Episode 81: reward: 186.172, steps: 487\n",
      "Episode 82: reward: 140.470, steps: 639\n",
      "Episode 83: reward: 162.519, steps: 622\n",
      "Episode 84: reward: 138.424, steps: 916\n",
      "Episode 85: reward: 122.799, steps: 418\n",
      "Episode 86: reward: 146.762, steps: 315\n",
      "Episode 87: reward: 175.628, steps: 339\n",
      "Episode 88: reward: 121.376, steps: 654\n",
      "Episode 89: reward: 41.353, steps: 1000\n",
      "Episode 90: reward: 29.204, steps: 1000\n",
      "Episode 91: reward: 89.925, steps: 572\n",
      "Episode 92: reward: 88.538, steps: 599\n",
      "Episode 93: reward: 129.410, steps: 675\n",
      "Episode 94: reward: 134.426, steps: 452\n",
      "Episode 95: reward: 134.116, steps: 713\n",
      "Episode 96: reward: 200.253, steps: 428\n",
      "Episode 97: reward: 47.397, steps: 1000\n",
      "Episode 98: reward: 139.856, steps: 593\n",
      "Episode 99: reward: 131.734, steps: 672\n",
      "Episode 100: reward: 117.993, steps: 348\n",
      "Episode 101: reward: 174.030, steps: 805\n",
      "Episode 102: reward: 156.776, steps: 954\n",
      "Episode 103: reward: 132.891, steps: 336\n",
      "Episode 104: reward: 162.715, steps: 837\n",
      "Episode 105: reward: 154.789, steps: 830\n",
      "Episode 106: reward: 128.657, steps: 523\n",
      "Episode 107: reward: 131.438, steps: 373\n",
      "Episode 108: reward: 137.950, steps: 663\n",
      "Episode 109: reward: 152.297, steps: 390\n",
      "Episode 110: reward: 3.454, steps: 1000\n",
      "Episode 111: reward: 201.027, steps: 729\n",
      "Episode 112: reward: 157.485, steps: 265\n",
      "Episode 113: reward: 175.448, steps: 634\n",
      "Episode 114: reward: 157.135, steps: 526\n",
      "Episode 115: reward: -130.082, steps: 572\n",
      "Episode 116: reward: 96.510, steps: 515\n",
      "Episode 117: reward: 185.575, steps: 685\n",
      "Episode 118: reward: 29.793, steps: 911\n",
      "Episode 119: reward: 99.276, steps: 986\n",
      "Episode 120: reward: 171.065, steps: 857\n",
      "Episode 121: reward: 172.043, steps: 729\n",
      "Episode 122: reward: 167.679, steps: 653\n",
      "Episode 123: reward: 117.485, steps: 586\n",
      "Episode 124: reward: 119.898, steps: 836\n",
      "Episode 125: reward: 160.164, steps: 363\n",
      "Episode 126: reward: 27.741, steps: 1000\n",
      "Episode 127: reward: 150.175, steps: 330\n",
      "Episode 128: reward: -306.814, steps: 570\n",
      "Episode 129: reward: 105.209, steps: 595\n",
      "Episode 130: reward: 128.105, steps: 962\n",
      "Episode 131: reward: 3.019, steps: 1000\n",
      "Episode 132: reward: 50.437, steps: 1000\n",
      "Episode 133: reward: 53.909, steps: 1000\n",
      "Episode 134: reward: 144.750, steps: 603\n",
      "Episode 135: reward: 184.450, steps: 746\n",
      "Episode 136: reward: 141.008, steps: 516\n",
      "Episode 137: reward: 141.321, steps: 890\n",
      "Episode 138: reward: 123.026, steps: 617\n",
      "Episode 139: reward: 124.727, steps: 563\n",
      "Episode 140: reward: 24.772, steps: 1000\n",
      "Episode 141: reward: 163.886, steps: 870\n",
      "Episode 142: reward: 142.994, steps: 284\n",
      "Episode 143: reward: 171.412, steps: 587\n",
      "Episode 144: reward: 93.773, steps: 478\n",
      "Episode 145: reward: 162.508, steps: 517\n",
      "Episode 146: reward: 198.018, steps: 281\n",
      "Episode 147: reward: 136.661, steps: 297\n",
      "Episode 148: reward: 181.086, steps: 572\n",
      "Episode 149: reward: 236.462, steps: 471\n",
      "Episode 150: reward: 206.939, steps: 306\n",
      "Episode 151: reward: -3.956, steps: 1000\n",
      "Episode 152: reward: 177.818, steps: 584\n",
      "Episode 153: reward: -79.982, steps: 235\n",
      "Episode 154: reward: 135.112, steps: 963\n",
      "Episode 155: reward: 111.001, steps: 426\n",
      "Episode 156: reward: 144.492, steps: 652\n",
      "Episode 157: reward: 149.955, steps: 556\n",
      "Episode 158: reward: 178.367, steps: 388\n",
      "Episode 159: reward: 107.723, steps: 717\n",
      "Episode 160: reward: 170.858, steps: 655\n",
      "Episode 161: reward: 163.971, steps: 491\n",
      "Episode 162: reward: 150.346, steps: 328\n",
      "Episode 163: reward: 155.239, steps: 465\n",
      "Episode 164: reward: 47.301, steps: 1000\n",
      "Episode 165: reward: -61.290, steps: 366\n",
      "Episode 166: reward: 32.129, steps: 1000\n",
      "Episode 167: reward: 119.423, steps: 408\n",
      "Episode 168: reward: 137.238, steps: 935\n",
      "Episode 169: reward: -126.995, steps: 307\n",
      "Episode 170: reward: 147.522, steps: 355\n",
      "Episode 171: reward: 137.281, steps: 610\n",
      "Episode 172: reward: 170.908, steps: 513\n",
      "Episode 173: reward: 150.146, steps: 833\n",
      "Episode 174: reward: 23.497, steps: 1000\n",
      "Episode 175: reward: 141.925, steps: 709\n",
      "Episode 176: reward: -105.141, steps: 207\n",
      "Episode 177: reward: 114.381, steps: 530\n",
      "Episode 178: reward: 161.950, steps: 904\n",
      "Episode 179: reward: 120.533, steps: 448\n",
      "Episode 180: reward: 98.035, steps: 493\n",
      "Episode 181: reward: 149.042, steps: 505\n",
      "Episode 182: reward: -223.100, steps: 433\n",
      "Episode 183: reward: 180.435, steps: 410\n",
      "Episode 184: reward: 152.613, steps: 890\n",
      "Episode 185: reward: 124.880, steps: 398\n",
      "Episode 186: reward: 150.685, steps: 754\n",
      "Episode 187: reward: 47.198, steps: 1000\n",
      "Episode 188: reward: 131.109, steps: 344\n",
      "Episode 189: reward: 150.345, steps: 446\n",
      "Episode 190: reward: 168.015, steps: 845\n",
      "Episode 191: reward: 121.811, steps: 345\n",
      "Episode 192: reward: 158.802, steps: 533\n",
      "Episode 193: reward: 167.258, steps: 782\n",
      "Episode 194: reward: 146.215, steps: 631\n",
      "Episode 195: reward: 66.777, steps: 760\n",
      "Episode 196: reward: 144.925, steps: 609\n",
      "Episode 197: reward: 143.745, steps: 804\n",
      "Episode 198: reward: 168.867, steps: 584\n",
      "Episode 199: reward: 52.890, steps: 1000\n",
      "Episode 200: reward: 141.975, steps: 647\n",
      "\n"
     ]
    }
   ],
   "source": [
    "# Print results text\n",
    "print(\"results\")\n",
    "print(results_text)"
   ]
  },
  {
   "cell_type": "code",
   "execution_count": 15,
   "metadata": {
    "collapsed": true
   },
   "outputs": [],
   "source": [
    "# Extact a rewards list from the results\n",
    "total_rewards = list()\n",
    "for idx, line in enumerate(results_text.split('\\n')):\n",
    "    if idx > 0 and len(line) > 1:\n",
    "        reward = float(line.split(':')[2].split(',')[0].strip())\n",
    "        total_rewards.append(reward)"
   ]
  },
  {
   "cell_type": "code",
   "execution_count": 16,
   "metadata": {},
   "outputs": [
    {
     "name": "stdout",
     "output_type": "stream",
     "text": [
      "total rewards [178.699, 156.761, 202.729, 137.16, 129.569, 161.74, 87.896, 113.709, 140.228, 156.817, 177.192, 67.031, -151.882, 115.743, -422.611, 134.15, 178.546, 183.691, 136.796, 72.357, -43.165, 138.292, 161.726, 175.101, 180.534, 77.979, 231.8, 28.704, 140.056, 112.6, 148.378, 121.878, 146.463, 150.137, 133.317, -29.534, 118.071, -246.507, 135.039, 227.467, 127.821, 138.06, 125.338, 0.47, 29.845, 210.027, 18.812, 121.203, 133.563, 206.051, 91.107, 149.884, 113.566, 82.187, 118.789, 154.106, 145.614, 134.102, 125.147, -171.551, 141.653, 155.336, 165.257, 155.216, 138.559, 24.27, 125.979, 138.825, 110.683, 71.103, 46.133, 51.116, 139.033, 139.524, 200.587, 125.184, -55.509, 151.006, 63.934, 161.631, 186.172, 140.47, 162.519, 138.424, 122.799, 146.762, 175.628, 121.376, 41.353, 29.204, 89.925, 88.538, 129.41, 134.426, 134.116, 200.253, 47.397, 139.856, 131.734, 117.993, 174.03, 156.776, 132.891, 162.715, 154.789, 128.657, 131.438, 137.95, 152.297, 3.454, 201.027, 157.485, 175.448, 157.135, -130.082, 96.51, 185.575, 29.793, 99.276, 171.065, 172.043, 167.679, 117.485, 119.898, 160.164, 27.741, 150.175, -306.814, 105.209, 128.105, 3.019, 50.437, 53.909, 144.75, 184.45, 141.008, 141.321, 123.026, 124.727, 24.772, 163.886, 142.994, 171.412, 93.773, 162.508, 198.018, 136.661, 181.086, 236.462, 206.939, -3.956, 177.818, -79.982, 135.112, 111.001, 144.492, 149.955, 178.367, 107.723, 170.858, 163.971, 150.346, 155.239, 47.301, -61.29, 32.129, 119.423, 137.238, -126.995, 147.522, 137.281, 170.908, 150.146, 23.497, 141.925, -105.141, 114.381, 161.95, 120.533, 98.035, 149.042, -223.1, 180.435, 152.613, 124.88, 150.685, 47.198, 131.109, 150.345, 168.015, 121.811, 158.802, 167.258, 146.215, 66.777, 144.925, 143.745, 168.867, 52.89, 141.975]\n",
      "average total reward 110.330095\n"
     ]
    }
   ],
   "source": [
    "# Print rewards and average\n",
    "print(\"total rewards\", total_rewards)\n",
    "print(\"average total reward\", np.mean(total_rewards))"
   ]
  },
  {
   "cell_type": "code",
   "execution_count": 17,
   "metadata": {
    "collapsed": true
   },
   "outputs": [],
   "source": [
    "# Write total rewards to file\n",
    "f = open(\"lunarlander_rl_rewards.csv\",'w')\n",
    "wr = csv.writer(f)\n",
    "for r in total_rewards:\n",
    "     wr.writerow([r,])\n",
    "f.close()"
   ]
  },
  {
   "cell_type": "markdown",
   "metadata": {},
   "source": [
    "## conclusion"
   ]
  },
  {
   "attachments": {},
   "cell_type": "markdown",
   "metadata": {},
   "source": [
    "This experiment compares the performance of models that are trained by different methods (machine learning algorithm, deep learning algorithm and reinforcement learning algorithm). After conducting various experiments, it can be concluded that reinforcement learning model performs best on lunar lander, which gets the highest reward score.\n",
    "\n",
    "Machine learning using algorithms to parse data, learn from it, and then use this model to make a determination or prediction. and deep learning achieves great power and flexibility by learning to represent the world as nested hierarchy, While, reinforcement learning is to seek iteratively maximize a certain notion of a numerical reward obtained through continued interaction with its environment. In short, the process of reinforcement learning can be concluded that attempt, make mistakes, learn and master.\n",
    "\n",
    "In general, deep learning algorithm should perform better than traditional machine learning algorithm because it optimizes the features that are extracted, it also learns the feature extraction part, but in this experiment gets an unexpected result(machine learning model is better) due to the small size of training data, deep learning algorithm model should be trained by large number of data, which may cost a lot of time. In traditional machine learning part, I try to compare three algorithms (KNN, Neural Network and Random Forests), and their parameters are tuned by applying grid search strategy, the accuracy of Random Forests is the highest. In deep learning part. I conduct some experiments on adding the number of layers and pooling layer, but the accuracy still remains a low value.I try to increase the size of dataset. Correspondingly, accuracy and execution time are increased. Reinforcement learning is better than deep learning, because their mechanisms are different, reinforcement learning is to take action in an environment so as to maximize some notion of cumulative reward, but deep learning is to seek to iteratively minimize a certain loss function. Dynamical learning mechanism helps reinforcement learning model perform better after training.\n",
    "\n",
    "Expected Performance: Reinforcement Learning > Deep Learning > Machine Learning\n",
    "\n",
    "Actual Performance: Reinforcement Learning > Machine Learning > Deep Learning"
   ]
  },
  {
   "cell_type": "code",
   "execution_count": null,
   "metadata": {
    "collapsed": true
   },
   "outputs": [],
   "source": []
  }
 ],
 "metadata": {
  "kernelspec": {
   "display_name": "Python 3",
   "language": "python",
   "name": "python3"
  },
  "language_info": {
   "codemirror_mode": {
    "name": "ipython",
    "version": 3
   },
   "file_extension": ".py",
   "mimetype": "text/x-python",
   "name": "python",
   "nbconvert_exporter": "python",
   "pygments_lexer": "ipython3",
   "version": "3.6.1"
  }
 },
 "nbformat": 4,
 "nbformat_minor": 1
}
